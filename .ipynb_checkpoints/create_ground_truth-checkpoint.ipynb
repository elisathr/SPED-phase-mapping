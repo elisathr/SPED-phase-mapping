{
 "cells": [
  {
   "cell_type": "markdown",
   "id": "db31650e-1e04-443a-8df3-421ddca60425",
   "metadata": {},
   "source": [
    "# Ground truth"
   ]
  },
  {
   "cell_type": "markdown",
   "id": "780a386f-2c3b-4f6e-9036-dbc9eaa0e229",
   "metadata": {},
   "source": [
    "Three different ground truths were prepared by three different people and then compared to increase the reliability of the ground truth."
   ]
  },
  {
   "cell_type": "code",
   "execution_count": 1,
   "id": "11efbadf-70d7-43d6-b728-832d0494cf20",
   "metadata": {},
   "outputs": [
    {
     "name": "stderr",
     "output_type": "stream",
     "text": [
      "WARNING:silx.opencl.common:Unable to import pyOpenCl. Please install it from: https://pypi.org/project/pyopencl\n"
     ]
    }
   ],
   "source": [
    "%matplotlib tk\n",
    "\n",
    "import hyperspy as hs\n",
    "import pyxem as px\n",
    "from matplotlib import pyplot as plt\n",
    "#matplotlib.use(\"Agg\")\n",
    "import numpy as np\n",
    "import os\n",
    "from tqdm import tqdm\n",
    "from skimage import restoration\n",
    "from matplotlib.colors import LogNorm\n",
    "\n",
    "from numpy import log10\n",
    "\n",
    "from scipy.ndimage import binary_fill_holes, label\n",
    "from scipy import ndimage as ndi\n",
    "from scipy.ndimage import gaussian_filter\n",
    "\n",
    "from skimage.feature import peak_local_max\n",
    "from skimage import data\n",
    "from skimage import img_as_float\n",
    "from skimage.morphology import reconstruction\n",
    "from skimage.measure import label, regionprops\n",
    "from skimage.segmentation import watershed\n",
    "from skimage.filters import sobel, threshold_triangle, threshold_li"
   ]
  },
  {
   "cell_type": "markdown",
   "id": "458f21b3-889d-47ad-a7e3-61d57d87f1e0",
   "metadata": {},
   "source": [
    "## Define cmap"
   ]
  },
  {
   "cell_type": "code",
   "execution_count": 2,
   "id": "a654bf4a-b8bc-477b-b499-bce5f658d924",
   "metadata": {},
   "outputs": [],
   "source": [
    "from matplotlib.colors import to_rgba\n",
    "from matplotlib.colors import LinearSegmentedColormap\n",
    "\n",
    "color_names = ['linen', 'darkorange', 'dodgerblue', 'forestgreen']\n",
    "colors = [to_rgba(c) for c in color_names]\n",
    "\n",
    "cmap = LinearSegmentedColormap.from_list('gt_cmap', colors, N=len(color_names))"
   ]
  },
  {
   "cell_type": "markdown",
   "id": "924fb6d8-162c-4314-9e96-2fd81d0cc463",
   "metadata": {},
   "source": [
    "## Load dataset"
   ]
  },
  {
   "cell_type": "code",
   "execution_count": 3,
   "id": "1cf476b6-2457-42a2-85c8-4b8404759fd0",
   "metadata": {},
   "outputs": [],
   "source": [
    "os.chdir(r'E:\\Elisabeth\\Al-Cu-Li-Emil\\Final_dataset'.replace('\\\\', '\\\\\\\\'))\n",
    "signal = hs.io.load('SPED_600x600x12_10x10_4p63x4p63_1deg_100Hz_CL12cm_NBD_alpha5_spot1p3_preprocessed.hspy')\n",
    "DP_scale = signal.axes_manager[2].scale"
   ]
  },
  {
   "cell_type": "markdown",
   "id": "8636ac13-eac7-4455-9c31-e0bc9052e11f",
   "metadata": {},
   "source": [
    "## Create ground truths"
   ]
  },
  {
   "cell_type": "markdown",
   "id": "3b8c2489-37cb-4767-abc0-3359bf9db935",
   "metadata": {},
   "source": [
    "### Ground truth #1"
   ]
  },
  {
   "cell_type": "markdown",
   "id": "2cc47a4a-70c9-45e7-987d-9d0ea0eda659",
   "metadata": {},
   "source": [
    "In this approach, a virtual dark-field (VDF) image is created per precipitate phase electron diffraction pattern.\n",
    "vdf_phase_x refers to the VDFs for the two edge on configurations of T1 and $\\theta'$, while vdf_theta_face_on refers to the VDF from $\\theta'$ viewed face on."
   ]
  },
  {
   "cell_type": "markdown",
   "id": "e6d6a73a-1d80-49a2-ba99-54b94f59df13",
   "metadata": {},
   "source": [
    "#### Step 1: Create VDFs based on one reflection per precipitate phase"
   ]
  },
  {
   "cell_type": "code",
   "execution_count": 5,
   "id": "78c1a5a3-360d-4a30-93c7-7e6f0d3bc24a",
   "metadata": {},
   "outputs": [],
   "source": [
    "vdf_T1_1 = signal.get_integrated_intensity(hs.roi.CircleROI(cx=-0.12852, cy=0.46172, r=0.02856, r_inner=0))\n",
    "\n",
    "vdf_T1_2 = signal.get_integrated_intensity(hs.roi.CircleROI(cx=0.44268, cy=0.09996, r=0.02856, r_inner=0))\n",
    "\n",
    "vdf_theta1 = signal.get_integrated_intensity(hs.roi.CircleROI(cx=0.13804, cy=-0.2618, r=0.02856, r_inner=0))\n",
    "\n",
    "vdf_theta2 = signal.get_integrated_intensity(hs.roi.CircleROI(cx=0.00476, cy=0.27132, r=0.02856, r_inner=0))\n",
    "\n",
    "vdf_theta_faceon = signal.get_integrated_intensity(hs.roi.CircleROI(cx=0.34748, cy=0.08092, r=0.0476, r_inner=0))"
   ]
  },
  {
   "cell_type": "code",
   "execution_count": 19,
   "id": "f70fc0cf-083b-437c-828d-085794bf6850",
   "metadata": {},
   "outputs": [],
   "source": [
    "output_directory = r'.\\Final_outputs\\ground_truth'"
   ]
  },
  {
   "cell_type": "markdown",
   "id": "78912198-ecfd-4662-9632-0b56bfca1ede",
   "metadata": {},
   "source": [
    "#### Step 2: Threshold each VDF"
   ]
  },
  {
   "cell_type": "markdown",
   "id": "da6395cd-ad4c-4e4a-9d20-b27d18ab20c6",
   "metadata": {},
   "source": [
    "$\\theta'$ edge on. As this phase has intense reflections, li- and triangle thresholding was deemed sufficient for creating the binary VDFs for this phase."
   ]
  },
  {
   "cell_type": "code",
   "execution_count": 6,
   "id": "7e6a4efc-879d-42e3-9ba2-5b9e1d9c6371",
   "metadata": {},
   "outputs": [
    {
     "data": {
      "text/plain": [
       "<matplotlib.image.AxesImage at 0x18c8e3d4fa0>"
      ]
     },
     "execution_count": 6,
     "metadata": {},
     "output_type": "execute_result"
    }
   ],
   "source": [
    "vdf_theta1_bin = vdf_theta1.data > threshold_triangle(vdf_theta1.data)\n",
    "fig,ax = plt.subplots(1,2,sharex=True,sharey=True)\n",
    "ax[0].imshow(vdf_theta1_bin)\n",
    "ax[1].imshow(vdf_theta1, norm=LogNorm())"
   ]
  },
  {
   "cell_type": "code",
   "execution_count": 7,
   "id": "f9ade0fb-54e7-4916-97c2-75da9adb0a7d",
   "metadata": {},
   "outputs": [
    {
     "data": {
      "text/plain": [
       "<matplotlib.image.AxesImage at 0x18c8e39d240>"
      ]
     },
     "execution_count": 7,
     "metadata": {},
     "output_type": "execute_result"
    }
   ],
   "source": [
    "vdf_theta2_bin = vdf_theta2.data > threshold_triangle(vdf_theta2.data)\n",
    "fig,ax = plt.subplots(2,1,sharex=True,sharey=True)\n",
    "ax[0].imshow(vdf_theta2_bin)\n",
    "ax[1].imshow(vdf_theta2, norm=LogNorm())"
   ]
  },
  {
   "cell_type": "code",
   "execution_count": 8,
   "id": "184254ec-ef18-47dc-afa1-c28be20ebba3",
   "metadata": {},
   "outputs": [
    {
     "data": {
      "text/plain": [
       "<matplotlib.image.AxesImage at 0x18c8e1149a0>"
      ]
     },
     "execution_count": 8,
     "metadata": {},
     "output_type": "execute_result"
    }
   ],
   "source": [
    "vdf_theta_bin = vdf_theta1_bin + vdf_theta2_bin\n",
    "fig,ax = plt.subplots(2,1,sharex=True,sharey=True)\n",
    "ax[0].imshow(vdf_theta_bin)\n",
    "ax[1].imshow(vdf_theta1 + vdf_theta2, norm=LogNorm())"
   ]
  },
  {
   "cell_type": "markdown",
   "id": "d308db62-28cf-4686-b028-abc1f8ca50ec",
   "metadata": {},
   "source": [
    "$\\theta'$ face on. As this phase has weak refelctions, watershed segmentation was used for the creation of the binary VDFs for this phase."
   ]
  },
  {
   "cell_type": "code",
   "execution_count": 9,
   "id": "bf9bba46-41b4-49ee-8044-beea91ff7994",
   "metadata": {},
   "outputs": [
    {
     "data": {
      "text/plain": [
       "<matplotlib.image.AxesImage at 0x18c90a27370>"
      ]
     },
     "execution_count": 9,
     "metadata": {},
     "output_type": "execute_result"
    }
   ],
   "source": [
    "markers = np.zeros_like(vdf_theta_faceon)\n",
    "markers[vdf_theta_faceon < 0.05] = 1\n",
    "markers[vdf_theta_faceon > 0.079] = 2\n",
    "\n",
    "elevation_map = sobel(vdf_theta_faceon.data)\n",
    "\n",
    "segmentation = watershed(elevation_map, markers)\n",
    "segmentation = ndi.binary_fill_holes(segmentation-1)\n",
    "vdf_theta_faceon_bin = segmentation > 0\n",
    "\n",
    "fig,ax = plt.subplots(1,2,sharex=True,sharey=True)\n",
    "ax[0].imshow(vdf_theta_faceon_bin)\n",
    "ax[1].imshow(vdf_theta_faceon, norm=LogNorm())"
   ]
  },
  {
   "cell_type": "markdown",
   "id": "d78ea4d8-2618-4762-b396-363e76d463e2",
   "metadata": {},
   "source": [
    "T1 edge on. As this phase has weak reflections, watershed regmentation was used for the creation of the binary VDFs for this phase."
   ]
  },
  {
   "cell_type": "code",
   "execution_count": 10,
   "id": "d7abe629-7d7c-486f-b27b-df3e2463b0db",
   "metadata": {},
   "outputs": [
    {
     "data": {
      "text/plain": [
       "<matplotlib.image.AxesImage at 0x18c9542d3f0>"
      ]
     },
     "execution_count": 10,
     "metadata": {},
     "output_type": "execute_result"
    }
   ],
   "source": [
    "markers = np.zeros_like(vdf_T1_1)\n",
    "markers[vdf_T1_1 < 0.012] = 1\n",
    "markers[vdf_T1_1 > 0.02] = 2\n",
    "\n",
    "elevation_map = sobel(vdf_T1_1.data)\n",
    "segmentation = watershed(elevation_map, markers)\n",
    "vdf_T1_1_bin = segmentation > 1\n",
    "fig,ax = plt.subplots(1,2,sharex=True,sharey=True)\n",
    "ax[0].imshow(vdf_T1_1_bin)\n",
    "ax[1].imshow(vdf_T1_1, norm=LogNorm())"
   ]
  },
  {
   "cell_type": "code",
   "execution_count": 11,
   "id": "1e856e7e-b998-4b20-9961-a5098fa96975",
   "metadata": {},
   "outputs": [
    {
     "data": {
      "text/plain": [
       "<matplotlib.image.AxesImage at 0x18c8e098280>"
      ]
     },
     "execution_count": 11,
     "metadata": {},
     "output_type": "execute_result"
    }
   ],
   "source": [
    "markers = np.zeros_like(vdf_T1_2)\n",
    "markers[vdf_T1_2 < 0.014] = 1\n",
    "markers[vdf_T1_2 > 0.02] = 2\n",
    "\n",
    "elevation_map = sobel(vdf_T1_2.data)\n",
    "segmentation = watershed(elevation_map, markers)\n",
    "segmentation = ndi.binary_fill_holes(segmentation-1)\n",
    "vdf_T1_2_bin = segmentation > 0\n",
    "\n",
    "fig,ax = plt.subplots(1,2,sharex=True,sharey=True)\n",
    "ax[0].imshow(vdf_T1_2_bin)\n",
    "ax[1].imshow(vdf_T1_2, norm=LogNorm())"
   ]
  },
  {
   "cell_type": "code",
   "execution_count": 12,
   "id": "f5cc1796-444f-4804-9d72-c5fbac2dc74e",
   "metadata": {},
   "outputs": [],
   "source": [
    "vdf_T1_bin = vdf_T1_2_bin + vdf_T1_1_bin"
   ]
  },
  {
   "cell_type": "markdown",
   "id": "ba6e964d-7a34-4b03-abde-041e5311d3d5",
   "metadata": {},
   "source": [
    "#### Step 3: Remove unwanted pixels"
   ]
  },
  {
   "cell_type": "markdown",
   "id": "01ed7390-e52c-4a3a-8903-1edf9a32e601",
   "metadata": {},
   "source": [
    "$\\theta'$"
   ]
  },
  {
   "cell_type": "code",
   "execution_count": 13,
   "id": "4bb9bfa6-91c6-4a17-9e42-6156d49f70da",
   "metadata": {},
   "outputs": [
    {
     "data": {
      "text/plain": [
       "<matplotlib.image.AxesImage at 0x18c8a8c8af0>"
      ]
     },
     "execution_count": 13,
     "metadata": {},
     "output_type": "execute_result"
    }
   ],
   "source": [
    "from skimage.measure import label, regionprops\n",
    "\n",
    "theta_labeled = label(vdf_theta_bin)\n",
    "props = regionprops(theta_labeled)\n",
    "for i in range(len(props)):\n",
    "    if props[i].area <= 3:\n",
    "        for x_coord in props[i].coords[:,0]:\n",
    "            for y_coord in props[i].coords[:,1]:\n",
    "                vdf_theta_bin[x_coord, y_coord] = 0\n",
    "plt.imshow(vdf_theta_bin)"
   ]
  },
  {
   "cell_type": "code",
   "execution_count": 14,
   "id": "6e034959-0c29-4c0e-bb4f-44cd94f4ce5b",
   "metadata": {},
   "outputs": [
    {
     "data": {
      "text/plain": [
       "<matplotlib.image.AxesImage at 0x18c8a927130>"
      ]
     },
     "execution_count": 14,
     "metadata": {},
     "output_type": "execute_result"
    }
   ],
   "source": [
    "vdf_theta_faceon_labeled = label(vdf_theta_faceon_bin)\n",
    "props = regionprops(vdf_theta_faceon_labeled)\n",
    "for i in range(len(props)):\n",
    "    if props[i].area <= 2000:\n",
    "        for x_coord in props[i].coords[:,0]:\n",
    "            for y_coord in props[i].coords[:,1]:\n",
    "                vdf_theta_faceon_bin[x_coord, y_coord] = 0\n",
    "\n",
    "\n",
    "vdf_theta_faceon_bin[np.argwhere(np.logical_and(vdf_theta_faceon_bin, vdf_theta_bin))[:,0], np.argwhere(np.logical_and(vdf_theta_faceon_bin, vdf_theta_bin))[:,1]] = False\n",
    "\n",
    "vdf_theta_faceon_labeled = label(vdf_theta_faceon_bin)\n",
    "props = regionprops(vdf_theta_faceon_labeled)\n",
    "for i in range(len(props)):\n",
    "    if props[i].area <= 2000:\n",
    "        for x_coord in props[i].coords[:,0]:\n",
    "            for y_coord in props[i].coords[:,1]:\n",
    "                vdf_theta_faceon_bin[x_coord, y_coord] = 0\n",
    "\n",
    "\n",
    "plt.imshow(vdf_theta_faceon_bin)"
   ]
  },
  {
   "cell_type": "markdown",
   "id": "42070824-87d0-4818-b7a8-33d67e1979b8",
   "metadata": {},
   "source": [
    "#### Create the ground truth image"
   ]
  },
  {
   "cell_type": "markdown",
   "id": "e6015790-3ae3-4d83-8009-6c39d798d33d",
   "metadata": {},
   "source": [
    "Some of the precipitate phases are overlapping. A simple approach was chosen to overcome this challenge. Here, $\\theta'$ edge on are prioritized over T1 edge on which is prioritized over $\\theta'$ face on."
   ]
  },
  {
   "cell_type": "code",
   "execution_count": 21,
   "id": "2cdb5a10-ad55-401e-bd70-7c6e2792891a",
   "metadata": {},
   "outputs": [],
   "source": [
    "###### \n",
    "# Theta edge on trumps T1. T1 trumps theta face on #\n",
    "\n",
    "vdf_T1_bin[np.argwhere(np.logical_and(vdf_T1_bin, vdf_theta_bin))[:,0], np.argwhere(np.logical_and(vdf_T1_bin, vdf_theta_bin))[:,1]] = False\n",
    "vdf_theta_faceon_bin[np.argwhere(np.logical_and(vdf_T1_bin, vdf_theta_faceon_bin))[:,0], np.argwhere(np.logical_and(vdf_T1_bin, vdf_theta_faceon_bin))[:,1]] = False\n",
    "\n",
    "\n",
    "vdf_T1_bin3 = np.zeros_like(vdf_T1_bin, dtype='int')\n",
    "vdf_T1_bin3[vdf_T1_bin > 0] = 3\n",
    "\n",
    "vdf_theta_bin_faceon2 = np.zeros_like(vdf_theta_faceon_bin, dtype='int')\n",
    "vdf_theta_bin_faceon2[vdf_theta_faceon_bin > 0] = 2\n",
    "\n",
    "vdf_theta_bin1 = np.zeros_like(vdf_theta_bin, dtype='int')\n",
    "vdf_theta_bin1[vdf_theta_bin > 0] = 1\n",
    "\n",
    "ground_truth_1 = vdf_T1_bin3 + vdf_theta_bin_faceon2 + vdf_theta_bin1\n",
    "ground_truth_1 = hs.signals.BaseSignal(ground_truth_1)"
   ]
  },
  {
   "cell_type": "markdown",
   "id": "65da90c7-afb9-4afe-a454-05156b3c5e79",
   "metadata": {},
   "source": [
    "#### Plot:"
   ]
  },
  {
   "cell_type": "code",
   "execution_count": 45,
   "id": "35dfdf6d-ca19-4be4-a274-c70cf3e6d2ef",
   "metadata": {},
   "outputs": [],
   "source": [
    "img_flatten = ground_truth_1.data.flatten()\n",
    "image = np.zeros((512*512,4))\n",
    "for i in range(len(color_names)):\n",
    "    mask = img_flatten == i\n",
    "    image[mask] = colors[i]\n",
    "image = image.reshape((512,512,4))\n",
    "fig,ax = plt.subplots()\n",
    "ax.axis('off')\n",
    "ax.imshow(image, cmap=cmap)\n",
    "file_name = '/ground_truth_1.png'\n",
    "plt.savefig(output_directory + file_name, transparent = True, bbox_inches = 'tight', pad_inches = 0, dpi=300)"
   ]
  },
  {
   "cell_type": "markdown",
   "id": "018be88c-b473-41a4-bd38-a9748aba4958",
   "metadata": {},
   "source": [
    "### Ground truth #2"
   ]
  },
  {
   "cell_type": "code",
   "execution_count": 22,
   "id": "a15a9d94-7a7d-48ae-92e9-b28714626536",
   "metadata": {},
   "outputs": [],
   "source": [
    "shift = 1/4096\n",
    "signal_log = log10(signal.data+shift) - log10(shift)\n",
    "signal_log = px.signals.ElectronDiffraction2D(signal_log)\n",
    "scale = 1\n",
    "signal_log.set_diffraction_calibration(scale)"
   ]
  },
  {
   "cell_type": "code",
   "execution_count": 23,
   "id": "71bc52bb-157a-4508-97c6-af129b49550c",
   "metadata": {},
   "outputs": [],
   "source": [
    "signal_log.data = signal_log.data/np.max(signal_log.data)*4096\n",
    "signal_log.change_dtype('uint32')\n",
    "#signal_log.plot()"
   ]
  },
  {
   "cell_type": "markdown",
   "id": "904d416b-40b0-4500-972b-efffa606fee3",
   "metadata": {
    "tags": []
   },
   "source": [
    "#### Create binary image of $\\theta'$ edge on:"
   ]
  },
  {
   "cell_type": "markdown",
   "id": "48f8f347-cb6f-4a46-80ae-5208aea8e63a",
   "metadata": {},
   "source": [
    "Create a VDF of the $\\theta'$ edge on precipitates that point to the top right. Then threshold that VDF image and create a binary mask. "
   ]
  },
  {
   "cell_type": "code",
   "execution_count": 25,
   "id": "726ae71d-2be9-4fd7-83ae-abaa0dfbec13",
   "metadata": {},
   "outputs": [],
   "source": [
    "roi = hs.roi.CircleROI(cx=7, cy=-15, r=2.5, r_inner=0)\n",
    "righttop = signal_log.get_integrated_intensity(roi)\n",
    "#righttop.plot(cmap='magma_r')\n",
    "righttop_mask = righttop.data.copy()\n",
    "righttop_mask[righttop_mask<26600] = 0\n",
    "#hs.signals.BaseSignal(righttop_mask).plot(cmap='magma_r')\n",
    "righttop_mask = righttop_mask.astype('bool')"
   ]
  },
  {
   "cell_type": "markdown",
   "id": "5862345f-c6e0-4719-ae64-5da0f067ee30",
   "metadata": {},
   "source": [
    "Create a VDF of the $\\theta'$ edge on precipitates that point to the top left. Then threshold that VDF image and create a binary mask. "
   ]
  },
  {
   "cell_type": "code",
   "execution_count": 24,
   "id": "011084c8-8a91-47dd-9c20-8bfb391ddece",
   "metadata": {},
   "outputs": [],
   "source": [
    "roi = hs.roi.CircleROI(cx=-14, cy=-8, r=2.5, r_inner=0)\n",
    "lefttop = signal_log.get_integrated_intensity(roi)\n",
    "#lefttop.plot(cmap='magma_r')\n",
    "lefttop_mask = lefttop.data.copy()\n",
    "lefttop_mask[lefttop_mask<26600] = 0\n",
    "#hs.signals.BaseSignal(lefttop_mask).plot(cmap='magma_r')\n",
    "lefttop_mask = lefttop_mask.astype('bool')"
   ]
  },
  {
   "cell_type": "markdown",
   "id": "48f740f8-238c-4192-9f90-3f52883e7ca8",
   "metadata": {},
   "source": [
    "Combine the masks to form the final binary mask for $\\theta'$ edge on, and plot this mask. "
   ]
  },
  {
   "cell_type": "code",
   "execution_count": 26,
   "id": "3fa7e4fc-5093-42d0-a7f5-1237481f50e2",
   "metadata": {},
   "outputs": [],
   "source": [
    "vdf_theta_bin = np.array(righttop_mask.copy() + lefttop_mask.copy(), dtype='bool')\n",
    "#hs.signals.BaseSignal(vdf_theta_bin).plot(cmap='magma_r')"
   ]
  },
  {
   "cell_type": "markdown",
   "id": "8746da76-8740-4eb3-80a0-7f6c1fb29094",
   "metadata": {},
   "source": [
    "#### Create binary image of T1:"
   ]
  },
  {
   "cell_type": "markdown",
   "id": "e0f61815-b10e-4e7f-bb59-4928453dfdaf",
   "metadata": {},
   "source": [
    "The same approach was followed for the T1 precipitates. A VDF image was first created for those pointing to the top right, before a binary mask was created. "
   ]
  },
  {
   "cell_type": "code",
   "execution_count": 27,
   "id": "128420e9-1c79-43e8-ae13-e743e50f92ef",
   "metadata": {},
   "outputs": [],
   "source": [
    "roi = hs.roi.CircleROI(cx=6, cy=-26, r=2.5, r_inner=0)\n",
    "righttop = signal_log.get_integrated_intensity(roi)\n",
    "#righttop.plot(cmap='magma_r')\n",
    "righttop_mask = righttop.data.copy()\n",
    "righttop_mask[righttop_mask<20950] = 0 # 20715\n",
    "#hs.signals.BaseSignal(righttop_mask).plot(cmap='magma_r')"
   ]
  },
  {
   "cell_type": "markdown",
   "id": "55558fb2-d9f8-48af-850d-27fa92b589e7",
   "metadata": {},
   "source": [
    "In the T1 mask, the pixels where the $\\theta'$ edge on mask is True were set to False, in order to prioritise the $\\theta'$ edge on in the case of overlap. "
   ]
  },
  {
   "cell_type": "code",
   "execution_count": 28,
   "id": "08a524e1-2633-479b-8032-98cdb5c1f1c9",
   "metadata": {},
   "outputs": [],
   "source": [
    "righttop_mask[vdf_theta_bin] = 0\n",
    "#hs.signals.BaseSignal(righttop_mask).plot(cmap='magma_r')"
   ]
  },
  {
   "cell_type": "markdown",
   "id": "f8e85d07-71d7-4678-824e-f52f710cc23d",
   "metadata": {},
   "source": [
    "At this point the T1 mask contains noise, which we will remove by using the label functionality of scikit-image. This function gives the same labels to all pixels that are connected, so we can then delete those regions from the mask that correspond to labelled regions below a certain size, here 10. "
   ]
  },
  {
   "cell_type": "code",
   "execution_count": 29,
   "id": "0d3ed7dd-05cc-408a-8cbb-68228520fa59",
   "metadata": {},
   "outputs": [],
   "source": [
    "from scipy.ndimage import label\n",
    "\n",
    "labs, _ = label(righttop_mask)\n",
    "th = 10\n",
    "for i in np.arange(1, np.max(labs)):\n",
    "    if np.sum(labs[labs == i])/i < th:\n",
    "        righttop_mask[labs == i] = 0\n",
    "#hs.signals.BaseSignal(righttop_mask).plot(cmap='magma_r')\n",
    "righttop_mask = righttop_mask.astype('bool')"
   ]
  },
  {
   "cell_type": "markdown",
   "id": "ddd254fe-def6-49b1-aa4b-a306333b151e",
   "metadata": {},
   "source": [
    "The same approach is then followed for the T1 precipitates that point to the top left. "
   ]
  },
  {
   "cell_type": "code",
   "execution_count": 30,
   "id": "25a33051-ee6a-4522-b936-fe5b82d7e210",
   "metadata": {},
   "outputs": [],
   "source": [
    "roi = hs.roi.CircleROI(cx=-24, cy=-9, r=2.5, r_inner=0)\n",
    "lefttop = signal_log.get_integrated_intensity(roi)\n",
    "#lefttop.plot(cmap='magma_r')\n",
    "lefttop_mask = lefttop.data.copy()\n",
    "lefttop_mask[lefttop_mask<20610] = 0\n",
    "#hs.signals.BaseSignal(lefttop_mask).plot(cmap='magma_r')"
   ]
  },
  {
   "cell_type": "code",
   "execution_count": 31,
   "id": "8cfbe63b-3b63-4b2a-a236-fe2ebc3c7540",
   "metadata": {},
   "outputs": [],
   "source": [
    "lefttop_mask[vdf_theta_bin] = 0\n",
    "#hs.signals.BaseSignal(lefttop_mask).plot(cmap='magma_r')"
   ]
  },
  {
   "cell_type": "code",
   "execution_count": 32,
   "id": "13729b14-0bb6-40b1-b40a-971a720f04f2",
   "metadata": {},
   "outputs": [],
   "source": [
    "labs, _ = label(lefttop_mask)\n",
    "#hs.signals.BaseSignal(labs).plot(cmap='magma_r')\n",
    "th = 30\n",
    "for i in np.arange(1, np.max(labs)):\n",
    "    if np.sum(labs[labs == i])/i < th:\n",
    "        lefttop_mask[labs == i] = 0\n",
    "#hs.signals.BaseSignal(lefttop_mask).plot(cmap='magma_r')\n",
    "lefttop_mask = lefttop_mask.astype('bool')"
   ]
  },
  {
   "cell_type": "code",
   "execution_count": 33,
   "id": "558ccc09-b156-4124-8d5c-15572f1f8e98",
   "metadata": {},
   "outputs": [],
   "source": [
    "vdf_T1_bin = np.array(righttop_mask.copy() + lefttop_mask.copy(), dtype='bool')\n",
    "#hs.signals.BaseSignal(vdf_T1_bin).plot(cmap='magma_r')"
   ]
  },
  {
   "cell_type": "markdown",
   "id": "016a7507-6e28-4ebf-b795-23603f0e5b91",
   "metadata": {},
   "source": [
    "#### Create binary image of $\\theta'$ viewed face on:"
   ]
  },
  {
   "cell_type": "code",
   "execution_count": 34,
   "id": "a8dd35b6-a1be-483d-9444-24ae4a941fbe",
   "metadata": {},
   "outputs": [],
   "source": [
    "roi = hs.roi.CircleROI(cx=3, cy=-19, r=2.5, r_inner=0.5)\n",
    "blobs = signal_log.get_integrated_intensity(roi)\n",
    "#blobs.plot(cmap='magma_r')\n",
    "blobs_mask = blobs.data.copy()\n",
    "blobs_mask[blobs_mask<23200] = 0\n",
    "#hs.signals.BaseSignal(blobs_mask).plot(cmap='magma_r')"
   ]
  },
  {
   "cell_type": "markdown",
   "id": "6a19301c-7f55-48f2-8729-05bc54170e5c",
   "metadata": {},
   "source": [
    "The mask made from the VDF image contains a lot of noise and $\\theta'$ edge on precipitates. To remove the noise and make the intensities even within the $\\theta'$ face on precipitates, watershed image segmentation is used. "
   ]
  },
  {
   "cell_type": "code",
   "execution_count": 35,
   "id": "0847c236-33e1-4779-9589-10c0a34a4de8",
   "metadata": {},
   "outputs": [],
   "source": [
    "from scipy.ndimage import distance_transform_edt\n",
    "blobs_mask_sobel = sobel(blobs_mask)\n",
    "#hs.signals.BaseSignal(blobs_mask_sobel).plot(cmap='magma_r')\n",
    "dists = distance_transform_edt(blobs_mask)\n",
    "#hs.signals.BaseSignal(dists).plot(cmap='magma_r')\n",
    "peaks = peak_local_max(dists, min_distance = 10, exclude_border = 1, threshold_abs = 12)\n",
    "peaks_mask = np.zeros_like(blobs_mask)\n",
    "peaks_mask[tuple(peaks.T)] = 1\n",
    "#hs.signals.BaseSignal(peaks_mask).plot(cmap='magma_r')"
   ]
  },
  {
   "cell_type": "markdown",
   "id": "a8eacc0c-a200-4a06-9fe8-f83b000cb200",
   "metadata": {},
   "source": [
    "Perform the watershed image segmentation and then fill the holes within the three precipitate masks. "
   ]
  },
  {
   "cell_type": "code",
   "execution_count": 36,
   "id": "1e715fc5-4cd1-404e-b477-be3a36466b5d",
   "metadata": {},
   "outputs": [],
   "source": [
    "seg = watershed(image=blobs_mask_sobel, markers = peaks_mask, mask=blobs_mask)\n",
    "#hs.signals.BaseSignal(seg).plot(cmap='magma_r')\n",
    "seg_fill = binary_fill_holes(seg)\n",
    "#hs.signals.BaseSignal(seg_fill).plot(cmap='magma_r')"
   ]
  },
  {
   "cell_type": "markdown",
   "id": "f3883ef8-21ee-4e66-8316-e3abcec1067c",
   "metadata": {},
   "source": [
    "We have picked out the thre precipitates. However, there is one $\\theta'$ edge on precipitate that is connected to the left top $\\theta'$ face on precipitate. In order to remove this one, we manually remove the incorrectly labeled pixels in the border. Thereafter, we use the label function to remove this precipiate. "
   ]
  },
  {
   "cell_type": "code",
   "execution_count": 37,
   "id": "70995edb-eda8-4c95-98fd-91c6d0a737a7",
   "metadata": {},
   "outputs": [],
   "source": [
    "seg_fill[58, 95] = 0\n",
    "seg_fill[59, 95] = 0\n",
    "seg_fill[60, 94] = 0\n",
    "seg_fill[61, 93] = 0\n",
    "seg_fill[62, 93] = 0\n",
    "seg_fill[47, 86] = 0\n",
    "seg_fill[46, 87] = 0\n",
    "seg_fill[46, 88] = 0\n",
    "labels, num = label(seg_fill)\n",
    "#hs.signals.BaseSignal(labels).plot(cmap='magma_r')"
   ]
  },
  {
   "cell_type": "code",
   "execution_count": 38,
   "id": "5ba7ae09-6218-4c3c-aa39-5a240e2f9cd8",
   "metadata": {},
   "outputs": [],
   "source": [
    "labels[labels == 2] = 0\n",
    "labels[labels == 3] = 0\n",
    "#hs.signals.BaseSignal(labels).plot(cmap='magma_r')"
   ]
  },
  {
   "cell_type": "code",
   "execution_count": 39,
   "id": "6a980b30-8d1b-4c76-ae7f-366fad98bdb0",
   "metadata": {},
   "outputs": [],
   "source": [
    "vdf_theta_faceon_bin = np.array(labels, dtype='bool')"
   ]
  },
  {
   "cell_type": "code",
   "execution_count": 40,
   "id": "48b06421-d155-46da-b8d2-b6811c55919c",
   "metadata": {
    "tags": []
   },
   "outputs": [],
   "source": [
    "# NB!! The needles are prioritized over plates that are prioritized over blobs\"\n",
    "ground_truth_2 = np.zeros_like(blobs, dtype='int32')\n",
    "ground_truth_2[vdf_theta_faceon_bin] = 2\n",
    "ground_truth_2[vdf_T1_bin] = 3\n",
    "ground_truth_2[vdf_theta_bin] = 1\n",
    "ground_truth_2 = hs.signals.BaseSignal(ground_truth_2)"
   ]
  },
  {
   "cell_type": "markdown",
   "id": "26579696-b28c-4028-938a-34668bd7f81e",
   "metadata": {},
   "source": [
    "Correct some pixels manually."
   ]
  },
  {
   "cell_type": "code",
   "execution_count": 42,
   "id": "f36a5f7c-9290-455d-b169-e4dab0bc2902",
   "metadata": {},
   "outputs": [],
   "source": [
    "ground_truth_2.data[73, 40] = 3 #(from 0 to 3)\n",
    "ground_truth_2.data[182, 96] = 3 #(from 0 to 3)\n",
    "ground_truth_2.data[186, 96] = 3 #(from 0 to 3)\n",
    "ground_truth_2.data[185, 98] = 3 #(from 0 to 3)\n",
    "ground_truth_2.data[205, 141] = 3 #(from 0 to 3)\n",
    "ground_truth_2.data[170, 288] = 3 #(from 0 to 3)\n",
    "ground_truth_2.data[84, 510] = 3 #(from 0 to 3)\n",
    "ground_truth_2.data[84, 511] = 3 #(from 0 to 3)\n",
    "ground_truth_2.data[411, 219] = 3 #(from 0 to 3)\n",
    "ground_truth_2.data[412, 219] = 3 #(from 0 to 3)\n",
    "ground_truth_2.data[412, 219] = 3 #(from 0 to 3)\n",
    "ground_truth_2.data[492, 155] = 3 #(from 0 to 3)"
   ]
  },
  {
   "cell_type": "markdown",
   "id": "24ced41d-63b3-4081-9d53-6c98f4e7302e",
   "metadata": {},
   "source": [
    "#### Plot"
   ]
  },
  {
   "cell_type": "code",
   "execution_count": 43,
   "id": "75801888-c764-4d00-93a5-b2d3a5b81de4",
   "metadata": {},
   "outputs": [],
   "source": [
    "img_flatten = ground_truth_2.data.flatten()\n",
    "image = np.zeros((512*512,4))\n",
    "for i in range(len(color_names)):\n",
    "    mask = img_flatten == i\n",
    "    image[mask] = colors[i]\n",
    "image = image.reshape((512,512,4))\n",
    "fig,ax = plt.subplots()\n",
    "ax.axis('off')\n",
    "ax.imshow(image, cmap=cmap)\n",
    "file_name = '/ground_truth_2.png'\n",
    "plt.savefig(output_directory + file_name, transparent = True, bbox_inches = 'tight', pad_inches = 0, dpi=300)"
   ]
  },
  {
   "cell_type": "markdown",
   "id": "a89de7e2-7cb4-44ac-9f2c-5ac56cdd0ea0",
   "metadata": {},
   "source": [
    "### Ground truth #3"
   ]
  },
  {
   "cell_type": "markdown",
   "id": "338f9fde-d6c9-404a-a399-7607aac3e4be",
   "metadata": {
    "tags": []
   },
   "source": [
    "#### Make Precipitate object"
   ]
  },
  {
   "cell_type": "code",
   "execution_count": 44,
   "id": "7ce92c7c-2d14-4faf-a10e-0ac91fe261a9",
   "metadata": {},
   "outputs": [],
   "source": [
    "from scipy.ndimage import label\n",
    "import copy\n",
    "\n",
    "#Creating empty dataset for variables in Precipitates() and also combined ground truth map eventually\n",
    "empty_vdf = signal.get_integrated_intensity(hs.roi.CircleROI(cx=0, cy=0, r=0.5)).data.copy()\n",
    "empty_vdf[empty_vdf > 0] = 0 \n",
    "\n",
    "class Precipitate():\n",
    "    name = \"\"\n",
    "    th = 0\n",
    "    roi = hs.roi.CircleROI(cx=0, cy=0, r=0, r_inner=0)\n",
    "    roi2 = hs.roi.CircleROI(cx=0, cy=0, r=0, r_inner=0)\n",
    "    label_th = 0\n",
    "    vdf = empty_vdf.copy()\n",
    "    vdf_mask = empty_vdf.copy()\n",
    "    label, _ = label(vdf_mask)\n",
    "\n",
    "    def __init__(self, name, th, label_th, roi):\n",
    "        self.name = name\n",
    "        self.th = th\n",
    "        self.roi = roi\n",
    "        self.label_th = label_th\n",
    "\n",
    "def make_precip(name, th, label_th, roi):\n",
    "    precipitate = Precipitate(name, th, label_th, roi)\n",
    "    return precipitate\n",
    "def make_precip2(name, th, label_th, roi, roi2):\n",
    "    precipitate = Precipitate(name, th, label_th, roi)\n",
    "    precipitate.roi2 = roi2\n",
    "    return precipitate"
   ]
  },
  {
   "cell_type": "code",
   "execution_count": 46,
   "id": "99793490-5d32-4faf-a970-589e1a8e167f",
   "metadata": {},
   "outputs": [],
   "source": [
    "#In plane theta'. Used two reflections for better signal \n",
    "roi_thetaPrimes = hs.roi.CircleROI(cx=-0.114238, cy=0.323675, r=0.0475943, r_inner=0)\n",
    "roi_thetaPrimes2 = hs.roi.CircleROI(cx=0.323675, cy=0.0761587, r=0.0475943, r_inner=0)\n",
    "\n",
    "#fat horizontals (T1)\n",
    "roi_h = hs.roi.CircleROI(cx=-0.47124, cy=-0.14756, r=0.02856, r_inner=0)\n",
    "\n",
    "#fat verticals (T1)\n",
    "roi_v = hs.roi.CircleROI(cx=0.119, cy=-0.47124, r=0.02856, r_inner=0)\n",
    "\n",
    "#left angled (thetaPrime, (200)_[010])\n",
    "roi_la = hs.roi.CircleROI(cx=0.2142, cy=0.13804, r=0.0476, r_inner=0)\n",
    "\n",
    "#right angled (thetaPrime, (020)_[100])\n",
    "roi_ra = hs.roi.CircleROI(cx=0.13328, cy=-0.2856, r=0.0476, r_inner=0)\n",
    "\n",
    "#--------------------------------------------------------------------------------------------#\n",
    "#       inputs        |      name       |  th, | label_th,|      roi,     |     roi2         #\n",
    "#--------------------------------------------------------------------------------------------#\n",
    "Theta_3 =make_precip2(\"Theta, in-plane\", 0.2,      782,    roi_thetaPrimes, roi_thetaPrimes2)#\n",
    "T1_1    = Precipitate(\"T1, horizontal\",  0.0138,    28,          roi_h )                     #\n",
    "T1_2    = Precipitate(\"T1, vertical\",    0.014,     28,          roi_v )                     #\n",
    "Theta_1 = Precipitate(\"Theta, lefty\",    0.12,       7,          roi_la)                     #\n",
    "Theta_2 = Precipitate(\"Theta, righty\",   0.17,       5,          roi_ra)                     #\n",
    "#--------------------------------------------------------------------------------------------#\n",
    "\n",
    "#list:\n",
    "precips   = np.asarray([Theta_3, T1_1, T1_2, Theta_1, Theta_2])\n",
    "numbering = np.asarray([   2,     3,     3,     1,       1   ])"
   ]
  },
  {
   "cell_type": "code",
   "execution_count": 47,
   "id": "4eb2b38d-85e7-4f20-8487-750f5ec6a719",
   "metadata": {},
   "outputs": [],
   "source": [
    "for precip in precips:\n",
    "    if (precip.name != \"Theta, in-plane\"): #in plane theta use two rois\n",
    "        precip.vdf = signal.get_integrated_intensity(precip.roi)\n",
    "    else:\n",
    "        precip.vdf = signal.get_integrated_intensity(precip.roi) + signal.get_integrated_intensity(precip.roi2)"
   ]
  },
  {
   "cell_type": "markdown",
   "id": "09beb513-6ec6-4d9e-b2af-7626be255796",
   "metadata": {},
   "source": [
    "#### Create masks where you remove everything below certain threshold"
   ]
  },
  {
   "cell_type": "code",
   "execution_count": 48,
   "id": "042f563c-b8bc-4ee5-948b-1495b77da48a",
   "metadata": {},
   "outputs": [],
   "source": [
    "for i, precip in enumerate(precips):\n",
    "    if (precip.name != \"Theta, in-plane\"):\n",
    "        vdf_mask = precip.vdf.data.copy()\n",
    "        vdf_mask[vdf_mask < precip.th] = 0\n",
    "        vdf_mask[vdf_mask > 0 ] = numbering[i]\n",
    "        precip.vdf_mask = vdf_mask\n",
    "\n",
    "    else:\n",
    "        ### Need to remove edge on theta from in plane theta:\n",
    "        vdf_mask_la = precips[3].vdf.data.copy()\n",
    "        vdf_mask_la[vdf_mask_la < precips[3].th] = 0 # 3= left angle theta needles (see parameters for precips)\n",
    "        vdf_mask_la[vdf_mask_la > 0] = 1\n",
    "\n",
    "        vdf_mask_ra = precips[4].vdf.data.copy()\n",
    "        vdf_mask_ra[vdf_mask_ra < precips[4].th] = 0 # 4 = righ angle theta needles\n",
    "        vdf_mask_ra[vdf_mask_ra > 0] = 1\n",
    "\n",
    "        #Adding unwanted thetas to one mask and setting any potential 2 = 1\n",
    "        combined_mask = vdf_mask_la + vdf_mask_ra\n",
    "        combined_mask[combined_mask > 0] = 1 # All needle pix should be 1\n",
    "        #### ----- ###\n",
    "\n",
    "        vdf_mask = precip.vdf.data.copy()\n",
    "        vdf_mask[vdf_mask < precip.th] = 0\n",
    "        vdf_mask[vdf_mask > 0 ] = numbering[i]\n",
    "\n",
    "        # Removing other oriientations from map\n",
    "        vdf_mask[vdf_mask == combined_mask*2] = 0\n",
    "        precip.vdf_mask = vdf_mask"
   ]
  },
  {
   "cell_type": "markdown",
   "id": "d8dab169-8612-40f8-bf83-2cad4ccd4f65",
   "metadata": {},
   "source": [
    "#### Use label from scipy to remove noise"
   ]
  },
  {
   "cell_type": "code",
   "execution_count": 49,
   "id": "ab9a650b-00b0-455d-864a-2e3c3787c588",
   "metadata": {},
   "outputs": [],
   "source": [
    "from scipy.ndimage import label\n",
    "\n",
    "for precip in precips:\n",
    "    # Labels groups of pixels by size\n",
    "    precip.label = label(precip.vdf_mask)[0]\n",
    "    for i in np.arange(1, np.max(precip.label)):\n",
    "        # Everything below label_th size concidered noise and removed:\n",
    "        if np.sum(precip.label[precip.label == i])/i < precip.label_th: \n",
    "            precip.vdf_mask[precip.label == i] = 0"
   ]
  },
  {
   "cell_type": "markdown",
   "id": "af581e2a-66f3-4d1b-943f-f63708bdfadf",
   "metadata": {},
   "source": [
    "#### Now combine all masks to ground truth"
   ]
  },
  {
   "cell_type": "code",
   "execution_count": 50,
   "id": "be59c1bd-09fe-4394-8afe-36b43fe69dd4",
   "metadata": {},
   "outputs": [],
   "source": [
    "ground_truth_3 = empty_vdf.copy()\n",
    "\n",
    "for i, precip in enumerate(precips):\n",
    "    precip = precip\n",
    "    ground_truth_3[precip.vdf_mask == numbering[i]] = numbering[i]"
   ]
  },
  {
   "cell_type": "markdown",
   "id": "c3bfc291-6710-41eb-b382-781fbc93f523",
   "metadata": {},
   "source": [
    "#### Plot"
   ]
  },
  {
   "cell_type": "code",
   "execution_count": 51,
   "id": "ff17e423-91ad-4c43-9773-29bc8d5154a2",
   "metadata": {},
   "outputs": [],
   "source": [
    "img_flatten = ground_truth_3.data.flatten()\n",
    "image = np.zeros((512*512,4))\n",
    "for i in range(len(color_names)):\n",
    "    mask = img_flatten == i\n",
    "    image[mask] = colors[i]\n",
    "image = image.reshape((512,512,4))\n",
    "fig,ax = plt.subplots()\n",
    "ax.axis('off')\n",
    "ax.imshow(image, cmap=cmap)\n",
    "file_name = '/ground_truth_3.png'\n",
    "plt.savefig(output_directory + file_name, transparent = True, bbox_inches = 'tight', pad_inches = 0, dpi=300)"
   ]
  },
  {
   "cell_type": "markdown",
   "id": "b7f0e525-de01-4987-a782-f08c3e6b352e",
   "metadata": {},
   "source": [
    "### Save ground truths"
   ]
  },
  {
   "cell_type": "code",
   "execution_count": 47,
   "id": "3eb36904-826c-4760-a6e9-96c1eabdea05",
   "metadata": {},
   "outputs": [],
   "source": [
    "ground_truth_1.axes_manager[0].scale = 4.63\n",
    "ground_truth_1.axes_manager[1].scale = 4.63\n",
    "ground_truth_1.axes_manager[0].units = 'nm'\n",
    "ground_truth_1.axes_manager[1].units = 'nm'\n",
    "\n",
    "ground_truth_2.axes_manager = ground_truth_1.axes_manager\n",
    "ground_truth_3.axes_manager = ground_truth_1.axes_manager"
   ]
  },
  {
   "cell_type": "code",
   "execution_count": 53,
   "id": "c6f58177-7c3e-4f3e-89c0-0f80192d2ccd",
   "metadata": {},
   "outputs": [],
   "source": [
    "directory = '/Ground_truths/'\n",
    "\n",
    "if not os.path.exists(output_directory):\n",
    "    os.makedirs(output_directory)\n",
    "\n",
    "ground_truth_1.save(output_directory + '/ground_truth_1.hdf5')\n",
    "ground_truth_2.save(output_directory + '/ground_truth_2.hdf5')\n",
    "ground_truth_3.save(output_directory + '/ground_truth_3.hdf5')"
   ]
  },
  {
   "cell_type": "markdown",
   "id": "653dae65-28c5-4434-8f22-1ab333644a9d",
   "metadata": {},
   "source": [
    "### Load and compare the three different ground truths"
   ]
  },
  {
   "cell_type": "markdown",
   "id": "c66b624a-6b80-49e4-a3c7-555f7e936237",
   "metadata": {},
   "source": [
    "The following ints are used for the four different precipitate phases in the ground truths: <br>\n",
    "<ul>\n",
    "    <li> Al: 0 </li>\n",
    "    <li> $\\theta'$ edge on: 1 </li>\n",
    "    <li> $\\theta'$ face on: 2 </li>\n",
    "    <li> T1: 3 </li>\n",
    "    <li> Not indexed: 4 </li>\n",
    "</ul>"
   ]
  },
  {
   "cell_type": "code",
   "execution_count": 55,
   "id": "96d4411a-db1d-4ef4-8bdf-17b1a28654a7",
   "metadata": {},
   "outputs": [],
   "source": [
    "ground_truth_1 = hs.io.load(output_directory + '/ground_truth_1.hdf5')\n",
    "ground_truth_2 = hs.io.load(output_directory + '/ground_truth_2.hdf5')\n",
    "ground_truth_3 = hs.io.load(output_directory + '/ground_truth_3.hdf5')"
   ]
  },
  {
   "cell_type": "code",
   "execution_count": 56,
   "id": "14ea1cad-1cd6-4b32-9810-0b007e028398",
   "metadata": {},
   "outputs": [],
   "source": [
    "difference_12 = ground_truth_1.data - ground_truth_2.data\n",
    "difference_13 = ground_truth_1.data - ground_truth_3.data\n",
    "difference_23 = ground_truth_2.data - ground_truth_3.data"
   ]
  },
  {
   "cell_type": "code",
   "execution_count": 57,
   "id": "6591b322-4aa9-4b44-9847-5b3a4cef277d",
   "metadata": {},
   "outputs": [
    {
     "data": {
      "text/plain": [
       "Text(0.5, 1.0, 'Difference 2 3')"
      ]
     },
     "execution_count": 57,
     "metadata": {},
     "output_type": "execute_result"
    }
   ],
   "source": [
    "fig, ax = plt.subplots(1,3, sharex=True, sharey=True)\n",
    "ax[0].imshow(difference_12)\n",
    "ax[0].set_title('Difference 1 2')\n",
    "ax[1].imshow(difference_13)\n",
    "ax[1].set_title('Difference 1 3')\n",
    "ax[2].imshow(difference_23)\n",
    "ax[2].set_title('Difference 2 3')"
   ]
  },
  {
   "cell_type": "markdown",
   "id": "24d8a12e-3526-461a-b658-89f0c6b1e46a",
   "metadata": {},
   "source": [
    "### Prepare the final ground truth image"
   ]
  },
  {
   "cell_type": "code",
   "execution_count": 58,
   "id": "e772502a-e6e9-4b59-915a-81bf3020a747",
   "metadata": {},
   "outputs": [
    {
     "name": "stderr",
     "output_type": "stream",
     "text": [
      "WARNING:hyperspy.drawing.utils:Axes labels were requested, but one or both of the axes units and/or name are undefined. Axes decorations have been set to 'ticks' instead.\n"
     ]
    },
    {
     "data": {
      "text/plain": [
       "[<AxesSubplot: title={'center': ' (0,)'}>,\n",
       " <AxesSubplot: title={'center': ' (1,)'}>,\n",
       " <AxesSubplot: title={'center': ' (2,)'}>]"
      ]
     },
     "execution_count": 58,
     "metadata": {},
     "output_type": "execute_result"
    }
   ],
   "source": [
    "gts = hs.signals.Signal2D([ground_truth_1.data, ground_truth_2.data, ground_truth_3.data])\n",
    "\n",
    "hs.utils.plot.plot_images(gts)"
   ]
  },
  {
   "cell_type": "code",
   "execution_count": 59,
   "id": "a51c9574-c433-451d-b140-56f80471ce0e",
   "metadata": {},
   "outputs": [
    {
     "data": {
      "text/plain": [
       "<matplotlib.image.AxesImage at 0x18c918b9810>"
      ]
     },
     "execution_count": 59,
     "metadata": {},
     "output_type": "execute_result"
    }
   ],
   "source": [
    "ground_truth = np.zeros_like(ground_truth_1.data)\n",
    "for i in range(ground_truth_1.data.shape[0]):\n",
    "    for j in range(ground_truth_1.data.shape[1]):\n",
    "        if ground_truth_1.data[i,j] == ground_truth_2.data[i,j]: \n",
    "            ground_truth[i,j] = ground_truth_1.data[i,j]\n",
    "        if ground_truth_1.data[i,j] == ground_truth_3.data[i,j]:\n",
    "            ground_truth[i,j] = ground_truth_1.data[i,j]\n",
    "        if ground_truth_2.data[i,j] == ground_truth_3.data[i,j]:\n",
    "            ground_truth[i,j] = ground_truth_3.data[i,j]\n",
    "        if ground_truth_1.data[i,j] != ground_truth_2.data[i,j] and ground_truth_1.data[i,j] != ground_truth_3.data[i,j] and ground_truth_2.data[i,j] != ground_truth_3.data[i,j]:\n",
    "            ground_truth[i,j] = 4\n",
    "plt.imshow(ground_truth)"
   ]
  },
  {
   "cell_type": "code",
   "execution_count": 62,
   "id": "e77738e6-9cd0-4d32-a743-33e62cf5042c",
   "metadata": {},
   "outputs": [],
   "source": [
    "img_flatten = ground_truth.flatten()\n",
    "image = np.zeros((512*512,4))\n",
    "for i in range(len(color_names)):\n",
    "    mask = img_flatten == i\n",
    "    image[mask] = colors[i]\n",
    "image = image.reshape((512,512,4))\n",
    "fig,ax = plt.subplots()\n",
    "ax.axis('off')\n",
    "ax.imshow(image, cmap=cmap)\n",
    "file_name = '/ground_truth_combined.png'\n",
    "plt.savefig(output_directory + file_name, transparent = True, bbox_inches = 'tight', pad_inches = 0, dpi=300)"
   ]
  },
  {
   "cell_type": "code",
   "execution_count": 63,
   "id": "4ac48a11-f85b-461c-afc1-dfe27a85c145",
   "metadata": {},
   "outputs": [],
   "source": [
    "ground_truth = hs.signals.BaseSignal(ground_truth)\n",
    "ground_truth.axes_manager = ground_truth_1.axes_manager.deepcopy()"
   ]
  },
  {
   "cell_type": "code",
   "execution_count": 64,
   "id": "3e8d606e-7ab9-495d-b022-807f60ea48c3",
   "metadata": {},
   "outputs": [],
   "source": [
    "ground_truth.save(directory + '/ground_truth_combined.hdf5')"
   ]
  }
 ],
 "metadata": {
  "kernelspec": {
   "display_name": "Python 3 (ipykernel)",
   "language": "python",
   "name": "python3"
  },
  "language_info": {
   "codemirror_mode": {
    "name": "ipython",
    "version": 3
   },
   "file_extension": ".py",
   "mimetype": "text/x-python",
   "name": "python",
   "nbconvert_exporter": "python",
   "pygments_lexer": "ipython3",
   "version": "3.10.8"
  }
 },
 "nbformat": 4,
 "nbformat_minor": 5
}
