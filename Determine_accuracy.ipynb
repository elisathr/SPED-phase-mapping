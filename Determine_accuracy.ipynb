{
 "cells": [
  {
   "cell_type": "code",
   "execution_count": 5,
   "id": "532b7f3f-fe0b-4362-9969-d275e3248b5d",
   "metadata": {},
   "outputs": [],
   "source": [
    "%matplotlib tk\n",
    "\n",
    "import pyxem as px\n",
    "from diffsims import generators\n",
    "import tensorflow as tf\n",
    "import diffpy.structure\n",
    "from matplotlib import pyplot as plt\n",
    "import numpy as np\n",
    "import os\n",
    "import hyperspy as hs\n",
    "from tqdm import tqdm"
   ]
  },
  {
   "cell_type": "markdown",
   "id": "23562d6c-2ffc-4fb0-898f-6ec5b1e1cbf2",
   "metadata": {},
   "source": [
    "### Load phase maps and ground truth"
   ]
  },
  {
   "cell_type": "code",
   "execution_count": 6,
   "id": "1c7224eb-7d45-4b5a-a255-c888ff054b29",
   "metadata": {},
   "outputs": [],
   "source": [
    "ground_truth = hs.io.load(r'.\\Final_outputs\\ground_truth\\ground_truth_combined.hdf5')\n",
    "phase_map_nmf = hs.io.load(r'.\\Final_outputs\\phasemaps\\DatasetA\\pred-NMF.hdf5')\n",
    "phase_map_vector = hs.io.load(r'.\\Final_outputs\\phasemaps\\DatasetA\\pred-vector.hdf5')\n",
    "phase_map_template = hs.io.load(r'.\\Final_outputs\\phasemaps\\DatasetA\\pred-template-dog.hdf5')\n",
    "phase_map_ANN = hs.io.load(r'.\\Final_outputs\\phasemaps\\DatasetA\\pred-ANN.hdf5')"
   ]
  },
  {
   "cell_type": "markdown",
   "id": "a7a0df87-07d9-4d84-9cc0-14b68c7b2f27",
   "metadata": {},
   "source": [
    "### Estimate the error"
   ]
  },
  {
   "cell_type": "code",
   "execution_count": 7,
   "id": "3b1a0344-08a9-4f27-b2bb-b9d9ed51e72f",
   "metadata": {},
   "outputs": [
    {
     "name": "stdout",
     "output_type": "stream",
     "text": [
      "NMF mislabels 1.34% of the pixels.\n",
      "Vector analysis mislabels 1.54% of the pixels.\n",
      "Template matching mislabels 1.76% of the pixels.\n",
      "ANN mislabels 0.99% of the pixels.\n"
     ]
    }
   ],
   "source": [
    "error_nmf = np.count_nonzero(np.abs((phase_map_nmf-ground_truth).data))/(512*512)\n",
    "print(f'NMF mislabels {error_nmf:.2%} of the pixels.')\n",
    "\n",
    "error_vector = np.count_nonzero(np.abs((phase_map_vector-ground_truth).data))/(512*512)\n",
    "print(f'Vector analysis mislabels {error_vector:.2%} of the pixels.')\n",
    "\n",
    "error_template = np.count_nonzero(np.abs((phase_map_template-ground_truth).data))/(512*512)\n",
    "print(f'Template matching mislabels {error_template:.2%} of the pixels.')\n",
    "\n",
    "error_ANN = np.count_nonzero(np.abs((phase_map_ANN-ground_truth).data))/(512*512)\n",
    "print(f'ANN mislabels {error_ANN:.2%} of the pixels.')"
   ]
  },
  {
   "cell_type": "markdown",
   "id": "4ccca598-28ba-4d99-8580-5271227aa1c3",
   "metadata": {},
   "source": [
    "### Plot the difference maps"
   ]
  },
  {
   "cell_type": "code",
   "execution_count": 8,
   "id": "7339f241-0c5a-4797-aa1f-382a044d135b",
   "metadata": {},
   "outputs": [],
   "source": [
    "diff_nmf = ground_truth.data == phase_map_nmf.data\n",
    "diff_vector = ground_truth.data == phase_map_vector.data\n",
    "diff_template = ground_truth.data == phase_map_template.data\n",
    "diff_ANN = ground_truth.data == phase_map_ANN.data"
   ]
  },
  {
   "cell_type": "code",
   "execution_count": 9,
   "id": "5978444a-b35e-45cb-9992-45182bb801d1",
   "metadata": {},
   "outputs": [],
   "source": [
    "img = diff_ANN\n",
    "file_name = '/diff-ANN.png'\n",
    "directory = r'.\\Final_outputs\\phasemaps\\DatasetA'\n",
    "\n",
    "fig,ax = plt.subplots()\n",
    "ax.axis('off')\n",
    "ax.imshow(img, cmap='Greys')\n",
    "\n",
    "plt.show()\n",
    "plt.savefig(directory + file_name, transparent = True, bbox_inches = 'tight', pad_inches = 0, dpi=300)"
   ]
  },
  {
   "cell_type": "markdown",
   "id": "c3464aa1-000e-4f0a-9d62-6f187a6f4791",
   "metadata": {},
   "source": [
    "### Plot phase maps"
   ]
  },
  {
   "cell_type": "code",
   "execution_count": null,
   "id": "af33b2d8-4ba0-4695-be60-fc5679312020",
   "metadata": {},
   "outputs": [],
   "source": [
    "from matplotlib.colors import to_rgba\n",
    "from matplotlib.colors import LinearSegmentedColormap\n",
    "\n",
    "color_names = ['linen', 'darkorange', 'dodgerblue', 'forestgreen']\n",
    "colors = [to_rgba(c) for c in color_names]\n",
    "\n",
    "cmap = LinearSegmentedColormap.from_list('gt_cmap', colors, N=len(color_names))"
   ]
  },
  {
   "cell_type": "code",
   "execution_count": null,
   "id": "40cc47b0-c923-4b90-9a31-bc79658014ba",
   "metadata": {},
   "outputs": [],
   "source": [
    "img = phase_map_ANN.data\n",
    "file_name = '/pred_nmf.png'\n",
    "directory = r'.\\Final_outputs\\phasemaps\\DatasetA'\n",
    "cmap_inplot = False\n",
    "cmap_gt = True\n",
    "scalebar = False\n",
    "\n",
    "if cmap_gt:\n",
    "    img_flatten = img.flatten()\n",
    "    image = np.zeros((512*512,4))\n",
    "    for i in range(len(color_names)):\n",
    "        mask = img_flatten == i\n",
    "        image[mask] = colors[i]\n",
    "    image = image.reshape((512,512,4))\n",
    "else:\n",
    "    image = img\n",
    "\n",
    "fig,ax = plt.subplots()\n",
    "ax.axis('off')\n",
    "if cmap_gt:\n",
    "    ax.imshow(image, cmap=cmap)\n",
    "else:\n",
    "    ax.imshow(image, cmap='magma_r', norm=LogNorm())\n",
    "if scalebar:\n",
    "    ax.add_artist(scalebar_)\n",
    "\n",
    "if cmap_inplot:\n",
    "    cmappable = ScalarMappable(norm=Normalize(0,1), cmap=cmap)\n",
    "    cbar = plt.colorbar(cmappable, orientation='horizontal', fraction=0.043, pad=0.04)\n",
    "\n",
    "    tick_locs = ((np.arange(5) + 0.5))/5\n",
    "    cbar.set_ticks(tick_locs)\n",
    "\n",
    "    cbar.ax.set_xticklabels(['Al', r\"$\\theta'_{\\langle100\\rangle}$\", r\"$\\theta'_{[001]}$\", 'T1', 'Not indexed'])\n",
    "\n",
    "    plt.setp(plt.getp(cbar.ax.axes, 'yticklabels'), fontsize=14)\n",
    "\n",
    "plt.show()\n",
    "plt.savefig(directory + file_name, transparent = True, bbox_inches = 'tight', pad_inches = 0, dpi=300)\n"
   ]
  }
 ],
 "metadata": {
  "kernelspec": {
   "display_name": "Python 3 (ipykernel)",
   "language": "python",
   "name": "python3"
  },
  "language_info": {
   "codemirror_mode": {
    "name": "ipython",
    "version": 3
   },
   "file_extension": ".py",
   "mimetype": "text/x-python",
   "name": "python",
   "nbconvert_exporter": "python",
   "pygments_lexer": "ipython3",
   "version": "3.10.8"
  }
 },
 "nbformat": 4,
 "nbformat_minor": 5
}
