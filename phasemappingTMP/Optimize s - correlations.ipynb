{
 "cells": [
  {
   "cell_type": "code",
   "execution_count": 1,
   "id": "524353b6",
   "metadata": {},
   "outputs": [
    {
     "name": "stderr",
     "output_type": "stream",
     "text": [
      "WARNING:silx.opencl.common:Unable to import pyOpenCl. Please install it from: https://pypi.org/project/pyopencl\n"
     ]
    }
   ],
   "source": [
    "%matplotlib qt5\n",
    "\n",
    "import numpy as np\n",
    "import matplotlib.pyplot as plt\n",
    "\n",
    "import hyperspy.api as hs\n",
    "from hyperspy.axes import AxesManager\n",
    "\n",
    "import diffpy\n",
    "from diffpy.structure import Atom, Structure, Lattice, loadStructure\n",
    "\n",
    "from pathlib import Path\n",
    "\n",
    "from orix import plot, sampling\n",
    "from orix.crystal_map import CrystalMap, Phase, PhaseList\n",
    "from orix.quaternion import Orientation, Rotation, symmetry\n",
    "from orix.vector import Vector3d, Miller\n",
    "from orix.io import load, save\n",
    "from orix.projections import StereographicProjection\n",
    "\n",
    "from diffsims.libraries.structure_library import StructureLibrary\n",
    "from diffsims.generators.diffraction_generator import DiffractionGenerator\n",
    "from diffsims.generators.library_generator import DiffractionLibraryGenerator\n",
    "from diffsims.generators.rotation_list_generators import get_beam_directions_grid\n",
    "from diffsims.generators.zap_map_generator import get_rotation_from_z_to_direction\n",
    "\n",
    "import pyxem as pxm\n",
    "from pyxem.utils import indexation_utils as iutls\n",
    "from pyxem.utils import plotting_utils as putls\n",
    "from pyxem.utils import polar_transform_utils as ptutls\n",
    "from pyxem.utils import expt_utils as eutls\n",
    "from pyxem.utils.plotting_utils import plot_template_over_pattern\n"
   ]
  },
  {
   "cell_type": "markdown",
   "id": "2d1f1334",
   "metadata": {},
   "source": [
    "# Filer"
   ]
  },
  {
   "cell_type": "code",
   "execution_count": 2,
   "id": "4cb538c5",
   "metadata": {},
   "outputs": [],
   "source": [
    "file = 'Almasked_DoG.hdf5'"
   ]
  },
  {
   "cell_type": "markdown",
   "id": "3eaeb2d7",
   "metadata": {},
   "source": [
    "# Import file"
   ]
  },
  {
   "cell_type": "code",
   "execution_count": 3,
   "id": "e758774f",
   "metadata": {},
   "outputs": [
    {
     "name": "stdout",
     "output_type": "stream",
     "text": [
      "0.01904\n"
     ]
    }
   ],
   "source": [
    "experimental_data = hs.load(file, lazy=True)\n",
    "experimental_data.set_signal_type('electron_diffraction')\n",
    "experimental_data \n",
    "\n",
    "diffraction_calibration = experimental_data.axes_manager[2].scale\n",
    "print(diffraction_calibration)"
   ]
  },
  {
   "cell_type": "markdown",
   "id": "0d8f3d76",
   "metadata": {},
   "source": [
    "## Make a custom dataset with each phase separated"
   ]
  },
  {
   "cell_type": "code",
   "execution_count": 5,
   "id": "2585cbee",
   "metadata": {},
   "outputs": [
    {
     "ename": "IndexError",
     "evalue": "Index 422 is out of bounds for axis 0 with size 100",
     "output_type": "error",
     "traceback": [
      "\u001b[1;31m---------------------------------------------------------------------------\u001b[0m",
      "\u001b[1;31mIndexError\u001b[0m                                Traceback (most recent call last)",
      "\u001b[1;32mf:\\Template\\TemplateMatching_final\\Optimize s - correlations.ipynb Cell 7\u001b[0m in \u001b[0;36m<cell line: 3>\u001b[1;34m()\u001b[0m\n\u001b[0;32m      <a href='vscode-notebook-cell:/f%3A/Template/TemplateMatching_final/Optimize%20s%20-%20correlations.ipynb#W6sZmlsZQ%3D%3D?line=0'>1</a>\u001b[0m \u001b[39mif\u001b[39;00m (\u001b[39mTrue\u001b[39;00m): \u001b[39m# Set True if running on normal 512x512 dataset, False if on customDataset noAl masked dataset (made before)\u001b[39;00m\n\u001b[0;32m      <a href='vscode-notebook-cell:/f%3A/Template/TemplateMatching_final/Optimize%20s%20-%20correlations.ipynb#W6sZmlsZQ%3D%3D?line=1'>2</a>\u001b[0m     \u001b[39m# Theta Primes, needles [100]/[010]\u001b[39;00m\n\u001b[1;32m----> <a href='vscode-notebook-cell:/f%3A/Template/TemplateMatching_final/Optimize%20s%20-%20correlations.ipynb#W6sZmlsZQ%3D%3D?line=2'>3</a>\u001b[0m     A_11 \u001b[39m=\u001b[39m experimental_data\u001b[39m.\u001b[39;49minav[\u001b[39m112\u001b[39;49m,\u001b[39m422\u001b[39;49m]\u001b[39m.\u001b[39mdata \u001b[39m# Very nice pattern 128,395 is other option\u001b[39;00m\n\u001b[0;32m      <a href='vscode-notebook-cell:/f%3A/Template/TemplateMatching_final/Optimize%20s%20-%20correlations.ipynb#W6sZmlsZQ%3D%3D?line=3'>4</a>\u001b[0m     A_12 \u001b[39m=\u001b[39m experimental_data\u001b[39m.\u001b[39minav[ \u001b[39m74\u001b[39m,\u001b[39m405\u001b[39m]\u001b[39m.\u001b[39mdata \u001b[39m# More noise and other in plane rot, 101,75: less reflections\u001b[39;00m\n\u001b[0;32m      <a href='vscode-notebook-cell:/f%3A/Template/TemplateMatching_final/Optimize%20s%20-%20correlations.ipynb#W6sZmlsZQ%3D%3D?line=4'>5</a>\u001b[0m     A_13 \u001b[39m=\u001b[39m experimental_data\u001b[39m.\u001b[39minav[\u001b[39m343\u001b[39m,\u001b[39m175\u001b[39m]\u001b[39m.\u001b[39mdata \u001b[39m# Overlapping and changing intensities, T1 weaker...\u001b[39;00m\n",
      "File \u001b[1;32mc:\\Users\\torit\\Anaconda3\\envs\\hyperspy_latest\\lib\\site-packages\\hyperspy\\misc\\slicing.py:193\u001b[0m, in \u001b[0;36mSpecialSlicers.__getitem__\u001b[1;34m(self, slices, out)\u001b[0m\n\u001b[0;32m    192\u001b[0m \u001b[39mdef\u001b[39;00m \u001b[39m__getitem__\u001b[39m(\u001b[39mself\u001b[39m, slices, out\u001b[39m=\u001b[39m\u001b[39mNone\u001b[39;00m):\n\u001b[1;32m--> 193\u001b[0m     \u001b[39mreturn\u001b[39;00m \u001b[39mself\u001b[39;49m\u001b[39m.\u001b[39;49mobj\u001b[39m.\u001b[39;49m_slicer(slices, \u001b[39mself\u001b[39;49m\u001b[39m.\u001b[39;49misNavigation, out\u001b[39m=\u001b[39;49mout)\n",
      "File \u001b[1;32mc:\\Users\\torit\\Anaconda3\\envs\\hyperspy_latest\\lib\\site-packages\\hyperspy\\misc\\slicing.py:280\u001b[0m, in \u001b[0;36mFancySlicing._slicer\u001b[1;34m(self, slices, isNavigation, out)\u001b[0m\n\u001b[0;32m    277\u001b[0m     \u001b[39mraise\u001b[39;00m \u001b[39mRuntimeError\u001b[39;00m(\u001b[39m\"\u001b[39m\u001b[39m`isig` is not supported for ragged signal.\u001b[39m\u001b[39m\"\u001b[39m)\n\u001b[0;32m    279\u001b[0m array_slices \u001b[39m=\u001b[39m \u001b[39mself\u001b[39m\u001b[39m.\u001b[39m_get_array_slices(slices, isNavigation)\n\u001b[1;32m--> 280\u001b[0m new_data \u001b[39m=\u001b[39m \u001b[39mself\u001b[39;49m\u001b[39m.\u001b[39;49mdata[array_slices]\n\u001b[0;32m    281\u001b[0m \u001b[39mif\u001b[39;00m (\u001b[39mself\u001b[39m\u001b[39m.\u001b[39mragged \u001b[39mand\u001b[39;00m new_data\u001b[39m.\u001b[39mdtype \u001b[39m!=\u001b[39m np\u001b[39m.\u001b[39mdtype(\u001b[39mobject\u001b[39m) \u001b[39mand\u001b[39;00m\n\u001b[0;32m    282\u001b[0m         \u001b[39misinstance\u001b[39m(new_data, np\u001b[39m.\u001b[39mndarray)):\n\u001b[0;32m    283\u001b[0m     \u001b[39m# Numpy will convert the array to non-ragged, for consistency,\u001b[39;00m\n\u001b[0;32m    284\u001b[0m     \u001b[39m# we make a ragged array with only one item\u001b[39;00m\n\u001b[0;32m    285\u001b[0m     data \u001b[39m=\u001b[39m new_data\u001b[39m.\u001b[39mcopy()\n",
      "File \u001b[1;32mc:\\Users\\torit\\Anaconda3\\envs\\hyperspy_latest\\lib\\site-packages\\dask\\array\\core.py:1939\u001b[0m, in \u001b[0;36mArray.__getitem__\u001b[1;34m(self, index)\u001b[0m\n\u001b[0;32m   1931\u001b[0m     index \u001b[39m=\u001b[39m (index,)\n\u001b[0;32m   1933\u001b[0m \u001b[39mfrom\u001b[39;00m \u001b[39mdask\u001b[39;00m\u001b[39m.\u001b[39;00m\u001b[39marray\u001b[39;00m\u001b[39m.\u001b[39;00m\u001b[39mslicing\u001b[39;00m \u001b[39mimport\u001b[39;00m (\n\u001b[0;32m   1934\u001b[0m     normalize_index,\n\u001b[0;32m   1935\u001b[0m     slice_with_bool_dask_array,\n\u001b[0;32m   1936\u001b[0m     slice_with_int_dask_array,\n\u001b[0;32m   1937\u001b[0m )\n\u001b[1;32m-> 1939\u001b[0m index2 \u001b[39m=\u001b[39m normalize_index(index, \u001b[39mself\u001b[39;49m\u001b[39m.\u001b[39;49mshape)\n\u001b[0;32m   1940\u001b[0m dependencies \u001b[39m=\u001b[39m {\u001b[39mself\u001b[39m\u001b[39m.\u001b[39mname}\n\u001b[0;32m   1941\u001b[0m \u001b[39mfor\u001b[39;00m i \u001b[39min\u001b[39;00m index2:\n",
      "File \u001b[1;32mc:\\Users\\torit\\Anaconda3\\envs\\hyperspy_latest\\lib\\site-packages\\dask\\array\\slicing.py:917\u001b[0m, in \u001b[0;36mnormalize_index\u001b[1;34m(idx, shape)\u001b[0m\n\u001b[0;32m    915\u001b[0m \u001b[39mfor\u001b[39;00m axis, (i, d) \u001b[39min\u001b[39;00m \u001b[39menumerate\u001b[39m(\u001b[39mzip\u001b[39m(idx, none_shape)):\n\u001b[0;32m    916\u001b[0m     \u001b[39mif\u001b[39;00m d \u001b[39mis\u001b[39;00m \u001b[39mnot\u001b[39;00m \u001b[39mNone\u001b[39;00m:\n\u001b[1;32m--> 917\u001b[0m         check_index(axis, i, d)\n\u001b[0;32m    918\u001b[0m idx \u001b[39m=\u001b[39m \u001b[39mtuple\u001b[39m(\u001b[39mmap\u001b[39m(sanitize_index, idx))\n\u001b[0;32m    919\u001b[0m idx \u001b[39m=\u001b[39m \u001b[39mtuple\u001b[39m(\u001b[39mmap\u001b[39m(normalize_slice, idx, none_shape))\n",
      "File \u001b[1;32mc:\\Users\\torit\\Anaconda3\\envs\\hyperspy_latest\\lib\\site-packages\\dask\\array\\slicing.py:989\u001b[0m, in \u001b[0;36mcheck_index\u001b[1;34m(axis, ind, dimension)\u001b[0m\n\u001b[0;32m    986\u001b[0m     \u001b[39mreturn\u001b[39;00m\n\u001b[0;32m    988\u001b[0m \u001b[39melif\u001b[39;00m ind \u001b[39m>\u001b[39m\u001b[39m=\u001b[39m dimension \u001b[39mor\u001b[39;00m ind \u001b[39m<\u001b[39m \u001b[39m-\u001b[39mdimension:\n\u001b[1;32m--> 989\u001b[0m     \u001b[39mraise\u001b[39;00m \u001b[39mIndexError\u001b[39;00m(\n\u001b[0;32m    990\u001b[0m         \u001b[39mf\u001b[39m\u001b[39m\"\u001b[39m\u001b[39mIndex \u001b[39m\u001b[39m{\u001b[39;00mind\u001b[39m}\u001b[39;00m\u001b[39m is out of bounds for axis \u001b[39m\u001b[39m{\u001b[39;00maxis\u001b[39m}\u001b[39;00m\u001b[39m with size \u001b[39m\u001b[39m{\u001b[39;00mdimension\u001b[39m}\u001b[39;00m\u001b[39m\"\u001b[39m\n\u001b[0;32m    991\u001b[0m     )\n",
      "\u001b[1;31mIndexError\u001b[0m: Index 422 is out of bounds for axis 0 with size 100"
     ]
    }
   ],
   "source": [
    "if (True): # Set True if running on normal 512x512 dataset, False if on customDataset noAl masked dataset (made before)\n",
    "    # Theta Primes, needles [100]/[010]\n",
    "    A_11 = experimental_data.inav[112,422].data # Nice pattern 128,395 is other option\n",
    "    A_12 = experimental_data.inav[ 74,405].data # More noise and other in plane rot, 101,75: less reflections\n",
    "    A_13 = experimental_data.inav[343,175].data # Overlapping and changing intensities, T1 weaker...\n",
    "    A_14 = experimental_data.inav[416,433].data # Weak overlapping signals, ish same intensities.\n",
    "    # Theta Primes, in plane [001]\n",
    "    A_21 = experimental_data.inav[251,455].data # Fairly decent signal\n",
    "    A_22 = experimental_data.inav[355, 77].data # Weaker reflections\n",
    "    A_23 = experimental_data.inav[ 43, 84].data # Overlapping in plane theta and T1, weak signal-to-noice\n",
    "    A_24 = experimental_data.inav[ 92, 56].data # Overlapping in plane theta and needle, weak signals...\n",
    "    # T1, [041]\n",
    "    A_31 = experimental_data.inav[194,248].data # T1 horizontal, weak, but all are...\n",
    "    A_32 = experimental_data.inav[450,253].data # T1 vertical, stronger\n",
    "    A_33 = experimental_data.inav[434, 22].data # T1 both orientations overlap\n",
    "    A_34 = experimental_data.inav[205,431].data # T1 overlap theta prime, weak sign both\n",
    "    # Al, [001]\n",
    "    A_41 = experimental_data.inav[216,138].data # Just Al, little noise\n",
    "    A_42 = experimental_data.inav[360, 29].data # noisier Al\n",
    "    A_43 = experimental_data.inav[ 48, 29].data # Al very close to in plane theta\n",
    "    A_44 = experimental_data.inav[104,451].data # Al different background for some reason...\n",
    "\n",
    "    A = np.array([[A_11, A_12, A_13, A_14],\n",
    "                [A_21, A_22, A_23, A_24],\n",
    "                [A_31, A_32, A_33, A_34],\n",
    "                [A_41, A_42, A_43, A_44]])\n",
    "\n",
    "    custom_dataset = hs.signals.Signal2D(A)\n",
    "    custom_dataset.set_signal_type('electron_diffraction')\n",
    "    custom_dataset.set_diffraction_calibration(diffraction_calibration)\n",
    "\n",
    "    experimental_data = custom_dataset\n",
    "    experimental_data.plot(cmap='magma')"
   ]
  },
  {
   "cell_type": "markdown",
   "id": "821cd5cf",
   "metadata": {},
   "source": [
    "# Choose your DP and what phase you expect to find"
   ]
  },
  {
   "cell_type": "code",
   "execution_count": 282,
   "id": "41202de7",
   "metadata": {},
   "outputs": [
    {
     "name": "stdout",
     "output_type": "stream",
     "text": [
      "Using dp at (x,y): ( 0 3 ) and phase: Al\n",
      "3 Al\n"
     ]
    }
   ],
   "source": [
    "# give the coordintes for the DP to look at\n",
    "dp_x = 0\n",
    "dp_y = 3\n",
    "experimental_data=custom_dataset.inav[dp_x,dp_y]\n",
    "\n",
    "#Possible choices:['ThetaPrime100', 'ThetaPrime001', 'T1', 'Al']\n",
    "phases = np.array(['ThetaPrime100', 'ThetaPrime001', 'T1', 'Al'])\n",
    "use_phase = phases[dp_y]\n",
    "\n",
    "#experimental_data = experimental_data.inav[6, 44] \n",
    "print('Using dp at (x,y): (', dp_x, dp_y, ') and phase:', use_phase)\n",
    "\n",
    "print(dp_y, phases[dp_y])"
   ]
  },
  {
   "cell_type": "code",
   "execution_count": 283,
   "id": "c3b866bd",
   "metadata": {},
   "outputs": [
    {
     "name": "stdout",
     "output_type": "stream",
     "text": [
      "[########################################] | 100% Completed |  0.1s\n"
     ]
    },
    {
     "name": "stderr",
     "output_type": "stream",
     "text": [
      "C:\\Users\\torit\\AppData\\Local\\Temp\\ipykernel_4856\\641237272.py:6: RuntimeWarning: More than 20 figures have been opened. Figures created through the pyplot interface (`matplotlib.pyplot.figure`) are retained until explicitly closed and may consume too much memory. (To control this warning, see the rcParam `figure.max_open_warning`).\n",
      "  fig, ax = plt.subplots(figsize=(8,8))\n"
     ]
    },
    {
     "data": {
      "text/plain": [
       "(-0.5, 127.5, 127.5, -0.5)"
      ]
     },
     "execution_count": 283,
     "metadata": {},
     "output_type": "execute_result"
    }
   ],
   "source": [
    "experimental_data.plot(cmap='Greys', norm='log')\n",
    "\n",
    "def log_shift(raw):\n",
    "    return np.log10(raw+0.001)-np.log(0.001)\n",
    "\n",
    "fig, ax = plt.subplots(figsize=(8,8))\n",
    "ax.imshow(experimental_data.map(log_shift,inplace=False),cmap='Greys')\n",
    "ax.axis('off')\n",
    "\n",
    "#plt.savefig('images\\DPcor_Al', transparent=True, bbox_inches='tight', pad_inches=0, dpi=300)"
   ]
  },
  {
   "cell_type": "markdown",
   "id": "a743b269",
   "metadata": {},
   "source": [
    "# 1) Now get rotation lists and limit tilt ranges"
   ]
  },
  {
   "cell_type": "code",
   "execution_count": 284,
   "id": "52d7aab0",
   "metadata": {},
   "outputs": [],
   "source": [
    "# Set a rotation resolution and get rotations lists for the relevant crystal structures:\n",
    "resolution = 0.5 # maximum angle in degrees between nearest templates.\n",
    "threshold = 3  # Degrees, how far off a zone axis simulated"
   ]
  },
  {
   "cell_type": "code",
   "execution_count": 285,
   "id": "fce2f4c5",
   "metadata": {},
   "outputs": [
    {
     "name": "stderr",
     "output_type": "stream",
     "text": [
      "c:\\Users\\torit\\Anaconda3\\envs\\hyperspy_latest\\lib\\site-packages\\diffsims\\generators\\sphere_mesh_generators.py:515: RuntimeWarning: invalid value encountered in true_divide\n",
      "  phi2 = sign * np.nan_to_num(np.arccos(x_comp / norm_proj))\n"
     ]
    }
   ],
   "source": [
    "# Getting the rotation lists:\n",
    "cubic_grid = get_beam_directions_grid(\"cubic\", resolution, mesh=\"spherified_cube_edge\") #Al\n",
    "Al_structure = diffpy.structure.loadStructure(r'Al.cif')\n",
    "\n",
    "hex_grid = get_beam_directions_grid(\"hexagonal\", resolution, mesh=\"spherified_cube_edge\") #T1\n",
    "T1_structure      = diffpy.structure.loadStructure(r'T1.cif')\n",
    "\n",
    "tetra_grid = get_beam_directions_grid(\"tetragonal\", resolution, mesh=\"spherified_cube_edge\") #theta\n",
    "ThetaPrime_structure      = diffpy.structure.loadStructure(r'thetaprime.cif')"
   ]
  },
  {
   "cell_type": "markdown",
   "id": "44710abd",
   "metadata": {},
   "source": [
    "## A tilt limiting function"
   ]
  },
  {
   "cell_type": "code",
   "execution_count": 286,
   "id": "35e5bdb2",
   "metadata": {},
   "outputs": [],
   "source": [
    "def _new_structure_matrix_from_alignment(old_matrix, x=None, y=None, z=None):\n",
    "    \"\"\"Taken from orix v0.9, see\n",
    "    https://github.com/pyxem/orix/blob/fb269b0456163aa3ac1f80498a9894c53953dccb/orix/crystal_map/phase_list.py#L794-L845.\n",
    "    \n",
    "    Explanation of why changing the structure matrix (base) to use orix with\n",
    "    ReciPro, which uses another alignment, is needed:\n",
    "    https://orix.readthedocs.io/en/stable/crystal_reference_frame.html.\n",
    "    \"\"\"\n",
    "    if sum([i is None for i in [x, y, z]]) > 1:\n",
    "        raise ValueError(\"At least two of x, y, z must be set.\")\n",
    "\n",
    "    # Old direct lattice base (row) vectors in Cartesian coordinates\n",
    "    old_matrix = Vector3d(old_matrix)\n",
    "    ad, bd, cd = old_matrix.unit\n",
    "\n",
    "    # Old reciprocal lattice base vectors in cartesian coordinates\n",
    "    ar = bd.cross(cd).unit\n",
    "    br = cd.cross(ad).unit\n",
    "    cr = ad.cross(bd).unit\n",
    "\n",
    "    # New unit crystal base\n",
    "    new_vectors = Vector3d.zero((3,))\n",
    "    axes_mapping = {\"a\": ad, \"b\": bd, \"c\": cd, \"a*\": ar, \"b*\": br, \"c*\": cr}\n",
    "    for i, al in enumerate([x, y, z]):\n",
    "        if al in axes_mapping.keys():\n",
    "            new_vectors[i] = axes_mapping[al]\n",
    "    other_idx = {0: (1, 2), 1: (2, 0), 2: (0, 1)}\n",
    "    for i in range(3):\n",
    "        if np.isclose(new_vectors[i].norm, 0):\n",
    "            other0, other1 = other_idx[i]\n",
    "            new_vectors[i] = new_vectors[other0].cross(new_vectors[other1])\n",
    "\n",
    "    # New crystal base\n",
    "    new_matrix = new_vectors.dot(old_matrix.reshape(3, 1)).round(12)\n",
    "\n",
    "    return new_matrix\n",
    "\n",
    "#Defining a function that returns the tilt range of interest around a given zone axis for a given structure:\n",
    "def get_tilt_range_around_zone(phase_object, zone_axis, euler_grid, max_tilt):\n",
    "    '''\n",
    "    phase_object : Orix phase object (Ex. Phase(name='T1', space_group=191, structure=T1_structure))\n",
    "    zone_axis : The zone axis you want to rotate about\n",
    "    euler_grid : the total rotation grid needed to describe whole crystal\n",
    "    max_tilt : The maximum angle deviation from zone axis to be included\n",
    "    '''\n",
    "    # Input\n",
    "    uvw = zone_axis\n",
    "    phase = phase_object.deepcopy()\n",
    "    \n",
    "    # Change structure matrix (crystal lattice base)\n",
    "    # NB! Use with care, since orix assumes another alignment, e1||a, e3||c*!\n",
    "    lat = phase.structure.lattice\n",
    "    new_base = _new_structure_matrix_from_alignment(lat.base, x=\"a*\", z=\"c\")\n",
    "    lat.setLatBase(new_base)\n",
    "        \n",
    "    # Sample grid\n",
    "    g_grid = Rotation.from_euler(np.deg2rad(euler_grid))\n",
    "\n",
    "    # Rotate Zs (optic axis) into *cartesian* crystal coordinates\n",
    "    rz = Vector3d.zvector()\n",
    "    hz = g_grid * rz\n",
    "\n",
    "    # Cartesian crystal coordinates in Miller indices <uvw> (unit cell coordinates)\n",
    "    hz_miller = Miller(xyz=hz.data, phase=phase)\n",
    "    hz_miller.coordinate_format = \"uvw\"\n",
    "\n",
    "    # Rotate into fundamental sector defined in orix\n",
    "    hz_miller = hz_miller.in_fundamental_sector()\n",
    "\n",
    "    # Define zone axis and symmetrically equivalent directions\n",
    "    za = Miller(uvw=uvw, phase=phase)\n",
    "    za2 = za.symmetrise(unique=True)\n",
    "\n",
    "    # Get disorientation angle (smallest misorientation angle under symmetry)\n",
    "    hz_miller2 = hz_miller.reshape(hz_miller.size, 1)\n",
    "    za2 = za2.reshape(1, za2.size)\n",
    "    all_angles = za2.angle_with(hz_miller2)\n",
    "    angles = all_angles.min(axis=1)\n",
    "\n",
    "    # Get orientations within threshold\n",
    "    mask = angles <= np.deg2rad(threshold)\n",
    "    masked_euler_grid = euler_grid[mask]\n",
    "    \n",
    "    if False:\n",
    "        fig = plt.figure()\n",
    "        ax = fig.add_subplot(projection=\"ipf\", symmetry=phase.point_group)\n",
    "        ax.scatter(hz_miller, c=angles)\n",
    "        ax.scatter(hz_miller[mask], c=\"w\", ec=\"k\")\n",
    "        fig.tight_layout()\n",
    "#        fig = hz_miller.scatter(\n",
    "#        hemisphere=\"both\",\n",
    "#        c=angles,\n",
    "#        axes_labels=[\"Xc\", \"Yc\"],\n",
    "#        return_figure=True,\n",
    "#        figure_kwargs=dict(figsize=(15, 15)),\n",
    "#        )\n",
    "#        fig.tight_layout()\n",
    "    \n",
    "    return masked_euler_grid"
   ]
  },
  {
   "cell_type": "markdown",
   "id": "a709cf33",
   "metadata": {},
   "source": [
    "## Al"
   ]
  },
  {
   "cell_type": "code",
   "execution_count": 287,
   "id": "b18c8971",
   "metadata": {},
   "outputs": [
    {
     "data": {
      "text/plain": [
       "20"
      ]
     },
     "execution_count": 287,
     "metadata": {},
     "output_type": "execute_result"
    }
   ],
   "source": [
    "# Input Al\n",
    "uvw = [0, 0, 1]\n",
    "Al_phase = Phase(name='Al', space_group=225, structure=Al_structure)\n",
    "\n",
    "Al_grid_masked_001 = get_tilt_range_around_zone(Al_phase, uvw, cubic_grid, threshold)\n",
    "Al_grid_masked_001.size//3"
   ]
  },
  {
   "cell_type": "markdown",
   "id": "82a352fc",
   "metadata": {},
   "source": [
    "## Theta Prime 001 and 100"
   ]
  },
  {
   "cell_type": "code",
   "execution_count": 288,
   "id": "21989627",
   "metadata": {},
   "outputs": [
    {
     "name": "stdout",
     "output_type": "stream",
     "text": [
      "20\n",
      "35\n"
     ]
    }
   ],
   "source": [
    "# Input ThetaPrime\n",
    "uvw_001 = [0, 0, 1]\n",
    "uvw_100 = [1, 0, 0]\n",
    "ThetaPrime_phase = Phase(name='ThetaPrime', space_group=119, structure=ThetaPrime_structure)\n",
    "\n",
    "ThetaPrime_grid_masked_001 = get_tilt_range_around_zone(ThetaPrime_phase, uvw_001, tetra_grid, threshold)\n",
    "ThetaPrime_grid_masked_100 = get_tilt_range_around_zone(ThetaPrime_phase, uvw_100, tetra_grid, threshold)\n",
    "print(ThetaPrime_grid_masked_001.size//3)\n",
    "print(ThetaPrime_grid_masked_100.size//3)"
   ]
  },
  {
   "cell_type": "markdown",
   "id": "b447e626",
   "metadata": {},
   "source": [
    "## T1"
   ]
  },
  {
   "cell_type": "code",
   "execution_count": 289,
   "id": "e24957de",
   "metadata": {},
   "outputs": [
    {
     "data": {
      "text/plain": [
       "147"
      ]
     },
     "execution_count": 289,
     "metadata": {},
     "output_type": "execute_result"
    }
   ],
   "source": [
    "# Input T1\n",
    "uvw_041 = [0,-4,1]\n",
    "T1_phase = Phase(name='T1', space_group=191, structure=T1_structure)\n",
    "\n",
    "T1_grid_masked_041 = get_tilt_range_around_zone(T1_phase, uvw_041, hex_grid, threshold)\n",
    "T1_grid_masked_041.size//3"
   ]
  },
  {
   "cell_type": "markdown",
   "id": "4e3412fb",
   "metadata": {},
   "source": [
    "# Now we select the correct parameters for our phase"
   ]
  },
  {
   "cell_type": "code",
   "execution_count": 290,
   "id": "15024e9c",
   "metadata": {},
   "outputs": [
    {
     "name": "stdout",
     "output_type": "stream",
     "text": [
      "You have said that you have Al at ( 0 3 )\n",
      "This has crystal system: cubic\n"
     ]
    }
   ],
   "source": [
    "if(use_phase == 'ThetaPrime100'):\n",
    "    crystal_system = \"tetragonal\"\n",
    "    rot_grid       = ThetaPrime_grid_masked_100\n",
    "    phase_structure= ThetaPrime_structure\n",
    "elif(use_phase == 'ThetaPrime001'):\n",
    "    crystal_system = \"tetragonal\"\n",
    "    rot_grid       = ThetaPrime_grid_masked_001\n",
    "    phase_structure= ThetaPrime_structure\n",
    "elif(use_phase == 'T1'):\n",
    "    crystal_system = \"hexagonal\"\n",
    "    rot_grid       = T1_grid_masked_041\n",
    "    phase_structure= T1_structure\n",
    "else: # Al\n",
    "    crystal_system = \"cubic\"\n",
    "    rot_grid       = Al_grid_masked_001\n",
    "    phase_structure= Al_structure\n",
    "\n",
    "print('You have said that you have', use_phase, 'at (', dp_x, dp_y, ')')\n",
    "print(\"This has crystal system:\", crystal_system)"
   ]
  },
  {
   "cell_type": "markdown",
   "id": "8539d47c",
   "metadata": {},
   "source": [
    "# Different structure libraries:"
   ]
  },
  {
   "cell_type": "code",
   "execution_count": 292,
   "id": "5044bb3f",
   "metadata": {},
   "outputs": [],
   "source": [
    "Al_library      = StructureLibrary(['Al'],              [Al_structure],         [Al_grid_masked_001])             \n",
    "Th001_library   = StructureLibrary(['ThetaPrime001'],   [ThetaPrime_structure], [ThetaPrime_grid_masked_001])\n",
    "Th100_library   = StructureLibrary(['ThetaPrime100'],   [ThetaPrime_structure], [ThetaPrime_grid_masked_100])\n",
    "T1_library      = StructureLibrary(['T1'],              [T1_structure],         [T1_grid_masked_041])\n",
    "\n",
    "library_phases = np.empty(4, dtype=StructureLibrary)\n",
    "library_phases[0] = Th100_library\n",
    "library_phases[1] = Th001_library\n",
    "library_phases[2] = T1_library\n",
    "library_phases[3] = Al_library"
   ]
  },
  {
   "cell_type": "markdown",
   "id": "89932eca",
   "metadata": {},
   "source": [
    "# 2) The template matching"
   ]
  },
  {
   "attachments": {},
   "cell_type": "markdown",
   "id": "6693a097",
   "metadata": {},
   "source": [
    "### Some setup parameters"
   ]
  },
  {
   "cell_type": "code",
   "execution_count": 293,
   "id": "cd4e1d72",
   "metadata": {},
   "outputs": [
    {
     "name": "stdout",
     "output_type": "stream",
     "text": [
      "s from 0.0005 to 0.1 with 100 steps.\n",
      "half shape: (64, 64)\n",
      "Setting min intesity for microscope to be 1e-20\n",
      "reciprocal radius =  1.723304078565359\n",
      "diffraction calibration= 0.01904\n"
     ]
    }
   ],
   "source": [
    "# A list of different excitation errors\n",
    "num_s = 100\n",
    "s = np.linspace(1/2000, 1/10, num_s)\n",
    "\n",
    "# Min intensity to be included in simulations of DPs\n",
    "minimum_intensity = 1E-20\n",
    "\n",
    "# half size of the images\n",
    "half_shape = (experimental_data.data.shape[-2]//2, experimental_data.data.shape[-1]//2)\n",
    "\n",
    "# maximum radius in reciprocal space to calculate spot intensities for\n",
    "reciprocal_radius = np.sqrt(half_shape[0]**2 + half_shape[1]**2)*diffraction_calibration\n",
    "\n",
    "print('s from', s[0], 'to', s[-1], 'with', num_s, 'steps.')\n",
    "print('half shape:', half_shape)\n",
    "print('Setting min intesity for microscope to be', minimum_intensity)\n",
    "print('reciprocal radius = ', reciprocal_radius)\n",
    "print('diffraction calibration=', diffraction_calibration)"
   ]
  },
  {
   "cell_type": "code",
   "execution_count": 294,
   "id": "8153a4ac",
   "metadata": {},
   "outputs": [],
   "source": [
    "# \"Turn on microscope\"\n",
    "diff_gen = DiffractionGenerator(accelerating_voltage=200,\n",
    "                                precession_angle=0,\n",
    "                                shape_factor_model=\"linear\",\n",
    "                                scattering_params=None,\n",
    "                                minimum_intensity=minimum_intensity,  # Auto set to 1E-20\n",
    "                                )\n",
    "\n",
    "# \"Hook up computer to do tilt series and collect DPs using the TEM\"\n",
    "lib_gen = DiffractionLibraryGenerator(diff_gen)"
   ]
  },
  {
   "cell_type": "markdown",
   "id": "5c1f043f",
   "metadata": {},
   "source": [
    "# 3) We want to check what our choice of s should be to get the correct phase"
   ]
  },
  {
   "attachments": {},
   "cell_type": "markdown",
   "id": "313430b5",
   "metadata": {},
   "source": [
    "## Do a full template match for all s on each phase only one library each"
   ]
  },
  {
   "cell_type": "code",
   "execution_count": 295,
   "id": "a7b28daf",
   "metadata": {},
   "outputs": [],
   "source": [
    "# Creating some lists to keep results, we will get results from 4 phases and num_s s values\n",
    "diff_libs = np.empty((4, num_s), dtype=object)\n",
    "results = np.empty((4, num_s), dtype=object)\n",
    "phasedicts = np.empty((4, num_s), dtype=object)"
   ]
  },
  {
   "cell_type": "code",
   "execution_count": 296,
   "id": "5e6a1909",
   "metadata": {
    "scrolled": true
   },
   "outputs": [
    {
     "name": "stderr",
     "output_type": "stream",
     "text": [
      "100%|██████████| 100/100 [02:17<00:00,  1.38s/it]\n"
     ]
    }
   ],
   "source": [
    "# Calculate the libraries\n",
    "from tqdm import tqdm\n",
    "for i in tqdm(range(num_s)):\n",
    "    for aPhase in range(4):\n",
    "        diff_libs[aPhase, i] = lib_gen.get_diffraction_library(library_phases[aPhase], # pick one phase to sim DPs for s_i\n",
    "                                                               calibration=diffraction_calibration,\n",
    "                                                               reciprocal_radius=reciprocal_radius,\n",
    "                                                               half_shape=half_shape,\n",
    "                                                               with_direct_beam=False,\n",
    "                                                               max_excitation_error=s[i])"
   ]
  },
  {
   "cell_type": "code",
   "execution_count": 297,
   "id": "0e65a276",
   "metadata": {},
   "outputs": [
    {
     "name": "stdout",
     "output_type": "stream",
     "text": [
      "Now using tilt range: 3 degrees\n",
      "dict_keys(['ThetaPrime100']) \t#sims: 35\n",
      "dict_keys(['ThetaPrime001']) \t#sims: 20\n",
      "dict_keys(['T1']) \t\t#sims: 147\n",
      "dict_keys(['Al']) \t\t#sims: 20\n"
     ]
    }
   ],
   "source": [
    "# Printing    [phase, s_i]\n",
    "print('Now using tilt range:', threshold, \"degrees\")\n",
    "print(diff_libs[0, 0].keys(), '\\t#sims:', diff_libs[0, 0]['ThetaPrime100']['simulations'].size)\n",
    "print(diff_libs[1, 0].keys(), '\\t#sims:', diff_libs[1, 0]['ThetaPrime001']['simulations'].size)\n",
    "print(diff_libs[2, 0].keys(), '\\t\\t#sims:', diff_libs[2, 0]['T1']['simulations'].size)\n",
    "print(diff_libs[3, 0].keys(), '\\t\\t#sims:', diff_libs[3, 0]['Al']['simulations'].size)"
   ]
  },
  {
   "cell_type": "markdown",
   "id": "8bdac0a0",
   "metadata": {},
   "source": [
    "# Some setup for running the code:"
   ]
  },
  {
   "cell_type": "code",
   "execution_count": 298,
   "id": "1507433f",
   "metadata": {},
   "outputs": [],
   "source": [
    "def log_shift(x):\n",
    "    shift=0.001\n",
    "    return np.log10(x + shift) - np.log10(shift) - 0.05  \n",
    "def gamma_corr(image): # could also use gamma correction\n",
    "    copied = image.copy()\n",
    "    copied = copied**0.5\n",
    "    return copied\n",
    "\n",
    "# Parameters for matching:\n",
    "delta_r = 1                         # res in inkreasing k value \n",
    "delta_theta = 1                     # res in rotation basically, azimuthal angle\n",
    "max_r = int(experimental_data.axes_manager[0].size/2-1)# Max k value to check, Default (None) is from center of DP to corner\n",
    "intensity_transform_function = log_shift # Function to apply to both image and template intensities on an element by element basis prior to comparison. Note that the function is performed on the CPU.\n",
    "find_direct_beam = False\n",
    "direct_beam_position = None\n",
    "normalize_image = True              # Normalize the images in the correlation coefficient calculation\n",
    "normalize_templates = True          # Normalize the templates in the correlation coefficient calculation\n",
    "frac_keep = 1 \n",
    "n_keep    = None\n",
    "n_best    = 5                       # keeping 5 best matches"
   ]
  },
  {
   "attachments": {},
   "cell_type": "markdown",
   "id": "374b6c1d",
   "metadata": {
    "scrolled": true
   },
   "source": [
    "## And this below we want to run for each phase (4 times) giving 4 plots of correlation score:"
   ]
  },
  {
   "cell_type": "code",
   "execution_count": 300,
   "id": "91228b76",
   "metadata": {
    "scrolled": true
   },
   "outputs": [
    {
     "name": "stdout",
     "output_type": "stream",
     "text": [
      "0\n",
      "[########################################] | 100% Completed |  0.1s\n",
      "[########################################] | 100% Completed |  0.1s\n",
      "[########################################] | 100% Completed |  0.1s\n",
      "[########################################] | 100% Completed |  0.1s\n",
      "1\n",
      "[########################################] | 100% Completed |  0.1s\n",
      "[########################################] | 100% Completed |  0.1s\n",
      "[########################################] | 100% Completed |  0.1s\n",
      "[########################################] | 100% Completed |  0.1s\n",
      "2\n",
      "[########################################] | 100% Completed |  0.1s\n",
      "[########################################] | 100% Completed |  0.1s\n",
      "[########################################] | 100% Completed |  0.1s\n",
      "[########################################] | 100% Completed |  0.1s\n",
      "3\n",
      "[########################################] | 100% Completed |  0.1s\n",
      "[########################################] | 100% Completed |  0.1s\n",
      "[########################################] | 100% Completed |  0.1s\n",
      "[########################################] | 100% Completed |  0.1s\n",
      "4\n",
      "[########################################] | 100% Completed |  0.1s\n",
      "[########################################] | 100% Completed |  0.1s\n",
      "[########################################] | 100% Completed |  0.1s\n",
      "[########################################] | 100% Completed |  0.1s\n",
      "5\n",
      "[########################################] | 100% Completed |  0.1s\n",
      "[########################################] | 100% Completed |  0.1s\n",
      "[########################################] | 100% Completed |  0.1s\n",
      "[########################################] | 100% Completed |  0.1s\n",
      "6\n",
      "[########################################] | 100% Completed |  0.1s\n",
      "[########################################] | 100% Completed |  0.1s\n",
      "[########################################] | 100% Completed |  0.1s\n",
      "[########################################] | 100% Completed |  0.1s\n",
      "7\n",
      "[########################################] | 100% Completed |  0.1s\n",
      "[########################################] | 100% Completed |  0.1s\n",
      "[########################################] | 100% Completed |  0.1s\n",
      "[########################################] | 100% Completed |  0.1s\n",
      "8\n",
      "[########################################] | 100% Completed |  0.1s\n",
      "[########################################] | 100% Completed |  0.1s\n",
      "[########################################] | 100% Completed |  0.1s\n",
      "[########################################] | 100% Completed |  0.1s\n",
      "9\n",
      "[########################################] | 100% Completed |  0.1s\n",
      "[########################################] | 100% Completed |  0.1s\n",
      "[########################################] | 100% Completed |  0.1s\n",
      "[########################################] | 100% Completed |  0.1s\n",
      "10\n",
      "[########################################] | 100% Completed |  0.1s\n",
      "[########################################] | 100% Completed |  0.1s\n",
      "[########################################] | 100% Completed |  0.1s\n",
      "[########################################] | 100% Completed |  0.1s\n",
      "11\n",
      "[########################################] | 100% Completed |  0.1s\n",
      "[########################################] | 100% Completed |  0.1s\n",
      "[########################################] | 100% Completed |  0.1s\n",
      "[########################################] | 100% Completed |  0.1s\n",
      "12\n",
      "[########################################] | 100% Completed |  0.1s\n",
      "[########################################] | 100% Completed |  0.1s\n",
      "[########################################] | 100% Completed |  0.1s\n",
      "[########################################] | 100% Completed |  0.1s\n",
      "13\n",
      "[########################################] | 100% Completed |  0.1s\n",
      "[########################################] | 100% Completed |  0.1s\n",
      "[########################################] | 100% Completed |  0.1s\n",
      "[########################################] | 100% Completed |  0.1s\n",
      "14\n",
      "[########################################] | 100% Completed |  0.1s\n",
      "[########################################] | 100% Completed |  0.1s\n",
      "[########################################] | 100% Completed |  0.1s\n",
      "[########################################] | 100% Completed |  0.1s\n",
      "15\n",
      "[########################################] | 100% Completed |  0.1s\n",
      "[########################################] | 100% Completed |  0.1s\n",
      "[########################################] | 100% Completed |  0.1s\n",
      "[########################################] | 100% Completed |  0.1s\n",
      "16\n",
      "[########################################] | 100% Completed |  0.1s\n",
      "[########################################] | 100% Completed |  0.1s\n",
      "[########################################] | 100% Completed |  0.1s\n",
      "[########################################] | 100% Completed |  0.1s\n",
      "17\n",
      "[########################################] | 100% Completed |  0.1s\n",
      "[########################################] | 100% Completed |  0.1s\n",
      "[########################################] | 100% Completed |  0.1s\n",
      "[########################################] | 100% Completed |  0.1s\n",
      "18\n",
      "[########################################] | 100% Completed |  0.1s\n",
      "[########################################] | 100% Completed |  0.1s\n",
      "[########################################] | 100% Completed |  0.2s\n",
      "[########################################] | 100% Completed |  0.1s\n",
      "19\n",
      "[########################################] | 100% Completed |  0.1s\n",
      "[########################################] | 100% Completed |  0.1s\n",
      "[########################################] | 100% Completed |  0.1s\n",
      "[########################################] | 100% Completed |  0.1s\n",
      "20\n",
      "[########################################] | 100% Completed |  0.1s\n",
      "[########################################] | 100% Completed |  0.1s\n",
      "[########################################] | 100% Completed |  0.1s\n",
      "[########################################] | 100% Completed |  0.1s\n",
      "21\n",
      "[########################################] | 100% Completed |  0.1s\n",
      "[########################################] | 100% Completed |  0.1s\n",
      "[########################################] | 100% Completed |  0.1s\n",
      "[########################################] | 100% Completed |  0.1s\n",
      "22\n",
      "[########################################] | 100% Completed |  0.1s\n",
      "[########################################] | 100% Completed |  0.1s\n",
      "[########################################] | 100% Completed |  0.1s\n",
      "[########################################] | 100% Completed |  0.1s\n",
      "23\n",
      "[########################################] | 100% Completed |  0.1s\n",
      "[########################################] | 100% Completed |  0.1s\n",
      "[########################################] | 100% Completed |  0.1s\n",
      "[########################################] | 100% Completed |  0.1s\n",
      "24\n",
      "[########################################] | 100% Completed |  0.1s\n",
      "[########################################] | 100% Completed |  0.1s\n",
      "[########################################] | 100% Completed |  0.1s\n",
      "[########################################] | 100% Completed |  0.1s\n",
      "25\n",
      "[########################################] | 100% Completed |  0.1s\n",
      "[########################################] | 100% Completed |  0.1s\n",
      "[########################################] | 100% Completed |  0.1s\n",
      "[########################################] | 100% Completed |  0.1s\n",
      "26\n",
      "[########################################] | 100% Completed |  0.1s\n",
      "[########################################] | 100% Completed |  0.1s\n",
      "[########################################] | 100% Completed |  0.1s\n",
      "[########################################] | 100% Completed |  0.1s\n",
      "27\n",
      "[########################################] | 100% Completed |  0.1s\n",
      "[########################################] | 100% Completed |  0.1s\n",
      "[########################################] | 100% Completed |  0.1s\n",
      "[########################################] | 100% Completed |  0.1s\n",
      "28\n",
      "[########################################] | 100% Completed |  0.1s\n",
      "[########################################] | 100% Completed |  0.1s\n",
      "[########################################] | 100% Completed |  0.1s\n",
      "[########################################] | 100% Completed |  0.1s\n",
      "29\n",
      "[########################################] | 100% Completed |  0.1s\n",
      "[########################################] | 100% Completed |  0.1s\n",
      "[########################################] | 100% Completed |  0.1s\n",
      "[########################################] | 100% Completed |  0.1s\n",
      "30\n",
      "[########################################] | 100% Completed |  0.1s\n",
      "[########################################] | 100% Completed |  0.1s\n",
      "[########################################] | 100% Completed |  0.1s\n",
      "[########################################] | 100% Completed |  0.1s\n",
      "31\n",
      "[########################################] | 100% Completed |  0.1s\n",
      "[########################################] | 100% Completed |  0.1s\n",
      "[########################################] | 100% Completed |  0.1s\n",
      "[########################################] | 100% Completed |  0.1s\n",
      "32\n",
      "[########################################] | 100% Completed |  0.1s\n",
      "[########################################] | 100% Completed |  0.1s\n",
      "[########################################] | 100% Completed |  0.1s\n",
      "[########################################] | 100% Completed |  0.1s\n",
      "33\n",
      "[########################################] | 100% Completed |  0.1s\n",
      "[########################################] | 100% Completed |  0.1s\n",
      "[########################################] | 100% Completed |  0.1s\n",
      "[########################################] | 100% Completed |  0.1s\n",
      "34\n",
      "[########################################] | 100% Completed |  0.1s\n",
      "[########################################] | 100% Completed |  0.1s\n",
      "[########################################] | 100% Completed |  0.1s\n",
      "[########################################] | 100% Completed |  0.1s\n",
      "35\n",
      "[########################################] | 100% Completed |  0.1s\n",
      "[########################################] | 100% Completed |  0.1s\n",
      "[########################################] | 100% Completed |  0.1s\n",
      "[########################################] | 100% Completed |  0.1s\n",
      "36\n",
      "[########################################] | 100% Completed |  0.1s\n",
      "[########################################] | 100% Completed |  0.1s\n",
      "[########################################] | 100% Completed |  0.1s\n",
      "[########################################] | 100% Completed |  0.1s\n",
      "37\n",
      "[########################################] | 100% Completed |  0.1s\n",
      "[########################################] | 100% Completed |  0.1s\n",
      "[########################################] | 100% Completed |  0.1s\n",
      "[########################################] | 100% Completed |  0.1s\n",
      "38\n",
      "[########################################] | 100% Completed |  0.1s\n",
      "[########################################] | 100% Completed |  0.1s\n",
      "[########################################] | 100% Completed |  0.1s\n",
      "[########################################] | 100% Completed |  0.1s\n",
      "39\n",
      "[########################################] | 100% Completed |  0.1s\n",
      "[########################################] | 100% Completed |  0.1s\n",
      "[########################################] | 100% Completed |  0.1s\n",
      "[########################################] | 100% Completed |  0.1s\n",
      "40\n",
      "[########################################] | 100% Completed |  0.1s\n",
      "[########################################] | 100% Completed |  0.1s\n",
      "[########################################] | 100% Completed |  0.1s\n",
      "[########################################] | 100% Completed |  0.1s\n",
      "41\n",
      "[########################################] | 100% Completed |  0.1s\n",
      "[########################################] | 100% Completed |  0.1s\n",
      "[########################################] | 100% Completed |  0.1s\n",
      "[########################################] | 100% Completed |  0.1s\n",
      "42\n",
      "[########################################] | 100% Completed |  0.1s\n",
      "[########################################] | 100% Completed |  0.1s\n",
      "[########################################] | 100% Completed |  0.1s\n",
      "[########################################] | 100% Completed |  0.1s\n",
      "43\n",
      "[########################################] | 100% Completed |  0.1s\n",
      "[########################################] | 100% Completed |  0.1s\n",
      "[########################################] | 100% Completed |  0.1s\n",
      "[########################################] | 100% Completed |  0.1s\n",
      "44\n",
      "[########################################] | 100% Completed |  0.1s\n",
      "[########################################] | 100% Completed |  0.1s\n",
      "[########################################] | 100% Completed |  0.1s\n",
      "[########################################] | 100% Completed |  0.1s\n",
      "45\n",
      "[########################################] | 100% Completed |  0.1s\n",
      "[########################################] | 100% Completed |  0.1s\n",
      "[########################################] | 100% Completed |  0.1s\n",
      "[########################################] | 100% Completed |  0.1s\n",
      "46\n",
      "[########################################] | 100% Completed |  0.1s\n",
      "[########################################] | 100% Completed |  0.1s\n",
      "[########################################] | 100% Completed |  0.1s\n",
      "[########################################] | 100% Completed |  0.1s\n",
      "47\n",
      "[########################################] | 100% Completed |  0.1s\n",
      "[########################################] | 100% Completed |  0.1s\n",
      "[########################################] | 100% Completed |  0.1s\n",
      "[########################################] | 100% Completed |  0.1s\n",
      "48\n",
      "[########################################] | 100% Completed |  0.1s\n",
      "[########################################] | 100% Completed |  0.1s\n",
      "[########################################] | 100% Completed |  0.1s\n",
      "[########################################] | 100% Completed |  0.1s\n",
      "49\n",
      "[########################################] | 100% Completed |  0.1s\n",
      "[########################################] | 100% Completed |  0.1s\n",
      "[########################################] | 100% Completed |  0.1s\n",
      "[########################################] | 100% Completed |  0.1s\n",
      "50\n",
      "[########################################] | 100% Completed |  0.1s\n",
      "[########################################] | 100% Completed |  0.1s\n",
      "[########################################] | 100% Completed |  0.1s\n",
      "[########################################] | 100% Completed |  0.1s\n",
      "51\n",
      "[########################################] | 100% Completed |  0.1s\n",
      "[########################################] | 100% Completed |  0.1s\n",
      "[########################################] | 100% Completed |  0.1s\n",
      "[########################################] | 100% Completed |  0.1s\n",
      "52\n",
      "[########################################] | 100% Completed |  0.1s\n",
      "[########################################] | 100% Completed |  0.1s\n",
      "[########################################] | 100% Completed |  0.1s\n",
      "[########################################] | 100% Completed |  0.1s\n",
      "53\n",
      "[########################################] | 100% Completed |  0.1s\n",
      "[########################################] | 100% Completed |  0.1s\n",
      "[########################################] | 100% Completed |  0.1s\n",
      "[########################################] | 100% Completed |  0.1s\n",
      "54\n",
      "[########################################] | 100% Completed |  0.1s\n",
      "[########################################] | 100% Completed |  0.1s\n",
      "[########################################] | 100% Completed |  0.1s\n",
      "[########################################] | 100% Completed |  0.1s\n",
      "55\n",
      "[########################################] | 100% Completed |  0.1s\n",
      "[########################################] | 100% Completed |  0.1s\n",
      "[########################################] | 100% Completed |  0.1s\n",
      "[########################################] | 100% Completed |  0.1s\n",
      "56\n",
      "[########################################] | 100% Completed |  0.1s\n",
      "[########################################] | 100% Completed |  0.1s\n",
      "[########################################] | 100% Completed |  0.1s\n",
      "[########################################] | 100% Completed |  0.1s\n",
      "57\n",
      "[########################################] | 100% Completed |  0.1s\n",
      "[########################################] | 100% Completed |  0.1s\n",
      "[########################################] | 100% Completed |  0.1s\n",
      "[########################################] | 100% Completed |  0.1s\n",
      "58\n",
      "[########################################] | 100% Completed |  0.1s\n",
      "[########################################] | 100% Completed |  0.1s\n",
      "[########################################] | 100% Completed |  0.1s\n",
      "[########################################] | 100% Completed |  0.1s\n",
      "59\n",
      "[########################################] | 100% Completed |  0.1s\n",
      "[########################################] | 100% Completed |  0.1s\n",
      "[########################################] | 100% Completed |  0.1s\n",
      "[########################################] | 100% Completed |  0.1s\n",
      "60\n",
      "[########################################] | 100% Completed |  0.1s\n",
      "[########################################] | 100% Completed |  0.1s\n",
      "[########################################] | 100% Completed |  0.1s\n",
      "[########################################] | 100% Completed |  0.1s\n",
      "61\n",
      "[########################################] | 100% Completed |  0.1s\n",
      "[########################################] | 100% Completed |  0.1s\n",
      "[########################################] | 100% Completed |  0.1s\n",
      "[########################################] | 100% Completed |  0.1s\n",
      "62\n",
      "[########################################] | 100% Completed |  0.1s\n",
      "[########################################] | 100% Completed |  0.1s\n",
      "[########################################] | 100% Completed |  0.1s\n",
      "[########################################] | 100% Completed |  0.1s\n",
      "63\n",
      "[########################################] | 100% Completed |  0.1s\n",
      "[########################################] | 100% Completed |  0.1s\n",
      "[########################################] | 100% Completed |  0.1s\n",
      "[########################################] | 100% Completed |  0.1s\n",
      "64\n",
      "[########################################] | 100% Completed |  0.1s\n",
      "[########################################] | 100% Completed |  0.1s\n",
      "[########################################] | 100% Completed |  0.1s\n",
      "[########################################] | 100% Completed |  0.1s\n",
      "65\n",
      "[########################################] | 100% Completed |  0.1s\n",
      "[########################################] | 100% Completed |  0.1s\n",
      "[########################################] | 100% Completed |  0.1s\n",
      "[########################################] | 100% Completed |  0.1s\n",
      "66\n",
      "[########################################] | 100% Completed |  0.1s\n",
      "[########################################] | 100% Completed |  0.1s\n",
      "[########################################] | 100% Completed |  0.1s\n",
      "[########################################] | 100% Completed |  0.1s\n",
      "67\n",
      "[########################################] | 100% Completed |  0.1s\n",
      "[########################################] | 100% Completed |  0.1s\n",
      "[########################################] | 100% Completed |  0.1s\n",
      "[########################################] | 100% Completed |  0.1s\n",
      "68\n",
      "[########################################] | 100% Completed |  0.1s\n",
      "[########################################] | 100% Completed |  0.1s\n",
      "[########################################] | 100% Completed |  0.1s\n",
      "[########################################] | 100% Completed |  0.1s\n",
      "69\n",
      "[########################################] | 100% Completed |  0.1s\n",
      "[########################################] | 100% Completed |  0.1s\n",
      "[########################################] | 100% Completed |  0.1s\n",
      "[########################################] | 100% Completed |  0.1s\n",
      "70\n",
      "[########################################] | 100% Completed |  0.1s\n",
      "[########################################] | 100% Completed |  0.1s\n",
      "[########################################] | 100% Completed |  0.1s\n",
      "[########################################] | 100% Completed |  0.1s\n",
      "71\n",
      "[########################################] | 100% Completed |  0.1s\n",
      "[########################################] | 100% Completed |  0.1s\n",
      "[########################################] | 100% Completed |  0.1s\n",
      "[########################################] | 100% Completed |  0.1s\n",
      "72\n",
      "[########################################] | 100% Completed |  0.1s\n",
      "[########################################] | 100% Completed |  0.1s\n",
      "[########################################] | 100% Completed |  0.1s\n",
      "[########################################] | 100% Completed |  0.1s\n",
      "73\n",
      "[########################################] | 100% Completed |  0.1s\n",
      "[########################################] | 100% Completed |  0.1s\n",
      "[########################################] | 100% Completed |  0.1s\n",
      "[########################################] | 100% Completed |  0.1s\n",
      "74\n",
      "[########################################] | 100% Completed |  0.1s\n",
      "[########################################] | 100% Completed |  0.1s\n",
      "[########################################] | 100% Completed |  0.1s\n",
      "[########################################] | 100% Completed |  0.1s\n",
      "75\n",
      "[########################################] | 100% Completed |  0.1s\n",
      "[########################################] | 100% Completed |  0.1s\n",
      "[########################################] | 100% Completed |  0.1s\n",
      "[########################################] | 100% Completed |  0.1s\n",
      "76\n",
      "[########################################] | 100% Completed |  0.1s\n",
      "[########################################] | 100% Completed |  0.1s\n",
      "[########################################] | 100% Completed |  0.1s\n",
      "[########################################] | 100% Completed |  0.1s\n",
      "77\n",
      "[########################################] | 100% Completed |  0.1s\n",
      "[########################################] | 100% Completed |  0.1s\n",
      "[########################################] | 100% Completed |  0.1s\n",
      "[########################################] | 100% Completed |  0.1s\n",
      "78\n",
      "[########################################] | 100% Completed |  0.1s\n",
      "[########################################] | 100% Completed |  0.1s\n",
      "[########################################] | 100% Completed |  0.1s\n",
      "[########################################] | 100% Completed |  0.1s\n",
      "79\n",
      "[########################################] | 100% Completed |  0.1s\n",
      "[########################################] | 100% Completed |  0.1s\n",
      "[########################################] | 100% Completed |  0.1s\n",
      "[########################################] | 100% Completed |  0.1s\n",
      "80\n",
      "[########################################] | 100% Completed |  0.1s\n",
      "[########################################] | 100% Completed |  0.1s\n",
      "[########################################] | 100% Completed |  0.1s\n",
      "[########################################] | 100% Completed |  0.1s\n",
      "81\n",
      "[########################################] | 100% Completed |  0.1s\n",
      "[########################################] | 100% Completed |  0.1s\n",
      "[########################################] | 100% Completed |  0.1s\n",
      "[########################################] | 100% Completed |  0.1s\n",
      "82\n",
      "[########################################] | 100% Completed |  0.1s\n",
      "[########################################] | 100% Completed |  0.1s\n",
      "[########################################] | 100% Completed |  0.1s\n",
      "[########################################] | 100% Completed |  0.1s\n",
      "83\n",
      "[########################################] | 100% Completed |  0.1s\n",
      "[########################################] | 100% Completed |  0.1s\n",
      "[########################################] | 100% Completed |  0.1s\n",
      "[########################################] | 100% Completed |  0.1s\n",
      "84\n",
      "[########################################] | 100% Completed |  0.1s\n",
      "[########################################] | 100% Completed |  0.1s\n",
      "[########################################] | 100% Completed |  0.1s\n",
      "[########################################] | 100% Completed |  0.1s\n",
      "85\n",
      "[########################################] | 100% Completed |  0.1s\n",
      "[########################################] | 100% Completed |  0.1s\n",
      "[########################################] | 100% Completed |  0.1s\n",
      "[########################################] | 100% Completed |  0.1s\n",
      "86\n",
      "[########################################] | 100% Completed |  0.1s\n",
      "[########################################] | 100% Completed |  0.1s\n",
      "[########################################] | 100% Completed |  0.1s\n",
      "[########################################] | 100% Completed |  0.1s\n",
      "87\n",
      "[########################################] | 100% Completed |  0.1s\n",
      "[########################################] | 100% Completed |  0.1s\n",
      "[########################################] | 100% Completed |  0.1s\n",
      "[########################################] | 100% Completed |  0.1s\n",
      "88\n",
      "[########################################] | 100% Completed |  0.1s\n",
      "[########################################] | 100% Completed |  0.1s\n",
      "[########################################] | 100% Completed |  0.1s\n",
      "[########################################] | 100% Completed |  0.1s\n",
      "89\n",
      "[########################################] | 100% Completed |  0.1s\n",
      "[########################################] | 100% Completed |  0.1s\n",
      "[########################################] | 100% Completed |  0.1s\n",
      "[########################################] | 100% Completed |  0.1s\n",
      "90\n",
      "[########################################] | 100% Completed |  0.1s\n",
      "[########################################] | 100% Completed |  0.1s\n",
      "[########################################] | 100% Completed |  0.1s\n",
      "[########################################] | 100% Completed |  0.1s\n",
      "91\n",
      "[########################################] | 100% Completed |  0.1s\n",
      "[########################################] | 100% Completed |  0.1s\n",
      "[########################################] | 100% Completed |  0.1s\n",
      "[########################################] | 100% Completed |  0.1s\n",
      "92\n",
      "[########################################] | 100% Completed |  0.1s\n",
      "[########################################] | 100% Completed |  0.1s\n",
      "[########################################] | 100% Completed |  0.1s\n",
      "[########################################] | 100% Completed |  0.1s\n",
      "93\n",
      "[########################################] | 100% Completed |  0.1s\n",
      "[########################################] | 100% Completed |  0.1s\n",
      "[########################################] | 100% Completed |  0.1s\n",
      "[########################################] | 100% Completed |  0.1s\n",
      "94\n",
      "[########################################] | 100% Completed |  0.1s\n",
      "[########################################] | 100% Completed |  0.1s\n",
      "[########################################] | 100% Completed |  0.1s\n",
      "[########################################] | 100% Completed |  0.1s\n",
      "95\n",
      "[########################################] | 100% Completed |  0.1s\n",
      "[########################################] | 100% Completed |  0.1s\n",
      "[########################################] | 100% Completed |  0.1s\n",
      "[########################################] | 100% Completed |  0.1s\n",
      "96\n",
      "[########################################] | 100% Completed |  0.1s\n",
      "[########################################] | 100% Completed |  0.1s\n",
      "[########################################] | 100% Completed |  0.1s\n",
      "[########################################] | 100% Completed |  0.1s\n",
      "97\n",
      "[########################################] | 100% Completed |  0.1s\n",
      "[########################################] | 100% Completed |  0.1s\n",
      "[########################################] | 100% Completed |  0.1s\n",
      "[########################################] | 100% Completed |  0.1s\n",
      "98\n",
      "[########################################] | 100% Completed |  0.1s\n",
      "[########################################] | 100% Completed |  0.1s\n",
      "[########################################] | 100% Completed |  0.1s\n",
      "[########################################] | 100% Completed |  0.1s\n",
      "99\n",
      "[########################################] | 100% Completed |  0.1s\n",
      "[########################################] | 100% Completed |  0.1s\n",
      "[########################################] | 100% Completed |  0.1s\n",
      "[########################################] | 100% Completed |  0.1s\n"
     ]
    }
   ],
   "source": [
    "\n",
    "for i in range(num_s):\n",
    "    print(i)\n",
    "    for aPhase in range(4):\n",
    "        results[aPhase, i], phasedicts[aPhase, i] = iutls.index_dataset_with_template_rotation(\n",
    "                                                        experimental_data,\n",
    "                                                        diff_libs[aPhase, i],\n",
    "                                                        n_best                       = n_best,\n",
    "                                                        frac_keep                    = frac_keep,\n",
    "                                                        n_keep                       = n_keep,\n",
    "                                                        delta_r                      = delta_r,\n",
    "                                                        delta_theta                  = delta_theta,\n",
    "                                                        max_r                        = max_r,\n",
    "                                                        intensity_transform_function = intensity_transform_function,\n",
    "                                                        normalize_images             = normalize_image,\n",
    "                                                        normalize_templates          = normalize_templates,\n",
    "                                                        )\n",
    "\n",
    "\n"
   ]
  },
  {
   "cell_type": "code",
   "execution_count": 301,
   "id": "b9e3cfaf",
   "metadata": {},
   "outputs": [
    {
     "name": "stdout",
     "output_type": "stream",
     "text": [
      "Best s: 0.003515151515151515 index 3\n"
     ]
    },
    {
     "name": "stderr",
     "output_type": "stream",
     "text": [
      "C:\\Users\\torit\\AppData\\Local\\Temp\\ipykernel_4856\\3272799679.py:61: UserWarning: Tight layout not applied. The bottom and top margins cannot be made large enough to accommodate all axes decorations.\n",
      "  fig.tight_layout()\n"
     ]
    }
   ],
   "source": [
    "# 0=ThP100, 1=ThP001, 2=T1, 3=Al\n",
    "show_phase_num = dp_y\n",
    "\n",
    "# List for keeping correlation scores of matched DP from each phase for different s\n",
    "corrs = np.zeros((4, num_s))\n",
    "\n",
    "# list for keeping number of reflections in sim DP for each s\n",
    "refl_nums = np.zeros((4, num_s))\n",
    "\n",
    "best_s = np.zeros(4)\n",
    "best_s_index = np.zeros(4, dtype=int)\n",
    "\n",
    "for i in range(num_s):\n",
    "    for aPhase in range(4):\n",
    "        # Finding correlation score for DP for each s value\n",
    "        corrs[aPhase, i] = results[aPhase, i]['correlation'][:,:,0][0][0] # [:,:,0] as 0 gives best match, [0][0] as only running one DP\n",
    "        # Finding best correlation score\n",
    "        if (corrs[aPhase, i] == np.amax(corrs[aPhase,:])):\n",
    "            best_s[aPhase] = s[i]\n",
    "            best_s_index[aPhase] = int(i)            \n",
    "        # Finding number of reflections in DP by collecting number of x coords in simDP\n",
    "        phase = phases[aPhase]\n",
    "        simNum = results[aPhase, i]['phase_index'][0][0][0]# index 0 as want best match, first 0s as only one dp\n",
    "        sim_DP = diff_libs[aPhase, i][phase]['simulations'][simNum]\n",
    "        refl_nums[aPhase, i] = sim_DP.coordinates[:,0].size\n",
    "\n",
    "    \n",
    "print('Best s:', best_s[show_phase_num], 'num_s index', best_s_index[show_phase_num])\n",
    "\n",
    "fig, ax = plt.subplots(ncols=3, figsize=(12, 4))\n",
    "fig.suptitle(phases[show_phase_num])\n",
    "# Plot correlation vs s:\n",
    "ax[0].plot(s, corrs[0,:], label='ThP100')   # ThP 100\n",
    "ax[0].plot(s, corrs[1,:], label='ThP001')   # ThP 001\n",
    "ax[0].plot(s, corrs[2,:], label='T1')       # T1\n",
    "ax[0].plot(s, corrs[3,:], label='Al')       # Al\n",
    "ax[0].set_xlabel('s')\n",
    "ax[0].set_ylabel('c')\n",
    "ax[0].set_title('Correlation vs s')\n",
    "ax[0].axvline(best_s[show_phase_num],color='r', label='best s= %.5f' % best_s[show_phase_num])\n",
    "ax[0].legend()\n",
    "# Plot number of reflections vs s:\n",
    "ax[1].plot(s, refl_nums[show_phase_num])\n",
    "ax[1].set_title('Number of reflections')\n",
    "ax[1].axvline(best_s[show_phase_num], color='r')\n",
    "\n",
    "# Plot simulation for best s:\n",
    "# results[phase#, s#] gives result for phase# using s#. Here find phase index for best match:\n",
    "index_best_sim = results[show_phase_num, best_s_index[show_phase_num]][\"template_index\"][0, 0, 0]\n",
    "# Finding the simulated pattern of the best match for show_phase_num (0-3)\n",
    "best_sim = diff_libs[show_phase_num, best_s_index[show_phase_num]][phases[show_phase_num]]['simulations'][index_best_sim]\n",
    "# And show by scatter:\n",
    "ax[2].scatter(best_sim.coordinates[:,0], best_sim.coordinates[:,1], s=np.sqrt(best_sim.intensities))\n",
    "ax[2].set_title('Best '+phases[show_phase_num]+' simulation #'+str(best_s_index[show_phase_num]))\n",
    "fig.tight_layout()"
   ]
  },
  {
   "cell_type": "markdown",
   "id": "88d910db",
   "metadata": {},
   "source": [
    "# Plot"
   ]
  },
  {
   "cell_type": "code",
   "execution_count": 302,
   "id": "0bb52316",
   "metadata": {},
   "outputs": [],
   "source": [
    "plt.rcParams.update({'font.size': 44})\n",
    "\n",
    "fig, ax = plt.subplots(figsize=(8,8))\n",
    "ax.plot(s[1:], corrs[0,1:], label='$\\\\theta\\'_{<100>}$', c='#ff8c00', lw=3) # ThP 100\n",
    "ax.plot(s[1:], corrs[1,1:], label='$\\\\theta\\'_{<001>}$', c='#1e90ff',lw=3)  # ThP 001\n",
    "ax.plot(s[1:], corrs[2,1:], label='T1', c='#228b22',lw=3) # T1\n",
    "#ax.plot(s, corrs[3,:], label='Al', c= '#deaa87',lw=3) # Al\n",
    "ax.set_xlabel('max{s} [Å$^{-1}$]')\n",
    "ax.get_xaxis().set_visible(False)\n",
    "#ax.yaxis.tick_right()\n",
    "#ax.set_ylabel('c [#]')\n",
    "#ax.set_title('Correlations for $\\\\theta\\'_{<100>}$ diffraction pattern')\n",
    "ax.grid(visible=True)\n",
    "#ax.legend(loc = 'lower left', bbox_to_anchor=(0.45, 0.4))# ThP100\n",
    "#ax.legend(loc = 'lower left', bbox_to_anchor=(0.45, 0.63))# ThP001\n",
    "#ax.legend(loc = 'lower left', bbox_to_anchor=(0.45, 0.63))# T1\n",
    "ax.legend(loc = 'lower left', bbox_to_anchor=(0.22, 0.475))# Al\n",
    "\n",
    "#plt.savefig('images\\corrscores_Al', transparent=False, bbox_inches='tight', pad_inches=0, dpi=300)"
   ]
  },
  {
   "cell_type": "markdown",
   "id": "27f186ad",
   "metadata": {
    "tags": []
   },
   "source": [
    "## Correlations"
   ]
  },
  {
   "cell_type": "code",
   "execution_count": 188,
   "id": "30e0cf8e",
   "metadata": {},
   "outputs": [
    {
     "name": "stdout",
     "output_type": "stream",
     "text": [
      "Th100 : dict_keys(['phase_index', 'template_index', 'orientation', 'correlation', 'mirrored_template'])\n",
      "Th001 : dict_keys(['phase_index', 'template_index', 'orientation', 'correlation', 'mirrored_template'])\n",
      "T1    : dict_keys(['phase_index', 'template_index', 'orientation', 'correlation', 'mirrored_template'])\n",
      "Al    : dict_keys(['phase_index', 'template_index', 'orientation', 'correlation', 'mirrored_template'])\n",
      "Th100 :\n",
      " [0.02578483 0.02561633]\n",
      "Th001 :\n",
      " [0.03963623 0.03955516]\n",
      "T1    :\n",
      " [0.10519434 0.10514556]\n",
      "Al    :\n",
      " [0.02670099 0.02610327]\n"
     ]
    },
    {
     "data": {
      "text/plain": [
       "(<AxesSubplot:>, <matplotlib.collections.PathCollection at 0x2c85bbe6b80>)"
      ]
     },
     "execution_count": 188,
     "metadata": {},
     "output_type": "execute_result"
    }
   ],
   "source": [
    "# Printing    [phase, s_i]\n",
    "print('Th100 :', results[0, 0].keys())\n",
    "print('Th001 :', results[1, 0].keys())\n",
    "print('T1    :', results[2, 0].keys())\n",
    "print('Al    :', results[3, 0].keys())\n",
    "\n",
    "# Printing                [phase, s_i]                [x,y,n_best] (x,y=0 as only one DP)\n",
    "print('Th100 :\\n', results[0, num_s//2]['correlation'][0,0,:])\n",
    "print('Th001 :\\n', results[1, num_s//2]['correlation'][0,0,:])\n",
    "print('T1    :\\n', results[2, num_s//2]['correlation'][0,0,:])\n",
    "print('Al    :\\n', results[3, num_s//2]['correlation'][0,0,:])\n",
    "\n",
    "#        [phase, s]                [rot#]\n",
    "diff_libs[2, 5]['T1']['simulations'][5].plot() # can look manually through the matched DPs"
   ]
  },
  {
   "cell_type": "code",
   "execution_count": 156,
   "id": "47427f60",
   "metadata": {},
   "outputs": [
    {
     "name": "stdout",
     "output_type": "stream",
     "text": [
      "Orientation for chosen DP is [340.           2.49926948  53.13499133] \t Sim # 17 , Correlation: 0.067120 , s = 0.00574\n"
     ]
    },
    {
     "data": {
      "text/plain": [
       "Text(0.5, 1.0, 'Solution 0 sim #17')"
      ]
     },
     "execution_count": 156,
     "metadata": {},
     "output_type": "execute_result"
    }
   ],
   "source": [
    "# Which solution to plot\n",
    "n_sol = 0 # 0=best, 1=next best, ...\n",
    "px = 0\n",
    "py = 0\n",
    "\n",
    "sample_dp = experimental_data#.inav[px, py]\n",
    "\n",
    "s_show = best_s_index[show_phase_num]\n",
    "#results[phase#, s#][key]\n",
    "#dp_y chosen in beggining for the phase actually in DP\n",
    "solution = results[show_phase_num,s_show][\"orientation\"]\n",
    "\n",
    "# Query the necessary info from the solution\n",
    "sim_sol_index = results[show_phase_num,s_show][\"template_index\"][0, 0, n_sol]   # Collects sim # for (px, py)\n",
    "mirrored_sol = results[show_phase_num,s_show][\"mirrored_template\"][0, 0, n_sol] # mirrored template represents whether the original template best fits (False) or the mirror image (True)\n",
    "in_plane_angle = results[show_phase_num,s_show][\"orientation\"][0, 0, n_sol, 0]  # Orientations, the first angle is the in plane angle\n",
    "\n",
    "# Query the appropriate template\n",
    "used_sim = diff_libs[show_phase_num, best_s_index[show_phase_num]][phases[show_phase_num]][\"simulations\"][sim_sol_index]  # Collects the simulation fitted from template match\n",
    "\n",
    "score = results[show_phase_num,s_show]['correlation'][0,0,n_sol]\n",
    "\n",
    "print('Orientation for chosen DP is', results[show_phase_num,s_show][\"orientation\"][0, 0, n_sol], '\\t Sim #', sim_sol_index, ', Correlation:',\"%.6f\" % score, ', s =', \"%.5f\" % s[s_show])\n",
    "\n",
    "fig, ax = plt.subplots(ncols=1, figsize=(8, 8))\n",
    "\n",
    "# calculating and plotting the IPF\n",
    "solution_vectors_y = Rotation.from_euler(np.deg2rad(solution[:,:,n_sol,...]))*Vector3d.yvector()\n",
    "#ax[0].imshow(get_ipf_color(solution_vectors_y))\n",
    "# plotting the point we chose\n",
    "#ax[0].scatter([0], [0], c=\"black\", s=50)\n",
    "\n",
    "# plotting the diffraction pattern and template\n",
    "plot_template_over_pattern(sample_dp.data,                      # DP at px, py\n",
    "                                 used_sim,                      # simulated pattern found to fit best for DP at px, py\n",
    "                                 ax=ax,                         # Optional, to get DP in same fig as correlation map\n",
    "                                 in_plane_angle=in_plane_angle, #\n",
    "                                 coordinate_system =\"cartesian\", \n",
    "                                 size_factor = 10,              # This only changes size of plotted X for DP spot marking, not real change\n",
    "                                 vmax=0.01,\n",
    "                                 mirrored_template=mirrored_sol,\n",
    "                                 find_direct_beam=False,\n",
    "                                 cmap = \"inferno\",\n",
    "                                 marker_color = \"green\"\n",
    "                                )\n",
    "#for i in ax:\n",
    "ax.axis(\"off\")\n",
    "ax.set_title('Solution '+str(n_sol)+' sim #'+str(sim_sol_index))\n",
    "\n"
   ]
  },
  {
   "cell_type": "code",
   "execution_count": null,
   "id": "91f0932a",
   "metadata": {},
   "outputs": [],
   "source": []
  }
 ],
 "metadata": {
  "kernelspec": {
   "display_name": "Python 3.8.13",
   "language": "python",
   "name": "python3"
  },
  "language_info": {
   "codemirror_mode": {
    "name": "ipython",
    "version": 3
   },
   "file_extension": ".py",
   "mimetype": "text/x-python",
   "name": "python",
   "nbconvert_exporter": "python",
   "pygments_lexer": "ipython3",
   "version": "3.8.13"
  },
  "vscode": {
   "interpreter": {
    "hash": "223e676380d4df3d50271949191e69bd32ffbc661fbf2cd3a37d125a87fc0e0c"
   }
  }
 },
 "nbformat": 4,
 "nbformat_minor": 5
}
