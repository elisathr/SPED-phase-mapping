{
 "cells": [
  {
   "attachments": {},
   "cell_type": "markdown",
   "id": "e39c6241",
   "metadata": {},
   "source": [
    "# Template matching 2xxx SPED dataset with three phases"
   ]
  },
  {
   "cell_type": "code",
   "execution_count": 1,
   "id": "74e8a671",
   "metadata": {},
   "outputs": [
    {
     "name": "stderr",
     "output_type": "stream",
     "text": [
      "WARNING:silx.opencl.common:Unable to import pyOpenCl. Please install it from: https://pypi.org/project/pyopencl\n"
     ]
    }
   ],
   "source": [
    "%matplotlib qt5\n",
    "\n",
    "import numpy as np\n",
    "import matplotlib.pyplot as plt\n",
    "import hyperspy.api as hs\n",
    "import pyxem as pxm\n",
    "\n",
    "import diffpy\n",
    "from diffsims.libraries.structure_library import StructureLibrary\n",
    "from diffsims.generators.diffraction_generator import DiffractionGenerator\n",
    "from diffsims.generators.library_generator import DiffractionLibraryGenerator\n",
    "from diffsims.generators.rotation_list_generators import get_beam_directions_grid\n",
    "from diffsims.libraries.diffraction_library import load_DiffractionLibrary # Need this if we want to import diffraction library previously made\n",
    "\n",
    "from pyxem.utils import indexation_utils as iutls\n",
    "from pyxem.utils import plotting_utils as putls\n",
    "from pyxem.utils import polar_transform_utils as ptutls\n",
    "from pyxem.utils import expt_utils as eutls\n",
    "from pyxem.utils.plotting_utils import plot_template_over_pattern\n",
    "\n",
    "import matplotlib.colors as mcolors\n",
    "from orix.projections import StereographicProjection\n",
    "from orix import plot, samplin\n",
    "from orix.crystal_map import CrystalMap, Phase, PhaseList\n",
    "from orix.quaternion import Orientation, Rotation, symmetry\n",
    "from orix.vector import Vector3d, Miller\n",
    "from orix.io import load, save\n",
    "from orix.projections import StereographicProjection\n",
    "from orix.vector.vector3d import Vector3d"
   ]
  },
  {
   "cell_type": "markdown",
   "id": "a35184ad",
   "metadata": {},
   "source": [
    "# Load data and plot"
   ]
  },
  {
   "cell_type": "code",
   "execution_count": 2,
   "id": "d992dfac",
   "metadata": {},
   "outputs": [
    {
     "data": {
      "text/html": [
       "<style>\n",
       "table, th, td {\n",
       "\tborder: 1px solid black;\n",
       "\tborder-collapse: collapse;\n",
       "}\n",
       "th, td {\n",
       "\tpadding: 5px;\n",
       "}\n",
       "</style>\n",
       "<p><b>< Axes manager, axes: (100, 100|128, 128) ></b></p>\n",
       "<table style='width:100%'>\n",
       "\n",
       "<tr> \n",
       "<th>Navigation axis name</th> \n",
       "<th>size</th> \n",
       "<th>index</th> \n",
       "<th>offset</th> \n",
       "<th>scale</th> \n",
       "<th>units</th> </tr>\n",
       "<tr> \n",
       "<td>x</td> \n",
       "<td>100</td> \n",
       "<td>0</td> \n",
       "<td>0.0</td> \n",
       "<td>1.0</td> \n",
       "<td>nm</td> </tr>\n",
       "<tr> \n",
       "<td>y</td> \n",
       "<td>100</td> \n",
       "<td>0</td> \n",
       "<td>0.0</td> \n",
       "<td>1.0</td> \n",
       "<td>nm</td> </tr></table>\n",
       "<table style='width:100%'>\n",
       "\n",
       "<tr> \n",
       "<th>Signal axis name</th> \n",
       "<th>size</th> \n",
       "<th></th> \n",
       "<th>offset</th> \n",
       "<th>scale</th> \n",
       "<th>units</th> </tr>\n",
       "<tr> \n",
       "<td>kx</td> \n",
       "<td>128</td> \n",
       "<td></td> \n",
       "<td>-1.2138</td> \n",
       "<td>0.01904</td> \n",
       "<td>$A^{-1}$</td> </tr>\n",
       "<tr> \n",
       "<td>ky</td> \n",
       "<td>128</td> \n",
       "<td></td> \n",
       "<td>-1.2138</td> \n",
       "<td>0.01904</td> \n",
       "<td>$A^{-1}$</td> </tr></table>\n"
      ],
      "text/plain": [
       "<Axes manager, axes: (100, 100|128, 128)>\n",
       "            Name |   size |  index |  offset |   scale |  units \n",
       "================ | ====== | ====== | ======= | ======= | ====== \n",
       "               x |    100 |      0 |       0 |       1 |     nm \n",
       "               y |    100 |      0 |       0 |       1 |     nm \n",
       "---------------- | ------ | ------ | ------- | ------- | ------ \n",
       "              kx |    128 |      0 |    -1.2 |   0.019 | $A^{-1}$ \n",
       "              ky |    128 |      0 |    -1.2 |   0.019 | $A^{-1}$ "
      ]
     },
     "execution_count": 2,
     "metadata": {},
     "output_type": "execute_result"
    }
   ],
   "source": [
    "file = 'Almasked_DoG.hdf5'\n",
    "\n",
    "experimental_data = hs.load(file)\n",
    "experimental_data.set_signal_type('electron_diffraction')\n",
    "experimental_data.plot(cmap='Greys', norm='symlog')\n",
    "experimental_data.axes_manager"
   ]
  },
  {
   "cell_type": "markdown",
   "id": "769b627d",
   "metadata": {},
   "source": [
    "## Some important parameters for the template matching collected here:"
   ]
  },
  {
   "cell_type": "code",
   "execution_count": 3,
   "id": "906691cf",
   "metadata": {},
   "outputs": [],
   "source": [
    "minimum_intensity = 1E-20   # min intensity included in simulations\n",
    "shift   = 0.001             # shift used in transform func for template matching\n",
    "\n",
    "# Maximum_excitation_error for each phase and orientation:\n",
    "s_Th100 = 0.03\n",
    "s_Th001 = 0.05\n",
    "s_T1    = 0.022\n",
    "s_list = [s_Th100, s_Th001, s_T1]"
   ]
  },
  {
   "attachments": {},
   "cell_type": "markdown",
   "id": "bf018839",
   "metadata": {},
   "source": [
    "# The following process:\n",
    "> 1) Get rotations to simulate DPs at and create structure library of phases (We can limit this to small tilt range around specific zones). For this case we will only include T1 and $\\theta$' and filter out badly matched regions as Al in the end. Done because Al has overlapping refelctions with the precipitates.\n",
    "> 2) Prepare a virtual microscope for simulations and create the diffraction library.\n",
    "> 3) Perform the template matching on the scanned area."
   ]
  },
  {
   "cell_type": "markdown",
   "id": "e813468c",
   "metadata": {},
   "source": [
    "# 1) Get rotations to simulate DPs at and create structure library of phases"
   ]
  },
  {
   "cell_type": "markdown",
   "id": "2cd0397a",
   "metadata": {},
   "source": [
    "### Importing structures and giving appropriate phase names"
   ]
  },
  {
   "cell_type": "code",
   "execution_count": 4,
   "id": "a4c9c260",
   "metadata": {},
   "outputs": [],
   "source": [
    "# Importing structures\n",
    "structure_Theta= diffpy.structure.loadStructure('thetaprime.cif')\n",
    "structure_T1   = diffpy.structure.loadStructure('T1.cif')\n",
    "\n",
    "# List of phase names:\n",
    "phases         = ['ThetaPrime100', 'ThetaPrime001', 'T1']\n",
    "\n",
    "# List of structures:\n",
    "structures = [structure_Theta, structure_Theta, structure_T1]"
   ]
  },
  {
   "cell_type": "markdown",
   "id": "ae0c5660",
   "metadata": {},
   "source": [
    "### Getting rotation lists for the different symmetries"
   ]
  },
  {
   "cell_type": "code",
   "execution_count": 5,
   "id": "8bebeeb2",
   "metadata": {},
   "outputs": [
    {
     "name": "stdout",
     "output_type": "stream",
     "text": [
      "Number of patterns \n",
      "tetra: 12376 \n",
      "hex: 16209\n"
     ]
    },
    {
     "name": "stderr",
     "output_type": "stream",
     "text": [
      "c:\\Users\\torit\\Anaconda3\\envs\\templatematch_0123\\lib\\site-packages\\diffsims\\generators\\sphere_mesh_generators.py:514: RuntimeWarning: invalid value encountered in divide\n",
      "  phi2 = sign * np.nan_to_num(np.arccos(x_comp / norm_proj))\n"
     ]
    }
   ],
   "source": [
    "resolution = 0.5 # maximum angle in degrees between nearest templates.\n",
    "\n",
    "hex_grid   = get_beam_directions_grid(\"hexagonal\", resolution, mesh=\"spherified_cube_edge\") #T1, full rotation list\n",
    "tetra_grid = get_beam_directions_grid(\"tetragonal\", resolution, mesh=\"spherified_cube_edge\") #theta, full rotation list\n",
    "\n",
    "print('Number of patterns \\ntetra:', tetra_grid.shape[0], '\\nhex:', hex_grid.shape[0])"
   ]
  },
  {
   "cell_type": "markdown",
   "id": "ab9b6417",
   "metadata": {},
   "source": [
    "### A tilt limiting finction"
   ]
  },
  {
   "cell_type": "code",
   "execution_count": 6,
   "id": "fc2282c3",
   "metadata": {},
   "outputs": [],
   "source": [
    "def _new_structure_matrix_from_alignment(old_matrix, x=None, y=None, z=None):\n",
    "    \"\"\"Taken from orix v0.9, see\n",
    "    https://github.com/pyxem/orix/blob/fb269b0456163aa3ac1f80498a9894c53953dccb/orix/crystal_map/phase_list.py#L794-L845.\n",
    "    \n",
    "    Explanation of why changing the structure matrix (base) to use orix with\n",
    "    ReciPro, which uses another alignment, is needed:\n",
    "    https://orix.readthedocs.io/en/stable/crystal_reference_frame.html.\n",
    "    \"\"\"\n",
    "    if sum([i is None for i in [x, y, z]]) > 1:\n",
    "        raise ValueError(\"At least two of x, y, z must be set.\")\n",
    "\n",
    "    # Old direct lattice base (row) vectors in Cartesian coordinates\n",
    "    old_matrix = Vector3d(old_matrix)\n",
    "    ad, bd, cd = old_matrix.unit\n",
    "\n",
    "    # Old reciprocal lattice base vectors in cartesian coordinates\n",
    "    ar = bd.cross(cd).unit\n",
    "    br = cd.cross(ad).unit\n",
    "    cr = ad.cross(bd).unit\n",
    "\n",
    "    # New unit crystal base\n",
    "    new_vectors = Vector3d.zero((3,))\n",
    "    axes_mapping = {\"a\": ad, \"b\": bd, \"c\": cd, \"a*\": ar, \"b*\": br, \"c*\": cr}\n",
    "    for i, al in enumerate([x, y, z]):\n",
    "        if al in axes_mapping.keys():\n",
    "            new_vectors[i] = axes_mapping[al]\n",
    "    other_idx = {0: (1, 2), 1: (2, 0), 2: (0, 1)}\n",
    "    for i in range(3):\n",
    "        if np.isclose(new_vectors[i].norm, 0):\n",
    "            other0, other1 = other_idx[i]\n",
    "            new_vectors[i] = new_vectors[other0].cross(new_vectors[other1])\n",
    "\n",
    "    # New crystal base\n",
    "    new_matrix = new_vectors.dot(old_matrix.reshape(3, 1)).round(12)\n",
    "\n",
    "    return new_matrix\n",
    "\n",
    "#Defining a function that returns the tilt range of interest around a given zone axis for a given structure:\n",
    "def get_tilt_range_around_zone(phase_object, zone_axis, euler_grid, max_tilt):\n",
    "    '''\n",
    "    phase_object : Orix phase object (Ex. Phase(name='T1', space_group=191, structure=T1_structure))\n",
    "    zone_axis : The zone axis you want to rotate about\n",
    "    euler_grid : the total rotation grid needed to describe whole crystal\n",
    "    max_tilt : The maximum angle deviation from zone axis to be included\n",
    "    '''\n",
    "    # Input\n",
    "    uvw = zone_axis\n",
    "    phase = phase_object.deepcopy()\n",
    "    \n",
    "    # Change structure matrix (crystal lattice base)\n",
    "    # NB! Use with care, since orix assumes another alignment, e1||a, e3||c*!\n",
    "    lat = phase.structure.lattice\n",
    "    new_base = _new_structure_matrix_from_alignment(lat.base, x=\"a*\", z=\"c\")\n",
    "    lat.setLatBase(new_base)\n",
    "        \n",
    "    # Sample grid\n",
    "    g_grid = Rotation.from_euler(np.deg2rad(euler_grid))\n",
    "\n",
    "    # Rotate Zs (optic axis) into *cartesian* crystal coordinates\n",
    "    rz = Vector3d.zvector()\n",
    "    hz = g_grid * rz\n",
    "\n",
    "    # Cartesian crystal coordinates in Miller indices <uvw> (unit cell coordinates)\n",
    "    hz_miller = Miller(xyz=hz.data, phase=phase)\n",
    "    hz_miller.coordinate_format = \"uvw\"\n",
    "\n",
    "    # Rotate into fundamental sector defined in orix\n",
    "    hz_miller = hz_miller.in_fundamental_sector()\n",
    "\n",
    "    # Define zone axis and symmetrically equivalent directions\n",
    "    za = Miller(uvw=uvw, phase=phase)\n",
    "    za2 = za.symmetrise(unique=True)\n",
    "\n",
    "    # Get disorientation angle (smallest misorientation angle under symmetry)\n",
    "    hz_miller2 = hz_miller.reshape(hz_miller.size, 1)\n",
    "    za2 = za2.reshape(1, za2.size)\n",
    "    all_angles = za2.angle_with(hz_miller2)\n",
    "    angles = all_angles.min(axis=1)\n",
    "\n",
    "    # Get orientations within threshold\n",
    "    mask = angles <= np.deg2rad(threshold)\n",
    "    masked_euler_grid = euler_grid[mask]\n",
    "    \n",
    "    # This plots the orientations included in the template library\n",
    "    if False:\n",
    "        fig = plt.figure()\n",
    "        ax = fig.add_subplot(projection=\"ipf\", symmetry=phase.point_group)\n",
    "        ax.scatter(hz_miller, c=angles)\n",
    "        ax.scatter(hz_miller[mask], c=\"w\", ec=\"k\")\n",
    "        fig.tight_layout()\n",
    "        # fig = hz_miller.scatter(\n",
    "        # hemisphere=\"both\",\n",
    "        # c=angles,\n",
    "        # axes_labels=[\"Xc\", \"Yc\"],\n",
    "        # return_figure=True,\n",
    "        # figure_kwargs=dict(figsize=(15, 15)),\n",
    "        # )\n",
    "        # fig.tight_layout()\n",
    "    \n",
    "    return masked_euler_grid"
   ]
  },
  {
   "cell_type": "markdown",
   "id": "d574f15f",
   "metadata": {},
   "source": [
    "### Now limit the rotations within a threshold"
   ]
  },
  {
   "cell_type": "code",
   "execution_count": 7,
   "id": "75ab3492",
   "metadata": {},
   "outputs": [],
   "source": [
    "# Threshold value for tilts away from the possible precipitate orientations in degrees:\n",
    "threshold = 3"
   ]
  },
  {
   "cell_type": "markdown",
   "id": "a3c805cb",
   "metadata": {},
   "source": [
    "### Theta Prime"
   ]
  },
  {
   "cell_type": "code",
   "execution_count": 8,
   "id": "89946e39",
   "metadata": {},
   "outputs": [
    {
     "name": "stdout",
     "output_type": "stream",
     "text": [
      "20\n",
      "35\n"
     ]
    }
   ],
   "source": [
    "# Create a phase object (orix) for a crystal structure and give the expected zone axis:\n",
    "uvw_001 = [0, 0, 1]\n",
    "uvw_100 = [1, 0, 0]\n",
    "ThetaPrime_phase = Phase(name='ThetaPrime', space_group=119, structure=structure_Theta)\n",
    "\n",
    "# Limit tilt range to orientations around zone axis to the threshold value:\n",
    "ThetaPrime_grid_masked_001 = get_tilt_range_around_zone(ThetaPrime_phase, uvw_001, tetra_grid, threshold)\n",
    "ThetaPrime_grid_masked_100 = get_tilt_range_around_zone(ThetaPrime_phase, uvw_100, tetra_grid, threshold)\n",
    "print(ThetaPrime_grid_masked_001.size//3) # Printing number of templates generated\n",
    "print(ThetaPrime_grid_masked_100.size//3) # Printing number of templates generated"
   ]
  },
  {
   "cell_type": "markdown",
   "id": "af49648a",
   "metadata": {},
   "source": [
    "### T1"
   ]
  },
  {
   "cell_type": "code",
   "execution_count": 9,
   "id": "46b2084d",
   "metadata": {},
   "outputs": [
    {
     "data": {
      "text/plain": [
       "147"
      ]
     },
     "execution_count": 9,
     "metadata": {},
     "output_type": "execute_result"
    }
   ],
   "source": [
    "# Create a phase object (orix) for a crystal structure and give the expected zone axis:\n",
    "uvw_041 = [0,-4,1]\n",
    "T1_phase = Phase(name='T1', space_group=191, structure=structure_T1)\n",
    "\n",
    "# Limit tilt range to orientations around zone axis to the threshold value:\n",
    "T1_grid_masked_041 = get_tilt_range_around_zone(T1_phase, uvw_041, hex_grid, threshold)\n",
    "T1_grid_masked_041.size//3 # Printing number of templates generated"
   ]
  },
  {
   "cell_type": "markdown",
   "id": "8cce81fd",
   "metadata": {},
   "source": [
    "## Create a structure library"
   ]
  },
  {
   "cell_type": "code",
   "execution_count": 10,
   "id": "6b19b6a4",
   "metadata": {},
   "outputs": [],
   "source": [
    "# List of rotations:\n",
    "rot_grids = [ThetaPrime_grid_masked_100, ThetaPrime_grid_masked_001, T1_grid_masked_041]\n",
    "\n",
    "# Collect all in a structure library used to simulate our diffraction patterns:\n",
    "library_Th100 = StructureLibrary([phases[0]], [structures[0]], [rot_grids[0]])\n",
    "library_Th001 = StructureLibrary([phases[1]], [structures[1]], [rot_grids[1]])\n",
    "library_T1    = StructureLibrary([phases[2]], [structures[2]], [rot_grids[2]])\n",
    "library_phases = [library_Th100, library_Th001, library_T1]"
   ]
  },
  {
   "cell_type": "markdown",
   "id": "1bc343b7",
   "metadata": {},
   "source": [
    "# 2) Prepare microscope for simulations and create diffraction library"
   ]
  },
  {
   "cell_type": "markdown",
   "id": "1f7d41c1",
   "metadata": {},
   "source": [
    "### \"Turn on the microscope\""
   ]
  },
  {
   "cell_type": "code",
   "execution_count": 11,
   "id": "7e2db366",
   "metadata": {},
   "outputs": [],
   "source": [
    "diff_gen = DiffractionGenerator(accelerating_voltage=200,\n",
    "                                precession_angle=0,\n",
    "                                shape_factor_model=\"linear\",\n",
    "                                scattering_params=None,\n",
    "                                minimum_intensity=minimum_intensity,\n",
    "                                )\n",
    "\n",
    "lib_gen = DiffractionLibraryGenerator(diff_gen)"
   ]
  },
  {
   "cell_type": "markdown",
   "id": "a8be2944",
   "metadata": {},
   "source": [
    "### And then simulate library for given s with resolution as set earlier"
   ]
  },
  {
   "cell_type": "code",
   "execution_count": 12,
   "id": "a3279ff9",
   "metadata": {},
   "outputs": [
    {
     "name": "stdout",
     "output_type": "stream",
     "text": [
      "Half shape:2 (64, 64)\n",
      "Reciprocal radius: 1.723304078565359\n"
     ]
    },
    {
     "name": "stderr",
     "output_type": "stream",
     "text": [
      "                                                  \r"
     ]
    },
    {
     "data": {
      "text/plain": [
       "dict_keys(['ThetaPrime100', 'ThetaPrime001', 'T1'])"
      ]
     },
     "execution_count": 12,
     "metadata": {},
     "output_type": "execute_result"
    }
   ],
   "source": [
    "# half size of the images\n",
    "half_shape = (experimental_data.data.shape[-2]//2, experimental_data.data.shape[-1]//2)\n",
    "print(\"Half shape:2\" ,half_shape)\n",
    "diffraction_calibration = experimental_data.axes_manager[2].scale\n",
    "# maximum radius in reciprocal space to calculate spot intensities for\n",
    "reciprocal_radius = np.sqrt(half_shape[0]**2 + half_shape[1]**2)*diffraction_calibration\n",
    "print(\"Reciprocal radius:\", reciprocal_radius)\n",
    "# Calculate the simulated DP library\n",
    "from diffsims.libraries.diffraction_library import DiffractionLibrary\n",
    "\n",
    "# Some dictionary stitching to get individual excitatin errors each phase:\n",
    "diff_lib_full = DiffractionLibrary()\n",
    "for i, s in enumerate(s_list): # One s for each phase\n",
    "    # Calculate the simulated DP library\n",
    "    diff_lib_full[phases[i]] = lib_gen.get_diffraction_library(library_phases[i],   # Collecting structure library for phase_i\n",
    "                                            calibration=diffraction_calibration,\n",
    "                                            reciprocal_radius=reciprocal_radius,\n",
    "                                            half_shape=half_shape,\n",
    "                                            with_direct_beam=False,\n",
    "                                            max_excitation_error=s)[phases[i]]      # if [phases[i]] is not included here the keys of diff_lib_full would be [\"some_phase\"]->[\"some_phase\"]->['simulations', ... ]\n",
    "diff_lib = diff_lib_full\n",
    "diff_lib.keys() # This shows you which phases you have, can then also access diff_lib['key'].keys() and so on...\n",
    "\n",
    "#Optionally save it for later:\n",
    "#diff_lib.pickle_library(\"precips_lib_0123.pickle\")"
   ]
  },
  {
   "cell_type": "code",
   "execution_count": 13,
   "id": "873df331",
   "metadata": {},
   "outputs": [],
   "source": [
    "# Can load previously made library:\n",
    "#diff_lib = load_DiffractionLibrary(\"precips_lib_0123.pickle\", True)"
   ]
  },
  {
   "attachments": {},
   "cell_type": "markdown",
   "id": "b45f6fab",
   "metadata": {},
   "source": [
    "### Can check random simulations (with too high s the DPs have too many reflections)"
   ]
  },
  {
   "cell_type": "code",
   "execution_count": 14,
   "id": "9cc36aff",
   "metadata": {},
   "outputs": [
    {
     "name": "stdout",
     "output_type": "stream",
     "text": [
      "['ThetaPrime100', 'ThetaPrime001', 'T1']\n",
      "[ 0. 87. 90.]\n",
      "[ 0.  0. 90.]\n",
      "[ 0.         51.49460536 60.1171875 ]\n"
     ]
    }
   ],
   "source": [
    "print(phases)\n",
    "if(True):\n",
    "    diff_lib[phases[0]]['simulations'][0].plot()\n",
    "    print(diff_lib[phases[0]]['orientations'][0])\n",
    "    diff_lib[phases[1]]['simulations'][0].plot()\n",
    "    print(diff_lib[phases[1]]['orientations'][0])\n",
    "    diff_lib[phases[2]]['simulations'][0].plot()\n",
    "    print(diff_lib[phases[2]]['orientations'][0])"
   ]
  },
  {
   "cell_type": "markdown",
   "id": "76e4a627",
   "metadata": {},
   "source": [
    "# 3) Do template matching"
   ]
  },
  {
   "attachments": {},
   "cell_type": "markdown",
   "id": "f45a6a83",
   "metadata": {},
   "source": [
    "log shift function used in template matching, small shift amplifies weak reflections"
   ]
  },
  {
   "cell_type": "code",
   "execution_count": 15,
   "id": "988ff09f",
   "metadata": {},
   "outputs": [
    {
     "name": "stdout",
     "output_type": "stream",
     "text": [
      "0.001\n"
     ]
    }
   ],
   "source": [
    "print(shift)\n",
    "def log_shift(raw):\n",
    "    ''''\n",
    "    Parameters\n",
    "    -------\n",
    "    raw : np.array((128, 128)). The raw data.\n",
    "    shift : float. Introduces a shift for the log. To account for pixels with 0 value.\n",
    "    \n",
    "    Returns\n",
    "    -------\n",
    "    log_shift : np.array((128,128)). The log of the raw data.\n",
    "    '''\n",
    "    log_shift = np.log10(raw+shift) - np.log10(shift) - 0.05\n",
    "    return log_shift"
   ]
  },
  {
   "cell_type": "code",
   "execution_count": 16,
   "id": "699881d9",
   "metadata": {},
   "outputs": [
    {
     "name": "stdout",
     "output_type": "stream",
     "text": [
      "[########################################] | 100% Completed | 72.40 s\n"
     ]
    }
   ],
   "source": [
    "# Parameters for matching:\n",
    "delta_r = 1                         # res in inkreasing k value \n",
    "delta_theta = 1                     # res in rotation basically, azimuthal angle\n",
    "max_r = experimental_data.axes_manager[2].size//2  # Max k to check IN PIXELS, Default (None) is from center of DP to corner.\n",
    "intensity_transform_function = log_shift           # Function to apply to both image and template intensities on an element by element basis prior to comparison. Note that the function is performed on the CPU.\n",
    "find_direct_beam     = False\n",
    "direct_beam_position = None\n",
    "normalize_image      = True         # Normalize the images in the correlation coefficient calculation\n",
    "normalize_templates  = True         # Normalize the templates in the correlation coefficient calculation\n",
    "frac_keep = 1 \n",
    "n_keep    = None\n",
    "n_best    = 5                       # keeping n_best matches\n",
    "\n",
    "result, phasedict = iutls.index_dataset_with_template_rotation(experimental_data,\n",
    "                                                                diff_lib,\n",
    "                                                                n_best                       = n_best,\n",
    "                                                                frac_keep                    = frac_keep,\n",
    "                                                                n_keep                       = n_keep,\n",
    "                                                                delta_r                      = delta_r,\n",
    "                                                                delta_theta                  = delta_theta,\n",
    "                                                                max_r                        = max_r,\n",
    "                                                                intensity_transform_function = intensity_transform_function,\n",
    "                                                                normalize_images             = normalize_image,\n",
    "                                                                normalize_templates          = normalize_templates,\n",
    "                                                                )"
   ]
  },
  {
   "attachments": {},
   "cell_type": "markdown",
   "id": "72e28e6d",
   "metadata": {},
   "source": [
    "## We can now get a phase map"
   ]
  },
  {
   "attachments": {},
   "cell_type": "markdown",
   "id": "7ce08930",
   "metadata": {},
   "source": [
    "### Creating custom colormap for phases:"
   ]
  },
  {
   "cell_type": "code",
   "execution_count": 17,
   "id": "8d43f631",
   "metadata": {},
   "outputs": [],
   "source": [
    "\n",
    "from matplotlib.colors import to_rgba\n",
    "from matplotlib.colors import LinearSegmentedColormap\n",
    "\n",
    "color_names = ['linen', 'darkorange', 'dodgerblue', 'forestgreen']\n",
    "colors = [to_rgba(c) for c in color_names]\n",
    "\n",
    "cmap = LinearSegmentedColormap.from_list('gt_cmap', colors, N=len(color_names))"
   ]
  },
  {
   "attachments": {},
   "cell_type": "markdown",
   "id": "0b3ad162",
   "metadata": {},
   "source": [
    "### We need the correlation map to find a suitable threshold for filtering out what is aluminium:"
   ]
  },
  {
   "cell_type": "code",
   "execution_count": 18,
   "id": "085af90d",
   "metadata": {},
   "outputs": [],
   "source": [
    "corr_map = hs.signals.BaseSignal(result['correlation'][:,:,0]) # 0 is best match, 1 next best and so on\n",
    "corr_map.plot(cmap='viridis')"
   ]
  },
  {
   "attachments": {},
   "cell_type": "markdown",
   "id": "88cd35d8",
   "metadata": {},
   "source": [
    "#### Insert a region of interest and move to Al region (low scores due to bad match for precipitate DPs):"
   ]
  },
  {
   "cell_type": "code",
   "execution_count": 19,
   "id": "88770eab",
   "metadata": {},
   "outputs": [
    {
     "data": {
      "text/plain": [
       "<hyperspy.drawing._widgets.rectangles.RectangleWidget at 0x22f665cb760>"
      ]
     },
     "execution_count": 19,
     "metadata": {},
     "output_type": "execute_result"
    }
   ],
   "source": [
    "roi = hs.roi.RectangularROI(left=49, top=33, right=81, bottom=65)\n",
    "roi.add_widget(corr_map) # Put this in correct position before running next cell"
   ]
  },
  {
   "cell_type": "markdown",
   "id": "3e9700db",
   "metadata": {},
   "source": [
    "#### Then crop out this region and use the maximum value as initial guess for Al threshold"
   ]
  },
  {
   "cell_type": "code",
   "execution_count": 20,
   "id": "4034f9e0",
   "metadata": {},
   "outputs": [
    {
     "name": "stdout",
     "output_type": "stream",
     "text": [
      "0.011015317978663642\n"
     ]
    }
   ],
   "source": [
    "new_region = corr_map.isig[roi[0]:roi[1],roi[2]:roi[3]]\n",
    "print(new_region.data.max())\n",
    "\n",
    "Al_mask = corr_map > new_region.data.max()\n",
    "Al_mask.plot()"
   ]
  },
  {
   "attachments": {},
   "cell_type": "markdown",
   "id": "8b26a304",
   "metadata": {},
   "source": [
    "### From our results we can get the indexes found and apply the Al mask to the map:"
   ]
  },
  {
   "cell_type": "code",
   "execution_count": 21,
   "id": "7d1c420e",
   "metadata": {},
   "outputs": [
    {
     "name": "stdout",
     "output_type": "stream",
     "text": [
      "{0: 'ThetaPrime100', 1: 'ThetaPrime001', 2: 'T1'}\n",
      "\n",
      "Used: \n",
      " s = [0.03, 0.05, 0.022] for [ThP100, ThP001, T1] \n",
      " shift = 0.001 \n",
      " min intensity = 1e-20\n"
     ]
    }
   ],
   "source": [
    "phase_map = hs.signals.BaseSignal(result['phase_index'][:,:,0] + 1) # +1 here because we want Al to be 0, ThP_100 = 1, ThP_001 = 2 and T1 = 3. As Al not in template bank we have to shift it\n",
    "phase_map = phase_map*Al_mask\n",
    "\n",
    "# Plot phase map with our cmap above:\n",
    "experimental_data.plot(navigator=phase_map, \n",
    "                       norm='symlog', \n",
    "                       cmap='magma', \n",
    "                       navigator_kwds=dict(colorbar=True, cmap=cmap)\n",
    "                      )\n",
    "# Print the phase correspinding to numbers in phase map:\n",
    "print(phasedict)\n",
    "print('\\nUsed: \\n s =', s_list, \"for [ThP100, ThP001, T1]\",'\\n shift =', shift, '\\n min intensity =', minimum_intensity)"
   ]
  },
  {
   "cell_type": "code",
   "execution_count": 22,
   "id": "b9b79519",
   "metadata": {},
   "outputs": [
    {
     "data": {
      "text/plain": [
       "<matplotlib.colorbar.Colorbar at 0x22f67ba4460>"
      ]
     },
     "execution_count": 22,
     "metadata": {},
     "output_type": "execute_result"
    }
   ],
   "source": [
    "# A figure for saving the correlation map or phase map:\n",
    "fig,ax=plt.subplots(figsize=(8,8))\n",
    "im = ax.imshow(corr_map, cmap='viridis')\n",
    "#ax.axis('off')\n",
    "from mpl_toolkits.axes_grid1 import make_axes_locatable\n",
    "divider = make_axes_locatable(ax)\n",
    "cax = divider.append_axes(\"right\", size=\"5%\", pad=0.05)\n",
    "plt.colorbar(im, cax=cax)\n",
    "#plt.savefig('corrmap_newDataset', transparent=False, bbox_inches='tight', pad_inches=0, dpi=300)"
   ]
  },
  {
   "attachments": {},
   "cell_type": "markdown",
   "id": "daa53f09",
   "metadata": {},
   "source": [
    "# We can also plot the matched sim DP on exp DP for individual points of the scan:"
   ]
  },
  {
   "attachments": {},
   "cell_type": "markdown",
   "id": "cdae3bd7",
   "metadata": {},
   "source": [
    "(There is some issue with the code for the in plane rotation however when using more than one phase in the template bank)"
   ]
  },
  {
   "cell_type": "code",
   "execution_count": 26,
   "id": "b3e29180",
   "metadata": {},
   "outputs": [
    {
     "name": "stdout",
     "output_type": "stream",
     "text": [
      "Orientation of ( 24 , 61 ) is [990.          88.00030436  89.        ]\n",
      "in_plane_angle = 990.0\n",
      "ThetaPrime100\n",
      "[ 0.         88.00030436 89.        ]\n",
      "ThetaPrime100\n"
     ]
    }
   ],
   "source": [
    "px = 24\n",
    "py = 61\n",
    "n_sol = 0 # 0 = best, 1 = next best, ...\n",
    "\n",
    "solution = result[\"orientation\"]\n",
    "# Query the necessary info from the solution\n",
    "sim_sol_index = result[\"template_index\"][py, px, n_sol]   # Collects (py,px) in solution map n\n",
    "mirrored_sol = result[\"mirrored_template\"][py, px, n_sol] # mirrored template represents whether the original template best fits (False) or the mirror image (True)\n",
    "in_plane_angle = solution[py, px, n_sol, 0] # Orientations, the first angle is the in plane angle (When using multiple phases this is not correctly calculated.)\n",
    "print('Orientation of (', px,',', py, ')','is', solution[py, px, n_sol])\n",
    "print('in_plane_angle =', in_plane_angle)\n",
    "\n",
    "\n",
    "# Get the phase and simulation matched:\n",
    "found_phase = phases[result['phase_index'][py, px, n_sol]]\n",
    "print(found_phase)\n",
    "\n",
    "used_sim = diff_lib[found_phase][\"simulations\"][sim_sol_index]  # Collects the simulation fitted from template match\n",
    "used_sim.plot()\n",
    "print(diff_lib[found_phase][\"orientations\"][sim_sol_index])\n",
    "fig, ax = plt.subplots(ncols=2, figsize=(8, 4))\n",
    "# plotting phase map and the point we chose\n",
    "ax[0].imshow(phase_map, cmap=cmap)\n",
    "ax[0].scatter([px], [py], c=\"r\", marker='x', s=200)\n",
    "# plotting the diffraction pattern and template\n",
    "plot_template_over_pattern(experimental_data.inav[px,py].data,   # DP at px, py\n",
    "                                 used_sim,                       # simulated pattern found to fit best for DP at px, py\n",
    "                                 ax=ax[1],                       # Optional, to get DP in same fig as correlation map\n",
    "                                 in_plane_angle = in_plane_angle,# There is a bug in the collected in plane angle from template matchng when using multiple phases. It then seems to add up the in plane rotation found for each best fit phase.\n",
    "                                 coordinate_system = \"cartesian\", \n",
    "                                 size_factor = 20,               # This changes size of plotted X for DP spot marking\n",
    "                                 vmax=0.02,\n",
    "                                 mirrored_template=mirrored_sol,\n",
    "                                 find_direct_beam=False,\n",
    "                                 cmap = \"Greys\",\n",
    "                                 marker_color = '#1f77b4ff',\n",
    "                                 #direct_beam_position = (63,63)\n",
    "                                )\n",
    "for i in ax:\n",
    "    i.axis(\"off\")\n",
    "print(found_phase)"
   ]
  }
 ],
 "metadata": {
  "kernelspec": {
   "display_name": "Python 3",
   "language": "python",
   "name": "python3"
  },
  "language_info": {
   "codemirror_mode": {
    "name": "ipython",
    "version": 3
   },
   "file_extension": ".py",
   "mimetype": "text/x-python",
   "name": "python",
   "nbconvert_exporter": "python",
   "pygments_lexer": "ipython3",
   "version": "3.10.8"
  },
  "vscode": {
   "interpreter": {
    "hash": "1ff2183898941ddb9ea69b68ced27ed36a5d0ebe9765cae6550d56dda3f6e225"
   }
  }
 },
 "nbformat": 4,
 "nbformat_minor": 5
}
