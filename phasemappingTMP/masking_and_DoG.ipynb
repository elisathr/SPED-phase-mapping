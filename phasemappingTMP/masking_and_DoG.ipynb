{
 "cells": [
  {
   "cell_type": "code",
   "execution_count": 1,
   "metadata": {},
   "outputs": [
    {
     "name": "stderr",
     "output_type": "stream",
     "text": [
      "WARNING:silx.opencl.common:Unable to import pyOpenCl. Please install it from: https://pypi.org/project/pyopencl\n"
     ]
    }
   ],
   "source": [
    "%matplotlib qt5\n",
    "\n",
    "import numpy as np\n",
    "import hyperspy.api as hs\n",
    "import pyxem as pxm\n",
    "import matplotlib.pyplot as plt\n"
   ]
  },
  {
   "cell_type": "markdown",
   "metadata": {},
   "source": [
    "# We import a dataset which includes the background matrix"
   ]
  },
  {
   "cell_type": "code",
   "execution_count": null,
   "metadata": {},
   "outputs": [],
   "source": [
    "file = r'SPED_600x600x12_10x10_4p63x4p63_1deg_100Hz_CL12cm_NBD_alpha5_spot1p3_preprocessed.hspy'\n",
    "\n",
    "experimental_data = hs.load(file)\n",
    "experimental_data.set_scan_calibration(1)   # Easier to work with scan calibration set to pixels\n",
    "experimental_data.plot(norm='symlog')       # Plot with symlog norm to better see reflections. Press l when in DP to plot in log norm for even better contrast, though this can be buggy..."
   ]
  },
  {
   "cell_type": "markdown",
   "metadata": {},
   "source": [
    "# If you already made a mask, load it and skip to DoG and applying of mask"
   ]
  },
  {
   "cell_type": "code",
   "execution_count": 6,
   "metadata": {},
   "outputs": [],
   "source": [
    "try: \n",
    "    tot_mask = hs.load('Almask.hdf5')\n",
    "    tot_mask.plot()\n",
    "except:\n",
    "    print(\"This file does nos exist, run full script.\")"
   ]
  },
  {
   "cell_type": "markdown",
   "metadata": {},
   "source": [
    "# Creating a mask for matrix and direct spot:"
   ]
  },
  {
   "cell_type": "markdown",
   "metadata": {},
   "source": [
    "### Crop out to only include Al DP"
   ]
  },
  {
   "cell_type": "code",
   "execution_count": null,
   "metadata": {},
   "outputs": [],
   "source": [
    "roi = hs.roi.RectangularROI(left=50, top=25, right=86, bottom=58)\n",
    "roi.add_widget(experimental_data)"
   ]
  },
  {
   "cell_type": "code",
   "execution_count": 9,
   "metadata": {},
   "outputs": [
    {
     "name": "stderr",
     "output_type": "stream",
     "text": [
      "c:\\Users\\torit\\Anaconda3\\envs\\hyperspy_latest\\lib\\site-packages\\hyperspy\\drawing\\image.py:561: UserWarning: Attempted to set non-positive bottom ylim on a log-scaled axis.\n",
      "Invalid limit will be ignored.\n",
      "  ims[0].set_norm(norm)\n"
     ]
    }
   ],
   "source": [
    "matrix_DP = experimental_data.inav[roi[0]:roi[1],roi[2]:roi[3]].mean() # Use roi area from plot before. (Inav uses pixels, not calibrated dimensions in the navigator!)\n",
    "matrix_DP.plot(cmap='Greys')"
   ]
  },
  {
   "cell_type": "markdown",
   "metadata": {},
   "source": [
    "### Do DoG background removal to create a Al mask"
   ]
  },
  {
   "cell_type": "markdown",
   "metadata": {},
   "source": [
    "#### Can do this Interactively to investiagte good parameters first:"
   ]
  },
  {
   "cell_type": "code",
   "execution_count": 55,
   "metadata": {},
   "outputs": [],
   "source": [
    "if (False): # Can interactively check which values to use:\n",
    "    from pyxem.utils.expt_utils import investigate_dog_background_removal_interactive\n",
    "\n",
    "    gauss_stddev_maxs = np.arange(2, 10, 0.2) # min, max, step\n",
    "    gauss_stddev_mins = np.arange(1, 9, 0.2) # min, max, step\n",
    "\n",
    "    investigate_dog_background_removal_interactive(matrix_DP,\n",
    "                                                gauss_stddev_maxs,\n",
    "                                                gauss_stddev_mins)"
   ]
  },
  {
   "cell_type": "markdown",
   "metadata": {},
   "source": [
    "#### When good parameters are found, run it on our mean DP and normalize the result:"
   ]
  },
  {
   "cell_type": "code",
   "execution_count": 10,
   "metadata": {},
   "outputs": [
    {
     "name": "stdout",
     "output_type": "stream",
     "text": [
      "[########################################] | 100% Completed |  0.1s\n"
     ]
    },
    {
     "name": "stderr",
     "output_type": "stream",
     "text": [
      "c:\\Users\\torit\\Anaconda3\\envs\\hyperspy_latest\\lib\\site-packages\\hyperspy\\drawing\\image.py:561: UserWarning: Attempted to set non-positive bottom ylim on a log-scaled axis.\n",
      "Invalid limit will be ignored.\n",
      "  ims[0].set_norm(norm)\n"
     ]
    }
   ],
   "source": [
    "matrix_DP_clean = matrix_DP.subtract_diffraction_background('difference of gaussians',\n",
    "                                                        min_sigma=3.6, \n",
    "                                                        max_sigma=6.4,\n",
    "                                                        lazy_result=False)\n",
    "matrix_DP_clean.data *= 1 / matrix_DP_clean.data.max() # Normalize dataset again after this\n",
    "matrix_DP_clean.plot()"
   ]
  },
  {
   "cell_type": "markdown",
   "metadata": {},
   "source": [
    "### Set reflections to 1"
   ]
  },
  {
   "cell_type": "code",
   "execution_count": 11,
   "metadata": {},
   "outputs": [],
   "source": [
    "mask = matrix_DP_clean > 0          # This is for Al DP\n",
    "mask_central_beam = matrix_DP > 0.2 # This is for central beam, should be larger"
   ]
  },
  {
   "cell_type": "markdown",
   "metadata": {},
   "source": [
    "### Smooth the spots to make them larger and more circular"
   ]
  },
  {
   "cell_type": "code",
   "execution_count": 12,
   "metadata": {},
   "outputs": [
    {
     "name": "stdout",
     "output_type": "stream",
     "text": [
      "[########################################] | 100% Completed |  0.1s\n",
      "[########################################] | 100% Completed |  0.1s\n"
     ]
    }
   ],
   "source": [
    "# Here we could use dilation to enlarge the reflections, \n",
    "# but they are not very circular so this method seems better:\n",
    "from skimage import filters\n",
    "\n",
    "mask_signal = hs.signals.BaseSignal(mask) # We need to make our mask a BaseSignal to be able to map our function on it\n",
    "mask_smooth = mask_signal.map(filters.gaussian, sigma=5, inplace=False)\n",
    "mask_smooth.plot()\n",
    "\n",
    "mask_central_beam_signal = hs.signals.BaseSignal(mask_central_beam)\n",
    "mask_central_beam_smooth = mask_central_beam_signal.map(filters.gaussian, sigma=5, inplace=False)\n",
    "mask_central_beam_smooth.plot()"
   ]
  },
  {
   "cell_type": "markdown",
   "metadata": {},
   "source": [
    "### Set everything below a threshold to 1 in the masks and create a total mask from the inverse of these"
   ]
  },
  {
   "cell_type": "code",
   "execution_count": 13,
   "metadata": {},
   "outputs": [],
   "source": [
    "mask = mask_smooth < 0.15                           # if mask_smooth[i,j] is smaller than this, mask[i,j] = 1\n",
    "mask_central_beam = mask_central_beam_smooth < 0.05\n",
    "\n",
    "tot_mask = ~mask.data + ~mask_central_beam.data     # ~something returns the inverse of something. This must be done to not only be left with a small central beam mask\n",
    "tot_mask = hs.signals.BaseSignal(~tot_mask)         # And finally we go back to BaseSignal and invert back so that what is outside Al reflections are kept and inside removed.\n",
    "\n",
    "fig, ax =plt.subplots(ncols=4, figsize=(16,4))\n",
    "ax[0].imshow(matrix_DP, cmap='Greys',vmax=0.03)\n",
    "ax[0].text(0, 0, 'Al DP, smoothed average.')\n",
    "\n",
    "ax[1].imshow(mask,cmap='Greys_r')\n",
    "ax[1].text(0, 0, 'Al DP mask.')\n",
    "\n",
    "ax[2].imshow(mask_central_beam, cmap='Greys_r')\n",
    "ax[2].text(0, 0, 'Central beam mask.')\n",
    "\n",
    "ax[3].imshow(tot_mask,cmap='Greys_r')\n",
    "ax[3].text(0, 0, 'Total mask.')\n",
    "for i in range(4):\n",
    "    ax[i].axis('off')"
   ]
  },
  {
   "cell_type": "markdown",
   "metadata": {},
   "source": [
    "# Do DoG background removal"
   ]
  },
  {
   "cell_type": "code",
   "execution_count": 14,
   "metadata": {},
   "outputs": [
    {
     "name": "stdout",
     "output_type": "stream",
     "text": [
      "[########################################] | 100% Completed | 12.8s\n"
     ]
    }
   ],
   "source": [
    "data_clean = experimental_data.subtract_diffraction_background('difference of gaussians',\n",
    "                                                        min_sigma=2, \n",
    "                                                        max_sigma=2.2,\n",
    "                                                        lazy_result=False)\n",
    "data_clean.data *= 1 / data_clean.data.max() # Normalize dataset again after this\n",
    "data_clean.plot(norm='symlog')"
   ]
  },
  {
   "cell_type": "markdown",
   "metadata": {},
   "source": [
    "# Finally we can apply the mask to the dataset"
   ]
  },
  {
   "cell_type": "code",
   "execution_count": 15,
   "metadata": {},
   "outputs": [
    {
     "name": "stderr",
     "output_type": "stream",
     "text": [
      "WARNING:hyperspy.misc.signal_tools:Axis calibration mismatch detected along axis 2. The calibration of signal 0 along this axis will be applied to all signals after stacking.\n",
      "WARNING:hyperspy.misc.signal_tools:Axis calibration mismatch detected along axis 3. The calibration of signal 0 along this axis will be applied to all signals after stacking.\n",
      "c:\\Users\\torit\\Anaconda3\\envs\\hyperspy_latest\\lib\\site-packages\\hyperspy\\drawing\\image.py:561: UserWarning: Attempted to set non-positive bottom ylim on a log-scaled axis.\n",
      "Invalid limit will be ignored.\n",
      "  ims[0].set_norm(norm)\n"
     ]
    }
   ],
   "source": [
    "masked_data = data_clean*tot_mask\n",
    "masked_data.plot(norm='symlog')"
   ]
  },
  {
   "cell_type": "markdown",
   "metadata": {},
   "source": [
    "# Saving the mask and the processed dataset"
   ]
  },
  {
   "cell_type": "code",
   "execution_count": 62,
   "metadata": {},
   "outputs": [],
   "source": [
    "#tot_mask.save('Almask.hdf5')\n",
    "#masked_data.save('Almasked_DoG.hdf5')"
   ]
  },
  {
   "cell_type": "code",
   "execution_count": null,
   "metadata": {},
   "outputs": [],
   "source": []
  }
 ],
 "metadata": {
  "kernelspec": {
   "display_name": "Python 3 (ipykernel)",
   "language": "python",
   "name": "python3"
  },
  "language_info": {
   "codemirror_mode": {
    "name": "ipython",
    "version": 3
   },
   "file_extension": ".py",
   "mimetype": "text/x-python",
   "name": "python",
   "nbconvert_exporter": "python",
   "pygments_lexer": "ipython3",
   "version": "3.10.4"
  },
  "vscode": {
   "interpreter": {
    "hash": "223e676380d4df3d50271949191e69bd32ffbc661fbf2cd3a37d125a87fc0e0c"
   }
  }
 },
 "nbformat": 4,
 "nbformat_minor": 2
}
