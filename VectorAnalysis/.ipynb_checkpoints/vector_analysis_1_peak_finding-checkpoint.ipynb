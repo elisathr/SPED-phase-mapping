{
 "cells": [
  {
   "cell_type": "markdown",
   "metadata": {},
   "source": [
    "# Vector analysis — 1. Peak finding\n",
    "Tina Bergh (tina.bergh@ntnu.no)"
   ]
  },
  {
   "cell_type": "markdown",
   "metadata": {},
   "source": [
    "Import required packages"
   ]
  },
  {
   "cell_type": "code",
   "execution_count": 49,
   "metadata": {},
   "outputs": [],
   "source": [
    "%matplotlib qt\n",
    "# use qt, tk or other for interactive pop-out windows\n",
    "\n",
    "import numpy as np\n",
    "from time import time\n",
    "from tqdm import tqdm\n",
    "import matplotlib.pyplot as plt\n",
    "\n",
    "import hyperspy.api as hs\n",
    "import pyxem as pxm"
   ]
  },
  {
   "cell_type": "markdown",
   "metadata": {},
   "source": [
    "Print the used versions of hyperspy (1.7.3) and pyxem (0.14.2)"
   ]
  },
  {
   "cell_type": "code",
   "execution_count": 2,
   "metadata": {},
   "outputs": [
    {
     "name": "stdout",
     "output_type": "stream",
     "text": [
      "Hyperspy version: 1.7.3. Pyxem version: 0.14.2\n"
     ]
    }
   ],
   "source": [
    "print('Hyperspy version: '+str(hs.__version__)+'. Pyxem version: '+str(pxm.__version__))"
   ]
  },
  {
   "cell_type": "markdown",
   "metadata": {},
   "source": [
    "## Load the pre-processed SPED Dataset A"
   ]
  },
  {
   "cell_type": "code",
   "execution_count": 6,
   "metadata": {},
   "outputs": [],
   "source": [
    "folder = './/'\n",
    "file = 'Preprocessed'\n",
    "dp = hs.load(folder + file + '.hspy')"
   ]
  },
  {
   "cell_type": "markdown",
   "metadata": {},
   "source": [
    "Inspect the axes manager and the defined calibrations "
   ]
  },
  {
   "cell_type": "code",
   "execution_count": 7,
   "metadata": {},
   "outputs": [
    {
     "data": {
      "text/html": [
       "<style>\n",
       "table, th, td {\n",
       "\tborder: 1px solid black;\n",
       "\tborder-collapse: collapse;\n",
       "}\n",
       "th, td {\n",
       "\tpadding: 5px;\n",
       "}\n",
       "</style>\n",
       "<p><b>< Axes manager, axes: (512, 512|128, 128) ></b></p>\n",
       "<table style='width:100%'>\n",
       "\n",
       "<tr> \n",
       "<th>Navigation axis name</th> \n",
       "<th>size</th> \n",
       "<th>index</th> \n",
       "<th>offset</th> \n",
       "<th>scale</th> \n",
       "<th>units</th> </tr>\n",
       "<tr> \n",
       "<td>x</td> \n",
       "<td>512</td> \n",
       "<td>0</td> \n",
       "<td>0.0</td> \n",
       "<td>4.63</td> \n",
       "<td>nm</td> </tr>\n",
       "<tr> \n",
       "<td>y</td> \n",
       "<td>512</td> \n",
       "<td>0</td> \n",
       "<td>0.0</td> \n",
       "<td>4.63</td> \n",
       "<td>nm</td> </tr></table>\n",
       "<table style='width:100%'>\n",
       "\n",
       "<tr> \n",
       "<th>Signal axis name</th> \n",
       "<th>size</th> \n",
       "<th></th> \n",
       "<th>offset</th> \n",
       "<th>scale</th> \n",
       "<th>units</th> </tr>\n",
       "<tr> \n",
       "<td>kx</td> \n",
       "<td>128</td> \n",
       "<td></td> \n",
       "<td>-1.2138</td> \n",
       "<td>0.01904</td> \n",
       "<td>$A^{-1}$</td> </tr>\n",
       "<tr> \n",
       "<td>ky</td> \n",
       "<td>128</td> \n",
       "<td></td> \n",
       "<td>-1.2138</td> \n",
       "<td>0.01904</td> \n",
       "<td>$A^{-1}$</td> </tr></table>\n"
      ],
      "text/plain": [
       "<Axes manager, axes: (512, 512|128, 128)>\n",
       "            Name |   size |  index |  offset |   scale |  units \n",
       "================ | ====== | ====== | ======= | ======= | ====== \n",
       "               x |    512 |      0 |       0 |     4.6 |     nm \n",
       "               y |    512 |      0 |       0 |     4.6 |     nm \n",
       "---------------- | ------ | ------ | ------- | ------- | ------ \n",
       "              kx |    128 |      0 |    -1.2 |   0.019 | $A^{-1}$ \n",
       "              ky |    128 |      0 |    -1.2 |   0.019 | $A^{-1}$ "
      ]
     },
     "execution_count": 7,
     "metadata": {},
     "output_type": "execute_result"
    }
   ],
   "source": [
    "dp.axes_manager"
   ]
  },
  {
   "cell_type": "markdown",
   "metadata": {},
   "source": [
    "Plot the SPED dataset"
   ]
  },
  {
   "cell_type": "code",
   "execution_count": 8,
   "metadata": {},
   "outputs": [],
   "source": [
    "dp.plot(cmap='magma_r', norm='log')"
   ]
  },
  {
   "cell_type": "markdown",
   "metadata": {},
   "source": [
    "# 1. Find all Bragg peaks"
   ]
  },
  {
   "cell_type": "markdown",
   "metadata": {},
   "source": [
    "We use Laplacian of Gaussian blob finding to detect all Bragg peaks in the dataset, and it is important to choose the parameters correctly to include weak Bragg spots, while exclusing noise. \n",
    "\n",
    "First, plot the dataset and check the peak finding parameters interactively. (Note that the interactive plotting is not deleting the previous peaks when moving to a new navigation position, so close the plot and rerun the cell below after moving to a new navigation position, to see the actual result.)"
   ]
  },
  {
   "cell_type": "code",
   "execution_count": 14,
   "metadata": {},
   "outputs": [
    {
     "data": {
      "application/vnd.jupyter.widget-view+json": {
       "model_id": "32c1bcdc833247929af9c17136ea4962",
       "version_major": 2,
       "version_minor": 0
      },
      "text/plain": [
       "VBox(children=(Accordion(children=(VBox(children=(HBox(children=(Label(value='x', layout=Layout(width='15%')),…"
      ]
     },
     "metadata": {},
     "output_type": "display_data"
    },
    {
     "data": {
      "text/plain": [
       "<BaseSignal, title: , dimensions: (512, 512|)>"
      ]
     },
     "execution_count": 14,
     "metadata": {},
     "output_type": "execute_result"
    }
   ],
   "source": [
    "dp.plot(cmap='magma_r', norm='log')\n",
    "dp.find_peaks(method='laplacian_of_gaussian', min_sigma=2., max_sigma=10., num_sigma=20, threshold=0.0005, overlap=1.0,\n",
    "              log_scale=False, exclude_border=1, interactive=True)"
   ]
  },
  {
   "cell_type": "markdown",
   "metadata": {},
   "source": [
    "Run peak finding if the parameters look good, or adjust them before running. This will take a long time (ca 1 h), so choose the parameters carefull before running it on the whole dataset!"
   ]
  },
  {
   "cell_type": "code",
   "execution_count": 20,
   "metadata": {},
   "outputs": [
    {
     "name": "stdout",
     "output_type": "stream",
     "text": [
      "[########################################] | 100% Completed | 82m 5ss\n",
      "Peak finding time [min] 86.00133630832036\n"
     ]
    }
   ],
   "source": [
    "t0 = time()\n",
    "peaks = dp.find_peaks(method='laplacian_of_gaussian', min_sigma=2., max_sigma=10., num_sigma=20, threshold=0.0005,\n",
    "                      overlap=1.0, log_scale=False, exclude_border=1, interactive=False)\n",
    "tf = time()\n",
    "tt = tf-t0\n",
    "print('Peak finding time [min] '+str(tt/60))"
   ]
  },
  {
   "cell_type": "markdown",
   "metadata": {},
   "source": [
    "Note that even though the data has been calibrated, the peak position is given in pixel values. We will calibrate them later. "
   ]
  },
  {
   "cell_type": "code",
   "execution_count": 30,
   "metadata": {
    "tags": []
   },
   "outputs": [
    {
     "data": {
      "text/plain": [
       "<BaseSignal, title: SPED_600x600x12_10x10_4p63x4p63_1deg_100Hz_CL12cm_NBD_alpha5_spot1p3, dimensions: (512, 512|ragged)>"
      ]
     },
     "execution_count": 30,
     "metadata": {},
     "output_type": "execute_result"
    }
   ],
   "source": [
    "peaks"
   ]
  },
  {
   "cell_type": "markdown",
   "metadata": {},
   "source": [
    "(Optional) Save the found peak positions. "
   ]
  },
  {
   "cell_type": "code",
   "execution_count": 23,
   "metadata": {},
   "outputs": [],
   "source": [
    "np.save(file=folder+'Peaks.npy', arr=peaks.data, allow_pickle=True)"
   ]
  },
  {
   "cell_type": "markdown",
   "metadata": {},
   "source": [
    "Create peak markers and plot them on top of the signal"
   ]
  },
  {
   "cell_type": "code",
   "execution_count": 27,
   "metadata": {
    "tags": []
   },
   "outputs": [],
   "source": [
    "dp.add_peak_array_as_markers(peaks.data)"
   ]
  },
  {
   "cell_type": "code",
   "execution_count": 28,
   "metadata": {},
   "outputs": [],
   "source": [
    "dp.plot(norm='log', cmap='viridis_r')"
   ]
  },
  {
   "cell_type": "markdown",
   "metadata": {},
   "source": [
    "Refine the peak positions using a centre-of-mass (COM) approach"
   ]
  },
  {
   "cell_type": "code",
   "execution_count": 31,
   "metadata": {},
   "outputs": [
    {
     "name": "stdout",
     "output_type": "stream",
     "text": [
      "[########################################] | 100% Completed | 10m 40s\n",
      "Peak refinement time [min] 15.165622703234355\n"
     ]
    }
   ],
   "source": [
    "t0 = time()\n",
    "peaks_com = dp.peak_position_refinement_com(peaks.data, square_size=8, lazy_result=False, show_progressbar=True)\n",
    "tf = time()\n",
    "tt2 = tf-t0\n",
    "print('Peak refinement time [min] '+str(tt2/60))"
   ]
  },
  {
   "cell_type": "markdown",
   "metadata": {},
   "source": [
    "(Optional) Save the found peak positions. "
   ]
  },
  {
   "cell_type": "code",
   "execution_count": 32,
   "metadata": {},
   "outputs": [],
   "source": [
    "np.save(file=folder+'Peaks_com.npy', arr=peaks_com.data, allow_pickle=True)"
   ]
  },
  {
   "cell_type": "markdown",
   "metadata": {},
   "source": [
    "Create peak markers and plot them on top of the signal"
   ]
  },
  {
   "cell_type": "code",
   "execution_count": 35,
   "metadata": {},
   "outputs": [],
   "source": [
    "dp.add_peak_array_as_markers(peaks_com, color='cyan', size=30)"
   ]
  },
  {
   "cell_type": "code",
   "execution_count": 36,
   "metadata": {},
   "outputs": [],
   "source": [
    "dp.plot(cmap='viridis_r', norm='log')"
   ]
  },
  {
   "cell_type": "markdown",
   "metadata": {},
   "source": [
    "# 2. Remove all Bragg peaks from the aluminium matrix"
   ]
  },
  {
   "cell_type": "markdown",
   "metadata": {},
   "source": [
    "Define functions that will be used to remove all vectors that are located within a length of 'distance_th' of any of the reference Al peaks. "
   ]
  },
  {
   "cell_type": "code",
   "execution_count": 52,
   "metadata": {},
   "outputs": [],
   "source": [
    "def remove_Al_peaks(peaks_tmp, Al_peaks, distance_th):\n",
    "    for Al_peak in Al_peaks:\n",
    "        norm_tmp = np.linalg.norm(peaks_tmp - Al_peak, axis=1)\n",
    "        try:\n",
    "            ind_min = np.argmin(norm_tmp)\n",
    "        except:\n",
    "            if peaks_tmp.shape[0] == 0:\n",
    "                return peaks_tmp\n",
    "            else:\n",
    "                continue\n",
    "        if norm_tmp[ind_min] > distance_th:\n",
    "            continue\n",
    "        peaks_tmp = np.delete(peaks_tmp, ind_min, axis=0)\n",
    "    return peaks_tmp\n",
    "\n",
    "\n",
    "def get_peaks_noAl(peaks, Al_peaks, distance_th):\n",
    "    peaks_ravel = peaks.ravel()\n",
    "    n = len(peaks_ravel)\n",
    "    peaks_noAl = np.zeros((n), dtype='object')\n",
    "    for i, peak in tqdm(enumerate(peaks_ravel)):\n",
    "        #if i % int(n * 0.05) == 0:\n",
    "        #    print('{} percentage done'.format(i / n * 100))\n",
    "        peaks_noAl[i] = remove_Al_peaks(peak, Al_peaks, distance_th)\n",
    "    peaks_noAl = np.reshape(peaks_noAl, np.shape(peaks))\n",
    "    return peaks_noAl"
   ]
  },
  {
   "cell_type": "markdown",
   "metadata": {},
   "source": [
    "The reference Al peaks are selected manually by finding a single diffraction pattern that has the highest number of Al Bragg peaks detected. To find this, it can be a good idea to plot the number of vectors map. The reference should also include the direct beam, so that the direct beam vector position will also be removed. "
   ]
  },
  {
   "cell_type": "code",
   "execution_count": 39,
   "metadata": {
    "scrolled": true,
    "tags": []
   },
   "outputs": [
    {
     "name": "stderr",
     "output_type": "stream",
     "text": [
      "WARNING:hyperspy.signal:The function you applied does not take into account the difference of units and of scales in-between axes.\n",
      "WARNING:hyperspy.io:`signal_type='diffraction_vectors'` not understood. See `hs.print_known_signal_types()` for a list of installed signal types or https://github.com/hyperspy/hyperspy-extensions-list for the list of all hyperspy extensions providing signals.\n"
     ]
    },
    {
     "name": "stdout",
     "output_type": "stream",
     "text": [
      "[########################################] | 100% Completed | 270.33 ms\n"
     ]
    },
    {
     "name": "stderr",
     "output_type": "stream",
     "text": [
      "WARNING:hyperspy.io:`signal_type='signal2d'` not understood. See `hs.print_known_signal_types()` for a list of installed signal types or https://github.com/hyperspy/hyperspy-extensions-list for the list of all hyperspy extensions providing signals.\n"
     ]
    }
   ],
   "source": [
    "dpx_map= pxm.signals.DiffractionVectors(peaks_com).get_diffracting_pixels_map()\n",
    "dpx_map.plot()"
   ]
  },
  {
   "cell_type": "markdown",
   "metadata": {},
   "source": [
    "Here, we locate a good reference pattern with 26 Al peaks."
   ]
  },
  {
   "cell_type": "code",
   "execution_count": 45,
   "metadata": {},
   "outputs": [],
   "source": [
    "Al_peaks = peaks_com[215, 274].copy() "
   ]
  },
  {
   "cell_type": "code",
   "execution_count": 46,
   "metadata": {},
   "outputs": [
    {
     "data": {
      "text/plain": [
       "26"
      ]
     },
     "execution_count": 46,
     "metadata": {},
     "output_type": "execute_result"
    }
   ],
   "source": [
    "len(Al_peaks)"
   ]
  },
  {
   "cell_type": "markdown",
   "metadata": {},
   "source": [
    "We set the threshold length, 'distance_th', to be 8 pixels. "
   ]
  },
  {
   "cell_type": "code",
   "execution_count": 47,
   "metadata": {},
   "outputs": [],
   "source": [
    "distance_th = 8"
   ]
  },
  {
   "cell_type": "markdown",
   "metadata": {},
   "source": [
    "Remove the Al vectors from each pattern"
   ]
  },
  {
   "cell_type": "code",
   "execution_count": 53,
   "metadata": {
    "collapsed": true,
    "jupyter": {
     "outputs_hidden": true
    },
    "tags": []
   },
   "outputs": [
    {
     "name": "stderr",
     "output_type": "stream",
     "text": [
      "23034it [00:12, 1832.46it/s]\n"
     ]
    },
    {
     "ename": "KeyboardInterrupt",
     "evalue": "",
     "output_type": "error",
     "traceback": [
      "\u001b[1;31m---------------------------------------------------------------------------\u001b[0m",
      "\u001b[1;31mKeyboardInterrupt\u001b[0m                         Traceback (most recent call last)",
      "Cell \u001b[1;32mIn [53], line 2\u001b[0m\n\u001b[0;32m      1\u001b[0m t0 \u001b[38;5;241m=\u001b[39m time()\n\u001b[1;32m----> 2\u001b[0m peaks_noAl \u001b[38;5;241m=\u001b[39m \u001b[43mget_peaks_noAl\u001b[49m\u001b[43m(\u001b[49m\u001b[43mpeaks_com\u001b[49m\u001b[43m,\u001b[49m\u001b[43m \u001b[49m\u001b[43mAl_peaks\u001b[49m\u001b[43m,\u001b[49m\u001b[43m \u001b[49m\u001b[43mdistance_th\u001b[49m\u001b[43m)\u001b[49m\n\u001b[0;32m      3\u001b[0m tf \u001b[38;5;241m=\u001b[39m time()\n\u001b[0;32m      4\u001b[0m tt3 \u001b[38;5;241m=\u001b[39m tf \u001b[38;5;241m-\u001b[39m t0\n",
      "Cell \u001b[1;32mIn [52], line 24\u001b[0m, in \u001b[0;36mget_peaks_noAl\u001b[1;34m(peaks, Al_peaks, distance_th)\u001b[0m\n\u001b[0;32m     20\u001b[0m peaks_noAl \u001b[38;5;241m=\u001b[39m np\u001b[38;5;241m.\u001b[39mzeros((n), dtype\u001b[38;5;241m=\u001b[39m\u001b[38;5;124m'\u001b[39m\u001b[38;5;124mobject\u001b[39m\u001b[38;5;124m'\u001b[39m)\n\u001b[0;32m     21\u001b[0m \u001b[38;5;28;01mfor\u001b[39;00m i, peak \u001b[38;5;129;01min\u001b[39;00m tqdm(\u001b[38;5;28menumerate\u001b[39m(peaks_ravel)):\n\u001b[0;32m     22\u001b[0m     \u001b[38;5;66;03m#if i % int(n * 0.05) == 0:\u001b[39;00m\n\u001b[0;32m     23\u001b[0m     \u001b[38;5;66;03m#    print('{} percentage done'.format(i / n * 100))\u001b[39;00m\n\u001b[1;32m---> 24\u001b[0m     peaks_noAl[i] \u001b[38;5;241m=\u001b[39m \u001b[43mremove_Al_peaks\u001b[49m\u001b[43m(\u001b[49m\u001b[43mpeak\u001b[49m\u001b[43m,\u001b[49m\u001b[43m \u001b[49m\u001b[43mAl_peaks\u001b[49m\u001b[43m,\u001b[49m\u001b[43m \u001b[49m\u001b[43mdistance_th\u001b[49m\u001b[43m)\u001b[49m\n\u001b[0;32m     25\u001b[0m peaks_noAl \u001b[38;5;241m=\u001b[39m np\u001b[38;5;241m.\u001b[39mreshape(peaks_noAl, np\u001b[38;5;241m.\u001b[39mshape(peaks))\n\u001b[0;32m     26\u001b[0m \u001b[38;5;28;01mreturn\u001b[39;00m peaks_noAl\n",
      "Cell \u001b[1;32mIn [52], line 13\u001b[0m, in \u001b[0;36mremove_Al_peaks\u001b[1;34m(peaks_tmp, Al_peaks, distance_th)\u001b[0m\n\u001b[0;32m     11\u001b[0m     \u001b[38;5;28;01mif\u001b[39;00m norm_tmp[ind_min] \u001b[38;5;241m>\u001b[39m distance_th:\n\u001b[0;32m     12\u001b[0m         \u001b[38;5;28;01mcontinue\u001b[39;00m\n\u001b[1;32m---> 13\u001b[0m     peaks_tmp \u001b[38;5;241m=\u001b[39m \u001b[43mnp\u001b[49m\u001b[38;5;241;43m.\u001b[39;49m\u001b[43mdelete\u001b[49m\u001b[43m(\u001b[49m\u001b[43mpeaks_tmp\u001b[49m\u001b[43m,\u001b[49m\u001b[43m \u001b[49m\u001b[43mind_min\u001b[49m\u001b[43m,\u001b[49m\u001b[43m \u001b[49m\u001b[43maxis\u001b[49m\u001b[38;5;241;43m=\u001b[39;49m\u001b[38;5;241;43m0\u001b[39;49m\u001b[43m)\u001b[49m\n\u001b[0;32m     14\u001b[0m \u001b[38;5;28;01mreturn\u001b[39;00m peaks_tmp\n",
      "File \u001b[1;32m<__array_function__ internals>:180\u001b[0m, in \u001b[0;36mdelete\u001b[1;34m(*args, **kwargs)\u001b[0m\n",
      "File \u001b[1;32mC:\\Anaconda\\envs\\hyperspy-new-rl\\lib\\site-packages\\numpy\\lib\\function_base.py:5168\u001b[0m, in \u001b[0;36mdelete\u001b[1;34m(arr, obj, axis)\u001b[0m\n\u001b[0;32m   5166\u001b[0m     slobj2 \u001b[38;5;241m=\u001b[39m [\u001b[38;5;28mslice\u001b[39m(\u001b[38;5;28;01mNone\u001b[39;00m)]\u001b[38;5;241m*\u001b[39mndim\n\u001b[0;32m   5167\u001b[0m     slobj2[axis] \u001b[38;5;241m=\u001b[39m \u001b[38;5;28mslice\u001b[39m(obj\u001b[38;5;241m+\u001b[39m\u001b[38;5;241m1\u001b[39m, \u001b[38;5;28;01mNone\u001b[39;00m)\n\u001b[1;32m-> 5168\u001b[0m     \u001b[43mnew\u001b[49m\u001b[43m[\u001b[49m\u001b[38;5;28;43mtuple\u001b[39;49m\u001b[43m(\u001b[49m\u001b[43mslobj\u001b[49m\u001b[43m)\u001b[49m\u001b[43m]\u001b[49m \u001b[38;5;241m=\u001b[39m arr[\u001b[38;5;28mtuple\u001b[39m(slobj2)]\n\u001b[0;32m   5169\u001b[0m \u001b[38;5;28;01melse\u001b[39;00m:\n\u001b[0;32m   5170\u001b[0m     \u001b[38;5;28;01mif\u001b[39;00m obj\u001b[38;5;241m.\u001b[39mdtype \u001b[38;5;241m==\u001b[39m \u001b[38;5;28mbool\u001b[39m:\n",
      "\u001b[1;31mKeyboardInterrupt\u001b[0m: "
     ]
    }
   ],
   "source": [
    "t0 = time()\n",
    "peaks_noAl = get_peaks_noAl(peaks_com, Al_peaks, distance_th)\n",
    "tf = time()\n",
    "tt3 = tf - t0\n",
    "print('Peak remove Al time [min] ' + str(tt3 / 60))"
   ]
  },
  {
   "cell_type": "markdown",
   "metadata": {},
   "source": [
    "Save the peak positions after removing all Al peaks"
   ]
  },
  {
   "cell_type": "code",
   "execution_count": 55,
   "metadata": {},
   "outputs": [],
   "source": [
    "np.save(file=folder + 'Peaks_noAl.npy', arr=peaks_noAl, allow_pickle=True)"
   ]
  },
  {
   "cell_type": "markdown",
   "metadata": {},
   "source": [
    "Plot again the number of vectors map and see that it has been reduced. Al regions should have 0 or 1 peaks. "
   ]
  },
  {
   "cell_type": "code",
   "execution_count": 57,
   "metadata": {},
   "outputs": [
    {
     "name": "stderr",
     "output_type": "stream",
     "text": [
      "WARNING:hyperspy.signal:The function you applied does not take into account the difference of units and of scales in-between axes.\n",
      "WARNING:hyperspy.io:`signal_type='diffraction_vectors'` not understood. See `hs.print_known_signal_types()` for a list of installed signal types or https://github.com/hyperspy/hyperspy-extensions-list for the list of all hyperspy extensions providing signals.\n"
     ]
    },
    {
     "name": "stdout",
     "output_type": "stream",
     "text": [
      "[########################################] | 100% Completed | 290.16 ms\n"
     ]
    },
    {
     "name": "stderr",
     "output_type": "stream",
     "text": [
      "WARNING:hyperspy.io:`signal_type='signal2d'` not understood. See `hs.print_known_signal_types()` for a list of installed signal types or https://github.com/hyperspy/hyperspy-extensions-list for the list of all hyperspy extensions providing signals.\n"
     ]
    }
   ],
   "source": [
    "dpx_map_noAl = pxm.signals.DiffractionVectors(peaks_noAl).get_diffracting_pixels_map()\n",
    "dpx_map_noAl.plot()"
   ]
  },
  {
   "cell_type": "markdown",
   "metadata": {
    "tags": []
   },
   "source": [
    "### Calibrate the peaks"
   ]
  },
  {
   "cell_type": "markdown",
   "metadata": {},
   "source": [
    "Extract the calibration, center and offset from the axis_manager of the dataset"
   ]
  },
  {
   "cell_type": "code",
   "execution_count": 61,
   "metadata": {},
   "outputs": [],
   "source": [
    "calibration = dp.axes_manager[2].scale\n",
    "center = np.array(dp.axes_manager.signal_shape, dtype='int') / 2\n",
    "offset = dp.axes_manager[2].offset"
   ]
  },
  {
   "cell_type": "markdown",
   "metadata": {},
   "source": [
    "Calibrate the peaks positions after refinement, 'peaks_com', and the peaks without Al, 'peaks_noAl'"
   ]
  },
  {
   "cell_type": "code",
   "execution_count": 63,
   "metadata": {},
   "outputs": [],
   "source": [
    "peaks_com_ravel = peaks_com.ravel()\n",
    "peaks_com_calibrated = np.array(list(map(\n",
    "    lambda x: (x - center) * calibration, peaks_com_ravel)), dtype='object')\n",
    "peaks_com_calibrated = np.reshape(peaks_com_calibrated, dpshape)\n",
    "\n",
    "peaks_noAl_ravel = peaks_noAl.ravel()\n",
    "peaks_noAl_calibrated = np.array(list(map(\n",
    "    lambda x: (x - center) * calibration, peaks_noAl_ravel)), dtype='object')\n",
    "peaks_noAl_calibrated = np.reshape(peaks_noAl_calibrated, dpshape)"
   ]
  },
  {
   "cell_type": "markdown",
   "metadata": {},
   "source": [
    "Save the calibrated peaks."
   ]
  },
  {
   "cell_type": "code",
   "execution_count": 66,
   "metadata": {},
   "outputs": [],
   "source": [
    "np.save(file=folder+'peaks_com_calibrated.npy', arr=peaks_com_calibrated, allow_pickle=True)\n",
    "np.save(file=folder+'peaks_noAl_calibrated.npy', arr=peaks_noAl_calibrated, allow_pickle=True)"
   ]
  }
 ],
 "metadata": {
  "kernelspec": {
   "display_name": "Python 3 (ipykernel)",
   "language": "python",
   "name": "python3"
  },
  "language_info": {
   "codemirror_mode": {
    "name": "ipython",
    "version": 3
   },
   "file_extension": ".py",
   "mimetype": "text/x-python",
   "name": "python",
   "nbconvert_exporter": "python",
   "pygments_lexer": "ipython3",
   "version": "3.8.2"
  },
  "toc": {
   "base_numbering": 1,
   "nav_menu": {},
   "number_sections": true,
   "sideBar": true,
   "skip_h1_title": false,
   "title_cell": "Table of Contents",
   "title_sidebar": "Contents",
   "toc_cell": false,
   "toc_position": {},
   "toc_section_display": true,
   "toc_window_display": false
  }
 },
 "nbformat": 4,
 "nbformat_minor": 4
}
