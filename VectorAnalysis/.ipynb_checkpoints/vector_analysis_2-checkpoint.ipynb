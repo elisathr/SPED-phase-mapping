{
 "cells": [
  {
   "cell_type": "code",
   "execution_count": 7,
   "id": "123ffde6",
   "metadata": {},
   "outputs": [],
   "source": [
    "import numpy as np\n",
    "from numpy import pi\n",
    "import hyperspy.api as hs\n",
    "import matplotlib.pyplot as plt\n",
    "import diffsims\n",
    "import diffpy\n",
    "import itertools\n",
    "from diffsims.libraries.structure_library import StructureLibrary\n",
    "\n",
    "from pyxem.signals import DiffractionVectors\n",
    "from scipy.spatial.transform import Rotation as R\n",
    "from sklearn.cluster import KMeans\n",
    "\n",
    "import timeit"
   ]
  },
  {
   "cell_type": "code",
   "execution_count": 3,
   "id": "80f3e92b",
   "metadata": {},
   "outputs": [],
   "source": [
    "# Function to convert from carthesian coordinates to polar\n",
    "def cart2pol(x, y):\n",
    "    rho = np.sqrt(x**2 + y**2)\n",
    "    phi = np.arctan2(y, x)\n",
    "    return(rho, phi)"
   ]
  },
  {
   "cell_type": "code",
   "execution_count": 8,
   "id": "b29fea5d-748f-49a9-8403-386477b1ad9e",
   "metadata": {},
   "outputs": [],
   "source": [
    "def get_points_on_zone(structure, reciprocal_radius):\n",
    "    \"\"\"Finds all reciprocal lattice points inside a given reciprocal sphere.\n",
    "    Utilises diffsims to get the structurefactors in order to find forbidden\n",
    "    lattice points for exclusion.\n",
    "\n",
    "    Parameters\n",
    "    ----------\n",
    "    structure : diffpy.Structure\n",
    "        Structure of interest.\n",
    "    reciprocal_radius  : float\n",
    "        The radius of the sphere in reciprocal space (units of reciprocal\n",
    "        Angstroms) within which reciprocal lattice points are returned.\n",
    "\n",
    "    Returns\n",
    "    -------\n",
    "    spot_indices : numpy.array\n",
    "        Miller indices of reciprocal lattice points in sphere.\n",
    "    cartesian_coordinates : numpy.array\n",
    "        Cartesian coordinates of reciprocal lattice points in sphere.\n",
    "    spot_distances : numpy.array\n",
    "        Distance of reciprocal lattice points in sphere from the origin.\n",
    "    \"\"\"\n",
    "    # Define the lattice \n",
    "    reciprocal_lattice = structure.lattice.reciprocal()\n",
    "    a, b, c = reciprocal_lattice.a, reciprocal_lattice.b, reciprocal_lattice.c\n",
    "    \n",
    "    # Define boundary of reciprocal region of interest\n",
    "    h_max = np.floor(reciprocal_radius / a)\n",
    "    k_max = np.floor(reciprocal_radius / b)\n",
    "    l_max = np.floor(reciprocal_radius / c)\n",
    "    \n",
    "    # Define grid in reciprocal space\n",
    "    h_list = np.arange(-h_max, h_max + 1)\n",
    "    k_list = np.arange(-k_max, k_max + 1)\n",
    "    l_list = np.arange(-l_max, l_max + 1)\n",
    "    \n",
    "    # Find potential Bragg points within the given region of intrest, reciprocal_radius\n",
    "    potential_points = np.asarray(list(itertools.product(h_list, k_list, l_list)))\n",
    "    in_sphere = (\n",
    "        np.abs(reciprocal_lattice.dist(potential_points, [0, 0, 0])) < reciprocal_radius\n",
    "    )\n",
    "    spot_indices = potential_points[in_sphere].astype(int)\n",
    "    cartesian_coordinates = reciprocal_lattice.cartesian(spot_indices)\n",
    "    spot_distances = reciprocal_lattice.dist(spot_indices, [0, 0, 0])\n",
    "    \n",
    "    # Use diffsims to give structure factors, see diffsims doc for more details\n",
    "    (coeffs, fcoords, occus, dwfactors) = diffsims.utils.sim_utils.get_vectorized_list_for_atomic_scattering_factors(\n",
    "        structure, {}, scattering_params='lobato')\n",
    "\n",
    "    # s is set to 0, since we are only interested in the forbidden lattice points and not the intensities of the Bragg peaks\n",
    "    # Mask out [0,0,0]\n",
    "    mask = np.sum(np.abs(spot_indices),axis=1)>0\n",
    "    spot_indices = spot_indices[mask]\n",
    "    spot_distances = spot_distances[mask]\n",
    "    cartesian_coordinates = cartesian_coordinates[mask]\n",
    "    \n",
    "    # Define intensity array, where the forbidden lattice points are low < 1e-20\n",
    "    i_hkl = np.array([])\n",
    "    \n",
    "    for hkl, g_hkl, xyz_hkl in zip(spot_indices, spot_distances, cartesian_coordinates):\n",
    "        d_hkl = 1/g_hkl\n",
    "        s = g_hkl / 2\n",
    "        s = 0.\n",
    "        s2 = s**2\n",
    "        # Vectorized computation of g.r for all fractional coords and\n",
    "        # hkl.\n",
    "        g_dot_r = np.dot(fcoords, np.transpose([hkl])).T[0]\n",
    "        # Highly vectorized computation of atomic scattering factors.\n",
    "        fs = np.sum(coeffs[:, :, 0] * np.exp(-coeffs[:, :, 1] * s2), axis=1)\n",
    "        \n",
    "        # Structure factor = sum of atomic scattering factors (with\n",
    "        # position factor exp(2j * pi * g.r and occupancies).\n",
    "        f_hkl = np.sum(fs * occus * np.exp(2j * np.pi * g_dot_r))\n",
    "        i_hkl = np.append(i_hkl,(f_hkl * f_hkl.conjugate()).real)\n",
    "    \n",
    "    \n",
    "    #mask out very low intensity peaks, these will be the forbidden ones\n",
    "    mask = i_hkl > 1e-20\n",
    "    \n",
    "    return spot_indices[mask], cartesian_coordinates[mask], spot_distances[mask]"
   ]
  },
  {
   "cell_type": "markdown",
   "id": "99b329f3-f3b2-47a1-a7d0-8a03da82f6a0",
   "metadata": {},
   "source": [
    "Definition of model parameters"
   ]
  },
  {
   "cell_type": "code",
   "execution_count": 54,
   "id": "cf02515a-fc72-453f-8420-bde053028d6c",
   "metadata": {},
   "outputs": [],
   "source": [
    "X_pix= [512,512] # nr of pixels in x,y\n",
    "direct_Al = 1 # if DP contains no more than 1 spot, it is directly deemed Al\n",
    "Add_to_DP = 4 # if DP contains less than 4 spots, then we add the real-space neighboring DPs by \"def add_nn():\"\n",
    "indirect_Al = 2 # if DP still only contains up to 2 spots, we deem it Al and that the spots are artefacts."
   ]
  },
  {
   "cell_type": "markdown",
   "id": "3dead2e1-2e88-40f9-9b09-28f2081788a0",
   "metadata": {},
   "source": [
    "Load peaks (and optionally load signal and plot peaks on signal)\\\n",
    "Find longest and shortest patternlength to calibrate"
   ]
  },
  {
   "cell_type": "code",
   "execution_count": 61,
   "id": "87f32dbd-24b4-4c60-b06a-ae244d8a86f7",
   "metadata": {},
   "outputs": [],
   "source": [
    "# Calibrated experimental Bragg peaks after peak detection\n",
    "peaks = np.load('peaks_calibrated.npy', allow_pickle=True)\n",
    "peaks = np.reshape(peaks_cali2,(512,512))\n",
    "\n",
    "# Experimental Bragg peaks with Al peaks removed\n",
    "peaks_noAl = np.load('Peaks_noAl.npy', allow_pickle=True)\n",
    "peaks_noAl = np.reshape(peaks_noAl, (512, 512))"
   ]
  },
  {
   "cell_type": "code",
   "execution_count": 60,
   "id": "7ae98009-a0f7-4aa6-93bb-2c50db31a3bb",
   "metadata": {},
   "outputs": [],
   "source": [
    "p1 = peaks_cali.copy().flatten()\n",
    "p2 = peaks_cali2.copy().flatten()\n",
    "k = 0\n",
    "for i in range(p1.shape[0]):\n",
    "    if not np.array_equal(p1[i],p2[i]):\n",
    "        print(i);break\n",
    "\n",
    "\n",
    "#print(np.sum(peaks_cali[...][...,0]) - np.sum(peaks_cali2[...,...][...,0]))"
   ]
  },
  {
   "cell_type": "code",
   "execution_count": 24,
   "id": "c1415eb8-0c2c-441d-9d4f-3fdfeb1d0531",
   "metadata": {},
   "outputs": [],
   "source": [
    "# Define \n",
    "max_tmp = 0\n",
    "ind_longest = 0\n",
    "ind_shortest = 0\n",
    "longest_len = 0\n",
    "shortest_len = 1e3\n",
    "\n",
    "for j,i in enumerate(peaks.flatten()):\n",
    "    if np.max(np.abs(i)) > max_tmp:\n",
    "        max_tmp = np.max(np.abs(i))\n",
    "    if len(i) > longest_len:\n",
    "        ind_longest = (int(np.floor(j/512)),j%512)\n",
    "        longest_len = len(i)\n",
    "    if len(i) < shortest_len:\n",
    "        ind_shortest = (int(np.floor(j/512)),j%512)\n",
    "        shortest_len = len(i)\n",
    "        \n",
    "        \n",
    "#Cheaty \"calibration\"!\n",
    "if calibration is None:\n",
    "    calibration = np.abs(peaks_noAl[ind_longest]).min()/np.abs(peaks[ind_longest]).min()"
   ]
  },
  {
   "cell_type": "markdown",
   "id": "7a872cd7-4f81-4b76-b891-a17b2cd0f010",
   "metadata": {},
   "source": [
    "Load .cif files with the structure definitions"
   ]
  },
  {
   "cell_type": "code",
   "execution_count": 63,
   "id": "da0c7213-2743-44c1-bd4f-815c754fb13a",
   "metadata": {},
   "outputs": [],
   "source": [
    "structure_Al = diffpy.structure.loadStructure('Al.cif')\n",
    "structure_T1 = diffpy.structure.loadStructure('T1.cif')\n",
    "structure_ThetaP = diffpy.structure.loadStructure('thetaprime.cif')"
   ]
  },
  {
   "cell_type": "markdown",
   "id": "d1f42bb0-df03-4882-889a-de28c739c875",
   "metadata": {},
   "source": [
    "Calculate the in-plane rotation of the experimental data"
   ]
  },
  {
   "cell_type": "code",
   "execution_count": null,
   "id": "7d6bdb04-c428-435f-8f7b-7ac56f6befd9",
   "metadata": {},
   "outputs": [],
   "source": [
    "# Get reciprocal lattice for Al and extract one plane in reciprocal space relevant for the system\n",
    "# In this case, a 001 plane is chosen and all points within a thickness of 0.2Å^-1 is chosen\n",
    "dz_Al = 0.2\n",
    "spot_indices, cartesian_coordinates, spot_distances = get_points_on_zone(structure_Al,2)\n",
    "mask = np.abs(cartesian_coordinates[...,2]) < dz / 2\n",
    "spot_indices, cartesian_coordinates, spot_distances = spot_indices[mask], cartesian_coordinates[mask], spot_distances[mask]\n",
    "\n",
    "# Calibrate the scale. This is only done once since we don't do an average orientation relationship.\n",
    "cartesian_coordinates /= spot_distances.min()/np.linalg.norm(peaks_Al,axis=1).min()\n",
    "spot_distances /= spot_distances.min()/np.linalg.norm(peaks_Al,axis=1).min()\n",
    "\n",
    "\n",
    "#Reference Al coordinates to polar\n",
    "xy = cartesian_coordinates[...,:2].copy()\n",
    "angles = np.arctan2(xy[...,0], xy[...,1])\n",
    "distance = np.linalg.norm(xy,axis=1)\n",
    "#Exp Al coordinates to polar:\n",
    "xy2 = peaks_Al.copy()\n",
    "angles2 = np.arctan2(xy2[...,0], xy2[...,1])\n",
    "distance2 = np.linalg.norm(xy2,axis=1)\n",
    "\n",
    "\n",
    "# Since Al, we expect 4 possible angles of in-plane rotation occuring often\n",
    "# Find all spots that share distance, then save their angles for possible \"symmetric\" points, only 4 spots are symmetrically invariants\n",
    "# Then cluster by KMeans all the resulting angles, which will give an average value in cluster_centers_\n",
    "# We have only used Al spots from one experimental image. Could maybe improve by using all and averaging\n",
    "# Problems can occur if there are many angles around pi, due to periodicity of the angles\n",
    "\n",
    "pos_rot = np.array([])\n",
    "for i in range(xy2.shape[0]):\n",
    "    ind_tmp = np.abs(distance-distance2[i]) < 1e-1\n",
    "    pos_rot = np.append(pos_rot, (angles[ind_tmp]-angles2[i]) - np.fix((angles[ind_tmp]-angles2[i])/pi)*2*pi)\n",
    "    \n",
    "cluster = KMeans().fit((pos_rot*180/pi).reshape(-1,1))\n",
    "\n",
    "\n",
    "number_occurances = np.bincount(cluster.labels_)\n",
    "sample_rotation = np.sort(180+cluster.cluster_centers_[(number_occurances + 4) > number_occurances.max()].flatten())[:2]"
   ]
  }
 ],
 "metadata": {
  "kernelspec": {
   "display_name": "Python [conda env:env_PhaseMapping]",
   "language": "python",
   "name": "conda-env-env_PhaseMapping-py"
  },
  "language_info": {
   "codemirror_mode": {
    "name": "ipython",
    "version": 3
   },
   "file_extension": ".py",
   "mimetype": "text/x-python",
   "name": "python",
   "nbconvert_exporter": "python",
   "pygments_lexer": "ipython3",
   "version": "3.10.9"
  }
 },
 "nbformat": 4,
 "nbformat_minor": 5
}
