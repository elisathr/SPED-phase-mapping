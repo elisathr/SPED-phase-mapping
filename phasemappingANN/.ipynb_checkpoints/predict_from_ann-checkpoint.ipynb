{
 "cells": [
  {
   "cell_type": "code",
   "execution_count": 1,
   "id": "c856ab32-26c8-49ba-8aa5-8b23883255e7",
   "metadata": {},
   "outputs": [
    {
     "name": "stderr",
     "output_type": "stream",
     "text": [
      "WARNING:silx.opencl.common:Unable to import pyOpenCl. Please install it from: https://pypi.org/project/pyopencl\n"
     ]
    }
   ],
   "source": [
    "%matplotlib tk\n",
    "\n",
    "import pyxem as px\n",
    "from diffsims import generators\n",
    "import tensorflow as tf\n",
    "import diffpy.structure\n",
    "from matplotlib import pyplot as plt\n",
    "#matplotlib.use(\"Agg\")\n",
    "import numpy as np\n",
    "import os\n",
    "import hyperspy as hs\n",
    "from tqdm import tqdm"
   ]
  },
  {
   "cell_type": "markdown",
   "id": "87f095de-4ba0-4c0d-affb-26dc4e3b5f04",
   "metadata": {},
   "source": [
    "## Load dataset and model"
   ]
  },
  {
   "cell_type": "code",
   "execution_count": null,
   "id": "3740216d-faa8-4c50-bf40-dfcf1d46681b",
   "metadata": {},
   "outputs": [],
   "source": [
    "#os.chdir('H:\\PhD\\CNN\\Elisabeth_2xxx_data\\Scan4 - Best')\n",
    "os.chdir('E:\\Elisabeth\\Al-Cu-Li-Emil\\Data')\n",
    "signal = hs.io.load('SPED_512x512x12_10x10_4p63x4p63_1deg_100Hz_CL12cm_NBD_alpha5_spot1p3_FINAL_rotated_minus60p35.hspy')\n",
    "\n",
    "#os.chdir(r'E:\\Elisabeth\\Al-Cu-Li-Emil\\Supplementary_dataset')\n",
    "#signal = hs.io.load('SPED_512x512x6_5x5_2p315x2p315_NBD_alpha5_spot1p0nm_CL12cm_1deg_100Hz_preprocessed.hspy')"
   ]
  },
  {
   "cell_type": "code",
   "execution_count": 5,
   "id": "0922a58a",
   "metadata": {},
   "outputs": [],
   "source": [
    "# Rotate dataset\n",
    "\n",
    "rot_angle = -60.35\n",
    "signal = signal.rotate_diffraction(rot_angle)"
   ]
  },
  {
   "cell_type": "code",
   "execution_count": 6,
   "id": "c09ee775-199b-45e6-a09f-4cf34163a8fc",
   "metadata": {},
   "outputs": [],
   "source": [
    "signal.plot()"
   ]
  },
  {
   "cell_type": "code",
   "execution_count": 7,
   "id": "4c6bf73d",
   "metadata": {},
   "outputs": [
    {
     "name": "stderr",
     "output_type": "stream",
     "text": [
      "WARNING:tensorflow:From C:\\Users\\NORTEM2\\conda-packed-envs\\px-tf-22-loadmodel\\Env\\lib\\site-packages\\tensorflow\\python\\ops\\init_ops.py:97: calling GlorotUniform.__init__ (from tensorflow.python.ops.init_ops) with dtype is deprecated and will be removed in a future version.\n",
      "Instructions for updating:\n",
      "Call initializer instance with the dtype argument instead of passing it to the constructor\n",
      "WARNING:tensorflow:From C:\\Users\\NORTEM2\\conda-packed-envs\\px-tf-22-loadmodel\\Env\\lib\\site-packages\\tensorflow\\python\\ops\\init_ops.py:1251: calling VarianceScaling.__init__ (from tensorflow.python.ops.init_ops) with dtype is deprecated and will be removed in a future version.\n",
      "Instructions for updating:\n",
      "Call initializer instance with the dtype argument instead of passing it to the constructor\n",
      "WARNING:tensorflow:From C:\\Users\\NORTEM2\\conda-packed-envs\\px-tf-22-loadmodel\\Env\\lib\\site-packages\\tensorflow\\python\\ops\\init_ops.py:97: calling Zeros.__init__ (from tensorflow.python.ops.init_ops) with dtype is deprecated and will be removed in a future version.\n",
      "Instructions for updating:\n",
      "Call initializer instance with the dtype argument instead of passing it to the constructor\n"
     ]
    }
   ],
   "source": [
    "directory = r'H:\\PhD\\CNN\\Emil_2xxx_data\\SPED_512x512\\models'.replace('\\\\','\\\\\\\\')\n",
    "model = tf.keras.models.load_model(directory + r'/model_final_2023')"
   ]
  },
  {
   "cell_type": "markdown",
   "id": "31655cc0-8f83-400c-acf2-909d13b244a8",
   "metadata": {},
   "source": [
    "### Preprocess experimental data"
   ]
  },
  {
   "cell_type": "code",
   "execution_count": 8,
   "id": "878a2a80-8ae7-463a-be7a-90fe46cd5771",
   "metadata": {},
   "outputs": [],
   "source": [
    "def normalize(stack, only_one_image=False):\n",
    "    ''''\n",
    "    Normalizes one or multiple DPs between [0,1].\n",
    "    \n",
    "    Parameters\n",
    "    -------\n",
    "    stack : np.array((nx,ny)) or list of np.array((nx,ny)). Single or multiple DPs to be normalized.\n",
    "    only_one_image : boolean. If set to True, stack is one image. If set to False, stack is a list of numpy arrays.\n",
    "    \n",
    "    Returns\n",
    "    -------\n",
    "    normalized_stack : numpy array with same shape as stack. \n",
    "    '''\n",
    "    normalized_stack = np.zeros_like(stack, dtype='float32')\n",
    "    if only_one_image:\n",
    "        normalized_stack = stack/(float(np.max(stack) - np.min(stack)))\n",
    "        return normalized_stack\n",
    "    \n",
    "    n_images = stack.shape[0]\n",
    "    print('Normalizing between 0 and 1..')\n",
    "    for i in tqdm(range(n_images)):\n",
    "        normalized_stack[i] = stack[i]/(float(np.max(stack[i]) - np.min(stack[i])))\n",
    "    return normalized_stack"
   ]
  },
  {
   "cell_type": "code",
   "execution_count": 9,
   "id": "5f015208-87aa-421a-bbb9-089f2ee36fde",
   "metadata": {},
   "outputs": [],
   "source": [
    "from numpy import log10\n",
    "\n",
    "def log_shift(raw,base=10,shift=0.1):\n",
    "    ''''\n",
    "    Parameters\n",
    "    -------\n",
    "    raw : np.array((nx, ny)). The raw data.\n",
    "    shift : float. Introduces a shift for the log. To account for pixels with 0 value.\n",
    "    \n",
    "    Returns\n",
    "    -------\n",
    "    log_shift : np.array((nx, ny)). The log transformation of the raw data.\n",
    "    '''\n",
    "    log_shift = log10(raw+shift) - log10(shift)\n",
    "    return log_shift"
   ]
  },
  {
   "cell_type": "code",
   "execution_count": 56,
   "id": "59e439b0-445f-4f51-a5e5-2cf3be51a74d",
   "metadata": {},
   "outputs": [],
   "source": [
    "def preprocess_NN(signal, mask_size, shift):\n",
    "    ''''\n",
    "    Preprocesses the experimental prior to NN prediction: A log shift is imposed before a mask is applied to mask out the central beam. The 4D dataset is reshaped to (nx*ny, kx, ky)\n",
    "    \n",
    "    Parameters\n",
    "    -------\n",
    "    signal : pyxem.signals.electron_diffraction2d.ElectronDiffraction2D((nx,ny,kx,ky)\n",
    "    mask_size : int - The size of the central beam mask\n",
    "    shift : float - The shift in Eq. 3.\n",
    "    \n",
    "    Returns\n",
    "    -------\n",
    "    signal_preprocessed : numpy.ndarray((nx*ny, kx, ky))\n",
    "    '''\n",
    "    central_beam_mask = px.utils.expt_utils.circular_mask((128,128), mask_size)\n",
    "    DP_scale = signal.axes_manager[2].scale\n",
    "    signal_masked_px = signal*~central_beam_mask\n",
    "    nx, ny = signal_masked_px.data.shape[0], signal_masked_px.data.shape[1]\n",
    "    kx, ky = signal_masked_px.data.shape[2], signal_masked_px.data.shape[3]\n",
    "    signal_masked = signal_masked_px.data.reshape(nx*ny, kx, ky)\n",
    "    print('Scaling the intensity..')\n",
    "    for i in tqdm(range(len(signal_masked))):\n",
    "         signal_masked[i] = log_shift(signal_masked[i], shift=shift)\n",
    "    return normalize(signal_masked)"
   ]
  },
  {
   "cell_type": "markdown",
   "id": "41ca4b4f-6e9f-42a4-846c-ea769eb173a2",
   "metadata": {},
   "source": [
    "### Predict"
   ]
  },
  {
   "cell_type": "code",
   "execution_count": 55,
   "id": "8e3fd0c7-05ef-4d1a-a2b9-375e9b71b5a7",
   "metadata": {},
   "outputs": [
    {
     "name": "stdout",
     "output_type": "stream",
     "text": [
      "Scaling the intensity..\n"
     ]
    },
    {
     "name": "stderr",
     "output_type": "stream",
     "text": [
      "100%|████████████████████████████████████████████████████████████████████████| 262144/262144 [00:26<00:00, 9809.33it/s]\n"
     ]
    },
    {
     "name": "stdout",
     "output_type": "stream",
     "text": [
      "Normalizing between 0 and 1..\n"
     ]
    },
    {
     "name": "stderr",
     "output_type": "stream",
     "text": [
      "100%|███████████████████████████████████████████████████████████████████████| 262144/262144 [00:09<00:00, 26852.16it/s]\n",
      "100%|██████████████████████████████████████████████████████████████████████| 262144/262144 [00:00<00:00, 392100.59it/s]\n"
     ]
    },
    {
     "data": {
      "text/plain": [
       "<matplotlib.image.AxesImage at 0x2575598b948>"
      ]
     },
     "execution_count": 55,
     "metadata": {},
     "output_type": "execute_result"
    }
   ],
   "source": [
    "signal_masked = preprocess_NN(signal, mask_size=11, shift=0.024)\n",
    "nx, ny = signal.data.shape[0], signal.data.shape[1]\n",
    "kx, ky = signal.data.shape[2], signal.data.shape[3]\n",
    "\n",
    "predictions = model.predict(signal_masked)\n",
    "signal_prediction = np.zeros((nx*ny))\n",
    "for i in tqdm(range(nx*ny)):\n",
    "    signal_prediction[i] = np.argmax(predictions[i])\n",
    "signal_prediction = signal_prediction.reshape(nx, ny)\n",
    "plt.close('all')\n",
    "plt.imshow(signal_prediction)\n",
    "#signal_prediction = signal_prediction.copy()"
   ]
  },
  {
   "cell_type": "code",
   "execution_count": 33,
   "id": "87b6d377-0647-4bd7-89c7-8a957cc9cb92",
   "metadata": {},
   "outputs": [],
   "source": [
    "signal_prediction_shift_2p0 = signal_prediction.copy()"
   ]
  },
  {
   "cell_type": "code",
   "execution_count": 26,
   "id": "c64d57bf-2cd8-4efb-b35f-d57730bea68a",
   "metadata": {},
   "outputs": [],
   "source": [
    "signal_prediction_shift_0p3 = signal_prediction.copy()"
   ]
  },
  {
   "cell_type": "code",
   "execution_count": 16,
   "id": "f35190eb-311b-4c92-a585-fa503c3c5e6e",
   "metadata": {},
   "outputs": [],
   "source": [
    "signal_prediction_shift_0p2 = signal_prediction.copy()"
   ]
  },
  {
   "cell_type": "code",
   "execution_count": 18,
   "id": "7bdcfb6a-39ae-4e31-ab9c-55cd842a43ea",
   "metadata": {},
   "outputs": [],
   "source": [
    "signal_prediction_shift_0p1 = signal_prediction.copy()"
   ]
  },
  {
   "cell_type": "code",
   "execution_count": 52,
   "id": "1d17691f-a04c-47ba-a956-2337ad8522fd",
   "metadata": {},
   "outputs": [
    {
     "data": {
      "text/plain": [
       "Text(0.5, 1.0, 'signal_prediction_shift_0p25')"
      ]
     },
     "execution_count": 52,
     "metadata": {},
     "output_type": "execute_result"
    }
   ],
   "source": [
    "fig,ax=plt.subplots(1,3,sharex=True,sharey=True)\n",
    "ax[0].imshow(signal_prediction_shift_0p1)\n",
    "ax[0].set_title('signal_prediction_shift_0p1')\n",
    "ax[1].imshow(signal_prediction_shift_0p2)\n",
    "ax[1].set_title('signal_prediction_shift_0p2')\n",
    "ax[2].imshow(signal_prediction_shift_0p25)\n",
    "ax[2].set_title('signal_prediction_shift_0p25')"
   ]
  },
  {
   "cell_type": "code",
   "execution_count": 13,
   "id": "d11c75b6-7ee0-40dd-a0bc-5af83bb30584",
   "metadata": {},
   "outputs": [],
   "source": [
    "import gc"
   ]
  },
  {
   "cell_type": "code",
   "execution_count": 62,
   "id": "34c3bc40-3759-4ad8-bf02-6c1057428c6c",
   "metadata": {},
   "outputs": [],
   "source": [
    "phase_map_ANN = hs.signals.Signal2D(signal_prediction)\n",
    "phase_map_ANN.save(r'H:\\PhD\\CNN\\Emil_2xxx_data\\SPED_512x512\\Final\\Phasemaps\\DatasetA\\datasetA_phase_map_ANN.hdf5')"
   ]
  },
  {
   "cell_type": "code",
   "execution_count": 202,
   "id": "53e03408-8f31-42b7-ae67-7ab2cdfa64a5",
   "metadata": {},
   "outputs": [],
   "source": [
    "phase_map_ANN.plot()"
   ]
  },
  {
   "cell_type": "code",
   "execution_count": 112,
   "id": "fbd14dbb",
   "metadata": {},
   "outputs": [],
   "source": [
    "signal.plot(navigator=hs.signals.Signal2D(signal_prediction))"
   ]
  },
  {
   "cell_type": "code",
   "execution_count": 61,
   "id": "9dbb9f6d",
   "metadata": {},
   "outputs": [
    {
     "name": "stdout",
     "output_type": "stream",
     "text": [
      "0.99%\n"
     ]
    }
   ],
   "source": [
    "error = np.count_nonzero(np.abs((phase_map_ANN-ground_truth).data))/(512*512)\n",
    "print(f'{error:.2%}')"
   ]
  },
  {
   "cell_type": "code",
   "execution_count": 212,
   "id": "c92d0277",
   "metadata": {},
   "outputs": [],
   "source": [
    "diff_template.plot()"
   ]
  },
  {
   "cell_type": "code",
   "execution_count": 10,
   "id": "51d62c9e",
   "metadata": {},
   "outputs": [
    {
     "data": {
      "text/plain": [
       "<matplotlib.image.AxesImage at 0x254c47ab488>"
      ]
     },
     "execution_count": 10,
     "metadata": {},
     "output_type": "execute_result"
    }
   ],
   "source": [
    "#misindexed = ground_truth.data == signal_prediction.data\n",
    "misindexed = ground_truth.data == phasemap_template\n",
    "plt.imshow(misindexed, cmap='Greys')"
   ]
  },
  {
   "cell_type": "code",
   "execution_count": 9,
   "id": "aeef3f09",
   "metadata": {},
   "outputs": [],
   "source": [
    "from matplotlib.colors import to_rgba\n",
    "from matplotlib.colors import LinearSegmentedColormap\n",
    "\n",
    "color_names = ['linen', 'darkorange', 'dodgerblue', 'forestgreen', 'red']\n",
    "colors = [to_rgba(c) for c in color_names]\n",
    "\n",
    "cmap = LinearSegmentedColormap.from_list('gt_cmap', colors, N=len(color_names))\n"
   ]
  },
  {
   "cell_type": "code",
   "execution_count": 127,
   "id": "8273e6f4",
   "metadata": {},
   "outputs": [
    {
     "data": {
      "text/plain": [
       "<matplotlib.image.AxesImage at 0x204e3a5d048>"
      ]
     },
     "execution_count": 127,
     "metadata": {},
     "output_type": "execute_result"
    }
   ],
   "source": [
    "GT = ground_truth.data.flatten()\n",
    "image_GT = np.zeros((512*512,4))\n",
    "for i in range(len(color_names)):\n",
    "    mask = GT == i\n",
    "    image_GT[mask] = colors[i]\n",
    "image_GT = image_GT.reshape((512,512,4))\n",
    "plt.imshow(image_GT)"
   ]
  },
  {
   "cell_type": "code",
   "execution_count": 2,
   "id": "860a8837",
   "metadata": {},
   "outputs": [],
   "source": [
    "directory = r'E:\\Elisabeth\\Al-Cu-Li-Emil\\Visualize\\phasemapping'.replace('\\\\','\\\\\\\\')"
   ]
  },
  {
   "cell_type": "code",
   "execution_count": 5,
   "id": "2ce32b85",
   "metadata": {},
   "outputs": [],
   "source": [
    "#diff_template = hs.io.load(directory + '/Difference_map_peaks_s0p023.hdf5')\n",
    "#phasemap_template =  hs.io.load(directory + '/phase_map_raw-template_S8.hdf5')\n",
    "phasemap_template = hs.io.load(directory + '/phaseMap_Almasked_DoG_shift_w_subtr0p05_indivS.hdf5')\n",
    "#diff_template = ground_truth.data == phasemap_template.data"
   ]
  },
  {
   "cell_type": "code",
   "execution_count": 155,
   "id": "900ca733",
   "metadata": {},
   "outputs": [],
   "source": [
    "#diff_nmf = hs.io.load(directory + '/SPED_600x600x12_10x10_4p63x4p63_1deg_100Hz_CL12cm_NBD_alpha5_spot1p3_preprocessed_NMF_15_poissonian_mask_NMF_15_error.hdf5')\n",
    "phasemap_nmf =hs.io.load(directory + '/SPED_600x600x12_10x10_4p63x4p63_1deg_100Hz_CL12cm_NBD_alpha5_spot1p3_preprocessed_NMF_15_poissonian_mask_NMF_15_phasemap.hdf5')"
   ]
  },
  {
   "cell_type": "code",
   "execution_count": 44,
   "id": "13cf21f2",
   "metadata": {},
   "outputs": [],
   "source": [
    "phasemap_vectors = hs.io.load(directory + '/phase_map-vectors.hdf5')"
   ]
  },
  {
   "cell_type": "code",
   "execution_count": 11,
   "id": "255cee4b",
   "metadata": {},
   "outputs": [
    {
     "name": "stdout",
     "output_type": "stream",
     "text": [
      "1.77%\n"
     ]
    }
   ],
   "source": [
    "error = np.count_nonzero(np.abs((phasemap_template-ground_truth).data))/(512*512)\n",
    "print(f'{error:.2%}')"
   ]
  },
  {
   "cell_type": "code",
   "execution_count": 42,
   "id": "27845d73",
   "metadata": {},
   "outputs": [],
   "source": [
    "phasemap_template.plot()"
   ]
  },
  {
   "cell_type": "code",
   "execution_count": 101,
   "id": "59e885ed",
   "metadata": {},
   "outputs": [
    {
     "data": {
      "text/plain": [
       "'E:\\\\\\\\Elisabeth\\\\\\\\Al-Cu-Li-Emil\\\\\\\\Visualize\\\\\\\\phasemapping\\\\\\\\For_TIT'"
      ]
     },
     "execution_count": 101,
     "metadata": {},
     "output_type": "execute_result"
    }
   ],
   "source": [
    "directory"
   ]
  },
  {
   "cell_type": "code",
   "execution_count": 7,
   "id": "d1631b68",
   "metadata": {},
   "outputs": [
    {
     "name": "stderr",
     "output_type": "stream",
     "text": [
      "C:\\Users\\NORTEM2\\conda-packed-envs\\px-tf-22-loadmodel\\Env\\lib\\site-packages\\hyperspy\\misc\\utils.py:475: VisibleDeprecationWarning: Use of the `binned` attribute in metadata is going to be deprecated in v2.0. Set the `axis.is_binned` attribute instead. \n",
      "  VisibleDeprecationWarning,\n",
      "C:\\Users\\NORTEM2\\conda-packed-envs\\px-tf-22-loadmodel\\Env\\lib\\site-packages\\hyperspy\\io.py:563: VisibleDeprecationWarning: Loading old file version. The binned attribute has been moved from metadata.Signal to axis.is_binned. Setting this attribute for all signal axes instead.\n",
      "  'signal axes instead.', VisibleDeprecationWarning)\n"
     ]
    }
   ],
   "source": [
    "ground_truth = hs.io.load(r'E:/Elisabeth/Al-Cu-Li-Emil/Ground truths/ground_truth_all1.hdf5')"
   ]
  },
  {
   "cell_type": "code",
   "execution_count": 155,
   "id": "1d4b320e",
   "metadata": {},
   "outputs": [
    {
     "name": "stdout",
     "output_type": "stream",
     "text": [
      "1.25%\n"
     ]
    }
   ],
   "source": [
    "error = np.count_nonzero(np.abs((signal_prediction-ground_truth).data))/(512*512)\n",
    "print(f'{error:.2%}')"
   ]
  },
  {
   "cell_type": "code",
   "execution_count": 71,
   "id": "95a82b1c",
   "metadata": {},
   "outputs": [],
   "source": [
    "from matplotlib.colors import to_rgba\n",
    "from matplotlib.colors import LinearSegmentedColormap\n",
    "\n",
    "color_names = ['linen', 'darkorange', 'dodgerblue', 'forestgreen']\n",
    "colors = [to_rgba(c) for c in color_names]\n",
    "\n",
    "cmap = LinearSegmentedColormap.from_list('gt_cmap', colors, N=len(color_names))\n"
   ]
  },
  {
   "cell_type": "markdown",
   "id": "35e29bab-2834-4089-acd9-c8809f934563",
   "metadata": {},
   "source": [
    "## CODE GRAVEYARD"
   ]
  },
  {
   "cell_type": "code",
   "execution_count": 207,
   "id": "37982c5c",
   "metadata": {},
   "outputs": [],
   "source": [
    "signal_T1_0p001 =  symmetric_logarithm(signal_T1, shift=0.001)"
   ]
  },
  {
   "cell_type": "code",
   "execution_count": 182,
   "id": "090285cb",
   "metadata": {},
   "outputs": [],
   "source": [
    "signal_T1 = signal_unrot.inav[6, 86]\n",
    "line_profile = hs.roi.Line2DROI(0, 100, 0, 100)"
   ]
  },
  {
   "cell_type": "code",
   "execution_count": 254,
   "id": "492e4d3d",
   "metadata": {},
   "outputs": [],
   "source": [
    "signal_T1.plot()\n",
    "line0 = line_profile.interactive(signal_T1)\n",
    "raw = hs.utils.plot.plot_spectra(line0)"
   ]
  },
  {
   "cell_type": "code",
   "execution_count": 203,
   "id": "1d0742c8",
   "metadata": {},
   "outputs": [],
   "source": [
    "signal_T1_0p1.plot()\n",
    "line0 = line_profile.interactive(signal_T1_0p1)\n",
    "log0p1 = hs.utils.plot.plot_spectra(line0)"
   ]
  },
  {
   "cell_type": "code",
   "execution_count": 206,
   "id": "c0227515",
   "metadata": {},
   "outputs": [],
   "source": [
    "signal_T1_0p01.plot()\n",
    "line0 = line_profile.interactive(signal_T1_0p01)\n",
    "log0p01 = hs.utils.plot.plot_spectra(line0)"
   ]
  },
  {
   "cell_type": "code",
   "execution_count": 208,
   "id": "9f876596",
   "metadata": {},
   "outputs": [],
   "source": [
    "signal_T1_0p001.plot()\n",
    "line0 = line_profile.interactive(signal_T1_0p001)\n",
    "log0p001 = hs.utils.plot.plot_spectra(line0)"
   ]
  },
  {
   "cell_type": "code",
   "execution_count": 283,
   "id": "84ae76ee",
   "metadata": {},
   "outputs": [],
   "source": [
    "from matplotlib import rcParams\n",
    "\n",
    "signal = signal_T1\n",
    "signal_file = '/signal_0p001'\n",
    "#signal_ = signal\n",
    "signal_.data = symmetric_logarithm(signal_T1, shift=0.001)\n",
    "signal_.data = normalize(signal_.data, only_one_image=True)\n",
    "\n",
    "signal_.plot()\n",
    "line0 = line_profile.interactive(signal_)\n",
    "linescan = hs.utils.plot.plot_spectra(line0)             \n",
    "                \n",
    "ax = linescan\n",
    "file = '/0p001'\n",
    "\n",
    "\n",
    "ax.set_xlabel('Distance [$\\\\AA^{-1}$]', fontsize=16)\n",
    "ax.set_ylabel('Intensity', fontsize=18)\n",
    "ax.axis('on')\n",
    "#ax.set_ylim([0,3.])\n",
    "#rcParams.update({'font.size': 12})\n",
    "ax.tick_params(axis='x', labelsize=18)\n",
    "ax.tick_params(axis='y', labelsize=18)\n",
    "ax.figure.savefig(directory + file, transparent=False, bbox_inches='tight', pad_inches=0,dpi=100)\n",
    "ax.figure\n",
    "\n",
    "plt.figure()\n",
    "plt.imshow(signal_, cmap='Greys')\n",
    "plt.savefig(directory + signal_file, transparent=False, bbox_inches='tight', pad_inches=0,dpi=100)"
   ]
  },
  {
   "cell_type": "code",
   "execution_count": 279,
   "id": "7b0b1de3",
   "metadata": {},
   "outputs": [
    {
     "data": {
      "image/png": "[encoded data removed]",
      "text/plain": [
       "<Figure size 640x480 with 1 Axes>"
      ]
     },
     "execution_count": 279,
     "metadata": {},
     "output_type": "execute_result"
    }
   ],
   "source": [
    "ax.figure"
   ]
  },
  {
   "cell_type": "code",
   "execution_count": 283,
   "id": "5d0af018-352c-4ed3-9db6-c99276b69c54",
   "metadata": {},
   "outputs": [],
   "source": [
    "from matplotlib_scalebar.scalebar import ScaleBar\n",
    "scalebar = ScaleBar(4.63, 'nm', location = 'lower left')\n",
    "\n",
    "from matplotlib.cm import ScalarMappable\n",
    "from matplotlib.colors import Normalize\n",
    "\n",
    "img = misindexed#signal_prediction#log_signal_unrot.inav[x,y].data#phasemap_nmf.data#signal_prediction.data\n",
    "cmap_inplot = False\n",
    "cmap_gt = False\n",
    "file_name = '/diff-template-dog.png'\n",
    "\n",
    "if cmap_gt:\n",
    "    img_flatten = img.flatten()\n",
    "    image = np.zeros((512*512,4))\n",
    "    for i in range(len(color_names)):\n",
    "        mask = img_flatten == i\n",
    "        image[mask] = colors[i]\n",
    "    image = image.reshape((512,512,4))\n",
    "else:\n",
    "    image = img\n",
    "\n",
    "#fg_color = 'white'\n",
    "#bg_color = 'black'\n",
    "\n",
    "fig,ax = plt.subplots()\n",
    "ax.axis('off')\n",
    "if cmap_gt:\n",
    "    ax.imshow(image, cmap=cmap)\n",
    "else:\n",
    "    ax.imshow(image, cmap='Greys')\n",
    "#ax.add_artist(scalebar)\n",
    "#ax.legend(['Al', 'Theta edge on', 'Theta face on', 'T1'])\n",
    "\n",
    "if cmap_inplot:\n",
    "    cmappable = ScalarMappable(norm=Normalize(0,1), cmap=cmap)\n",
    "    cbar = plt.colorbar(cmappable, orientation='horizontal', fraction=0.043, pad=0.04)\n",
    "\n",
    "    tick_locs = ((np.arange(5) + 0.5))/5\n",
    "    cbar.set_ticks(tick_locs)\n",
    "\n",
    "    cbar.ax.set_xticklabels(['Al', r\"$\\theta'_{\\langle100\\rangle}$\", r\"$\\theta'_{[001]}$\", 'T1', 'Not indexed'])\n",
    "\n",
    "    plt.setp(plt.getp(cbar.ax.axes, 'yticklabels'), fontsize=14)\n",
    "\n",
    "plt.show()\n",
    "plt.savefig(directory + file_name, transparent = True, bbox_inches = 'tight', pad_inches = 0, dpi=300)\n",
    "#ground_truth.save(directory + '/ANN_prediction.hdf5')"
   ]
  }
 ],
 "metadata": {
  "kernelspec": {
   "display_name": "Python 3 (ipykernel)",
   "language": "python",
   "name": "python3"
  },
  "language_info": {
   "codemirror_mode": {
    "name": "ipython",
    "version": 3
   },
   "file_extension": ".py",
   "mimetype": "text/x-python",
   "name": "python",
   "nbconvert_exporter": "python",
   "pygments_lexer": "ipython3",
   "version": "3.10.8"
  },
  "toc-autonumbering": false
 },
 "nbformat": 4,
 "nbformat_minor": 5
}
