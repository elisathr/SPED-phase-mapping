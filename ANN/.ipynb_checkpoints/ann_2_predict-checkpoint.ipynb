{
 "cells": [
  {
   "cell_type": "code",
   "execution_count": 1,
   "id": "c856ab32-26c8-49ba-8aa5-8b23883255e7",
   "metadata": {},
   "outputs": [
    {
     "name": "stderr",
     "output_type": "stream",
     "text": [
      "WARNING:silx.opencl.common:Unable to import pyOpenCl. Please install it from: https://pypi.org/project/pyopencl\n"
     ]
    }
   ],
   "source": [
    "%matplotlib tk\n",
    "\n",
    "import pyxem as px\n",
    "from diffsims import generators\n",
    "import tensorflow as tf\n",
    "import diffpy.structure\n",
    "from matplotlib import pyplot as plt\n",
    "#matplotlib.use(\"Agg\")\n",
    "import numpy as np\n",
    "import os\n",
    "import hyperspy as hs\n",
    "from tqdm import tqdm\n",
    "\n",
    "os.chdir('H:/phaseMapping_SPED')\n",
    "from phasemappingANN import preprocess_for_ANN as pp\n",
    "from phasemappingANN import training_data_functions as tdf"
   ]
  },
  {
   "cell_type": "code",
   "execution_count": 2,
   "id": "13b59a2e-00c0-4ac3-a32c-1c6c763b41d6",
   "metadata": {},
   "outputs": [],
   "source": [
    "from keras.models import load_model"
   ]
  },
  {
   "cell_type": "code",
   "execution_count": 3,
   "id": "f4918baa-b835-4075-8dfd-3a394faf0f52",
   "metadata": {},
   "outputs": [],
   "source": [
    "directory = r'H:\\PhD\\CNN\\Emil_2xxx_data\\SPED_512x512\\models'.replace('\\\\','\\\\\\\\')\n",
    "model = load_model(directory + r'/model_final_2023')"
   ]
  },
  {
   "cell_type": "markdown",
   "id": "87f095de-4ba0-4c0d-affb-26dc4e3b5f04",
   "metadata": {},
   "source": [
    "## Load and preprocess experimental data, load tensorflow model"
   ]
  },
  {
   "cell_type": "code",
   "execution_count": 2,
   "id": "3740216d-faa8-4c50-bf40-dfcf1d46681b",
   "metadata": {},
   "outputs": [],
   "source": [
    "os.chdir('E:\\Elisabeth\\Al-Cu-Li-Emil\\Data')\n",
    "signal = hs.io.load('SPED_512x512x12_10x10_4p63x4p63_1deg_100Hz_CL12cm_NBD_alpha5_spot1p3_FINAL_rotated_minus60p35.hspy')"
   ]
  },
  {
   "cell_type": "code",
   "execution_count": 4,
   "id": "146baf17-5ade-4f71-9aee-3d3b97252e3a",
   "metadata": {},
   "outputs": [
    {
     "name": "stdout",
     "output_type": "stream",
     "text": [
      "Rotating data..\n",
      "[########################################] | 100% Completed | 103.39 s\n",
      "Scaling the intensity..\n"
     ]
    },
    {
     "name": "stderr",
     "output_type": "stream",
     "text": [
      "100%|████████████████████████████████████████████████████████████████████████| 262144/262144 [00:45<00:00, 5737.91it/s]\n"
     ]
    },
    {
     "name": "stdout",
     "output_type": "stream",
     "text": [
      "Normalizing between 0 and 1..\n"
     ]
    },
    {
     "name": "stderr",
     "output_type": "stream",
     "text": [
      "100%|███████████████████████████████████████████████████████████████████████| 262144/262144 [00:12<00:00, 20281.51it/s]\n"
     ]
    }
   ],
   "source": [
    "rot_angle = -60.35\n",
    "mask_size = 11\n",
    "shift = 0.024\n",
    "nx, ny, kx, ky = signal.axes_manager[0].size, signal.axes_manager[1].size, signal.axes_manager[2].size, signal.axes_manager[3].size\n",
    "signal_masked = pp.preprocess_NN(signal, rot_angle, mask_size, shift)"
   ]
  },
  {
   "cell_type": "code",
   "execution_count": 3,
   "id": "4c6bf73d",
   "metadata": {},
   "outputs": [],
   "source": [
    "directory = r'H:\\PhD\\CNN\\Emil_2xxx_data\\SPED_512x512\\models'.replace('\\\\','\\\\\\\\')\n",
    "model = tf.keras.models.load_model(directory + r'/model_final_2023')"
   ]
  },
  {
   "cell_type": "markdown",
   "id": "41ca4b4f-6e9f-42a4-846c-ea769eb173a2",
   "metadata": {},
   "source": [
    "### Predict"
   ]
  },
  {
   "cell_type": "code",
   "execution_count": 7,
   "id": "8e3fd0c7-05ef-4d1a-a2b9-375e9b71b5a7",
   "metadata": {},
   "outputs": [
    {
     "name": "stdout",
     "output_type": "stream",
     "text": [
      "8192/8192 [==============================] - 937s 114ms/step\n"
     ]
    },
    {
     "name": "stderr",
     "output_type": "stream",
     "text": [
      "100%|██████████████████████████████████████████████████████████████████████| 262144/262144 [00:01<00:00, 211147.23it/s]\n"
     ]
    },
    {
     "data": {
      "text/plain": [
       "<matplotlib.image.AxesImage at 0x19d2cbff010>"
      ]
     },
     "execution_count": 7,
     "metadata": {},
     "output_type": "execute_result"
    }
   ],
   "source": [
    "nx, ny = signal.data.shape[0], signal.data.shape[1]\n",
    "kx, ky = signal.data.shape[2], signal.data.shape[3]\n",
    "\n",
    "predictions = model.predict(signal_masked)\n",
    "signal_prediction = np.zeros((nx*ny))\n",
    "for i in tqdm(range(nx*ny)):\n",
    "    signal_prediction[i] = np.argmax(predictions[i])\n",
    "signal_prediction = signal_prediction.reshape(nx, ny)\n",
    "plt.close('all')\n",
    "plt.imshow(signal_prediction)"
   ]
  },
  {
   "cell_type": "code",
   "execution_count": 62,
   "id": "34c3bc40-3759-4ad8-bf02-6c1057428c6c",
   "metadata": {},
   "outputs": [],
   "source": [
    "phase_map_ANN = hs.signals.Signal2D(signal_prediction)\n",
    "phase_map_ANN.save(r'H:\\PhD\\CNN\\Emil_2xxx_data\\SPED_512x512\\Final\\Phasemaps\\DatasetA\\datasetA_phase_map_ANN.hdf5')"
   ]
  },
  {
   "cell_type": "markdown",
   "id": "de0916b4-1339-4dab-90b7-dc0564220d06",
   "metadata": {},
   "source": [
    "### Optionally: Test values for log-shift:"
   ]
  },
  {
   "cell_type": "code",
   "execution_count": null,
   "id": "79937275-a0cc-47e4-8e93-590bbcdaf9a9",
   "metadata": {},
   "outputs": [],
   "source": [
    "shift_array = np.arange(0.02 , 0.04, 0.002)\n",
    "mask_size = 11\n",
    "errors = np.zeros_like(shift_array)\n",
    "ground_truth = hs.io.load(r'H:\\Ground truths\\New-ground-truth\\ground_truth_all.hdf5')\n",
    "\n",
    "for ind, shift in enumerate(shift_array):\n",
    "    signal_masked = pp.preprocess_NN(signal, rot_angle, mask_size, shift)\n",
    "    print('predicting..')\n",
    "    predictions = model.predict(signal_masked, batch_size=2048)\n",
    "    signal_prediction = np.zeros((nx*ny))\n",
    "    print('creating phase map')\n",
    "    for pixel in tqdm(range(nx*ny)):\n",
    "        signal_prediction[pixel] = np.argmax(predictions[pixel])\n",
    "    signal_prediction = signal_prediction.reshape(nx, ny)\n",
    "    phase_map_ANN = hs.signals.Signal2D(signal_prediction)\n",
    "    error = np.count_nonzero(np.abs((phase_map_ANN-ground_truth).data))/(512*512)\n",
    "    errors[ind] = error\n",
    "    print('Error: {}% when shift = {}'.format(error*100, shift))\n",
    "    del signal_masked\n",
    "    gc.collect()\n",
    "\n",
    "limit = 0.00001\n",
    "index = np.ma.MaskedArray(errors, errors < limit)\n",
    "index = np.ma.argmin(index)\n",
    "print('Lowest error: {}% when shift = {}'.format(errors[index]*100, shift_array[index]))"
   ]
  }
 ],
 "metadata": {
  "kernelspec": {
   "display_name": "Python 3 (ipykernel)",
   "language": "python",
   "name": "python3"
  },
  "language_info": {
   "codemirror_mode": {
    "name": "ipython",
    "version": 3
   },
   "file_extension": ".py",
   "mimetype": "text/x-python",
   "name": "python",
   "nbconvert_exporter": "python",
   "pygments_lexer": "ipython3",
   "version": "3.10.8"
  },
  "toc-autonumbering": false
 },
 "nbformat": 4,
 "nbformat_minor": 5
}
