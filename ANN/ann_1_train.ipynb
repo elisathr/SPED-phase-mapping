{
 "cells": [
  {
   "cell_type": "code",
   "execution_count": 1,
   "id": "bec836a5-54b1-4cdf-b454-2be5e4c21ab4",
   "metadata": {},
   "outputs": [
    {
     "name": "stderr",
     "output_type": "stream",
     "text": [
      "WARNING:silx.opencl.common:Unable to import pyOpenCl. Please install it from: https://pypi.org/project/pyopencl\n"
     ]
    }
   ],
   "source": [
    "%matplotlib tk\n",
    "\n",
    "import pyxem as px\n",
    "from diffsims import generators\n",
    "import tensorflow as tf\n",
    "import diffpy.structure\n",
    "from matplotlib import pyplot as plt\n",
    "import numpy as np\n",
    "import hyperspy as hs\n",
    "from tqdm import tqdm\n",
    "from diffpy.structure import loadStructure\n",
    "import gc\n",
    "import os\n",
    "\n",
    "os.chdir('H:/phaseMapping_SPED')\n",
    "from phasemappingANN import preprocess_for_ANN as pp\n",
    "from phasemappingANN import training_data_functions as tdf"
   ]
  },
  {
   "cell_type": "markdown",
   "id": "38a23be8-48d5-4b76-8d6a-4b62becd2ec1",
   "metadata": {},
   "source": [
    "### Import experimental data"
   ]
  },
  {
   "cell_type": "code",
   "execution_count": 2,
   "id": "e0ce35bc-eac1-45af-a81b-e825d200ea69",
   "metadata": {},
   "outputs": [],
   "source": [
    "os.chdir(r'E:\\Elisabeth\\Al-Cu-Li-Emil\\Data'.replace('\\\\', '\\\\\\\\'))\n",
    "signal = hs.io.load(r'SPED_600x600x12_10x10_4p63x4p63_1deg_100Hz_CL12cm_NBD_alpha5_spot1p3_preprocessed.hspy', lazy=True)"
   ]
  },
  {
   "cell_type": "markdown",
   "id": "128a80bf-ff1e-4f8d-841e-09eac565fe24",
   "metadata": {},
   "source": [
    "### Load and create structures"
   ]
  },
  {
   "cell_type": "code",
   "execution_count": 3,
   "id": "b06af478-1b81-47df-aee4-075b2da49e96",
   "metadata": {},
   "outputs": [
    {
     "name": "stdout",
     "output_type": "stream",
     "text": [
      "Lattice vectors: theta prime: Lattice(a=4.04, b=4.04, c=5.8, alpha=90, beta=90, gamma=90), T1: Lattice(a=4.94775, b=4.94775, c=14.145, alpha=90, beta=90, gamma=120).\n"
     ]
    }
   ],
   "source": [
    "os.chdir(r'H:\\PhD\\CNN\\Models\\Precipitates'.replace('\\\\', '\\\\\\\\'))\n",
    "\n",
    "thetaprime = loadStructure('thetaprime.cif', fmt=\"cif\")\n",
    "T1 = loadStructure('T1-a_Al-4p04.cif', fmt=\"cif\")\n",
    "print('Lattice vectors: theta prime: {}, T1: {}.'.format(thetaprime.lattice, T1.lattice))"
   ]
  },
  {
   "cell_type": "markdown",
   "id": "cdf942f7-d300-4a49-8dba-56f55d6e1ed7",
   "metadata": {},
   "source": [
    "### Create training set"
   ]
  },
  {
   "cell_type": "code",
   "execution_count": 4,
   "id": "8879bc6c-d9f1-405e-8879-1657a99fa8f5",
   "metadata": {},
   "outputs": [],
   "source": [
    "def simulate(structure, label, DP_scale, weight, num_iterations, euler_angles, HT, relrods, relrods_Al):\n",
    "    ''''\n",
    "    Parameters\n",
    "    --------\n",
    "    structure : The structure to be simulated. If 'Al', the Al structure will be created inside the function to vary the lattice parameters to account for strain\n",
    "    label : int - The label of the structure\n",
    "    DP_scale : float\n",
    "    weigt : float\n",
    "    num_iterations : int - The number of simulations per structure\n",
    "    euler_angles : List holding all three euler angles\n",
    "    HT : int - The high tension voltage used in the TEM experiments\n",
    "    relrods : A list holding the lower and upper value for the excitation error for each precipitate\n",
    "    relrods_Al : A list holding the lower and upper value for the excitation error for Al\n",
    "    \n",
    "    Returns:\n",
    "    patterns : A list with length num_iterations holding the simulated patterns of structure\n",
    "    labels : A list with length num_iterations holding the labels of structure\n",
    "    '''\n",
    "    central_beam_mask = px.utils.expt_utils.circular_mask((128,128), 11)\n",
    "    ediff = generators.diffraction_generator.DiffractionGenerator(HT, shape_factor_model='lorentzian')\n",
    "    \n",
    "    #Ensure that we have the same amount of simulated patterns per zone axis of precipitates:\n",
    "    if structure == structure_thetaprime_100:\n",
    "        num_iterations = int(num_iterations/2)\n",
    "\n",
    "    elif structure == structure_T1:\n",
    "        num_iterations = int(num_iterations/2)\n",
    "    \n",
    "    labels = np.zeros((num_iterations), dtype='int')\n",
    "    patterns = np.zeros((num_iterations, 128, 128), dtype='float32')\n",
    "    \n",
    "    for i in range(num_iterations):\n",
    "        # Simulation parameters:\n",
    "        phi_A = 3 * (np.random.rand() - 0.5) # Slightly change the in-plane rotation\n",
    "        phi_T = 4*(np.random.rand() - 0.5) # Slightly change the sample tilt\n",
    "        rand_eulerx =4*(np.random.rand() - 0.5)\n",
    "        \n",
    "        weight_effective = (weight[1] - weight[0]) * np.random.random_sample() + weight[0] # Varies the weighting between Al and precipitate\n",
    "        sim = 1.9 + (np.random.rand()-0.5)*0.6 # Varies the size of the diffracted reflections\n",
    "        relrod = (relrods[0] - relrods[1]) * np.random.random_sample() + relrods[1] # Varies the excitation error for the precipitates\n",
    "        relrod_Al = (relrods_Al[0] - relrods_Al[1]) * np.random.random_sample() + relrods_Al[1] # Varies the excitation error for Al\n",
    "        \n",
    "        # Account for all the orientation relationships of the precipitates:\n",
    "        if structure != 'Al':\n",
    "            diffraction_Al = ediff.calculate_ed_data(tdf.structure_Al(), reciprocal_radius=reciprocal_radius, max_excitation_error=relrod_Al, with_direct_beam=False,\n",
    "                                             rotation=(phi_A, rand_eulerx, phi_T))\n",
    "            diffraction_Al.calibration = DP_scale\n",
    "            pattern_Al = diffraction_Al.get_diffraction_pattern((128, 128), sigma=sim)\n",
    "            diffraction_preci = ediff.calculate_ed_data(structure, reciprocal_radius=reciprocal_radius, max_excitation_error=relrod, with_direct_beam=False,\n",
    "                                                  rotation=(phi_A + euler_angles[0], rand_eulerx + euler_angles[1], phi_T + euler_angles[2]))\n",
    "            diffraction_preci.calibration = DP_scale\n",
    "            pattern_preci = diffraction_preci.get_diffraction_pattern((128, 128), sigma=sim)\n",
    "            pattern_preci = np.average(np.array([pattern_preci, weight_effective*pattern_Al]),axis=0)\n",
    "        else:\n",
    "            diffraction_Al = ediff.calculate_ed_data(tdf.structure_Al(), reciprocal_radius=reciprocal_radius, max_excitation_error=relrod_Al, with_direct_beam=False,\n",
    "                                             rotation=(phi_A, rand_eulerx, phi_T)) \n",
    "            diffraction_Al.calibration = DP_scale\n",
    "            pattern_Al = diffraction_Al.get_diffraction_pattern((128,128), sigma=sim)\n",
    "            pattern_preci = pattern_Al\n",
    "        pattern_preci = pp.normalize(pattern_preci, only_one_image=True)\n",
    "        pattern_preci = tdf.poisson_noise(pattern_preci)\n",
    "        pattern_preci = tdf.gaussian_noise(pattern_preci)\n",
    "        pattern_preci = tdf.radial_noise(pattern_preci, plot=False)\n",
    "        pattern_preci = pp.log_shift(pattern_preci, shift=((0.10 - 0.01) * np.random.random_sample() + 0.01)) #0.15 - 0.01\n",
    "        pattern_preci = pp.normalize(pattern_preci, only_one_image=True)\n",
    "        pattern_preci = pattern_preci * ~central_beam_mask\n",
    "        pattern_preci = pattern_preci.astype('float32')\n",
    "        patterns[i] = pattern_preci\n",
    "        labels[i] = label\n",
    "    return patterns, labels"
   ]
  },
  {
   "cell_type": "code",
   "execution_count": 6,
   "id": "32a0656e-e52e-4e88-9ac6-26be5311c750",
   "metadata": {},
   "outputs": [
    {
     "name": "stdout",
     "output_type": "stream",
     "text": [
      "Starting simulations..\n",
      "Simulation bulk nr  0\n",
      "Simulation bulk nr  1\n",
      "Simulation bulk nr  2\n",
      "Simulation bulk nr  3\n",
      "Simulation bulk nr  4\n",
      "Simulation bulk nr  5\n"
     ]
    }
   ],
   "source": [
    "structure_thetaprime_100 = thetaprime.copy()\n",
    "structure_thetaprime_001 = thetaprime.copy()\n",
    "structure_T1 = T1.copy()\n",
    "\n",
    "# Calibrate reciprocal space\n",
    "target_pattern_dimensions_pixels = signal.axes_manager[2].size\n",
    "half_size = target_pattern_dimensions_pixels//2\n",
    "DP_scale = signal.axes_manager[2].scale\n",
    "reciprocal_radius = DP_scale*(half_size-1)\n",
    "\n",
    "print('Starting simulations..')\n",
    "\n",
    "structures = ['Al', structure_thetaprime_100, structure_thetaprime_100, structure_thetaprime_001, structure_T1, structure_T1]\n",
    "structure_labels = np.array([0, 1, 1, 2, 3, 3], dtype='int')\n",
    "num_iter = 10000\n",
    "\n",
    "euler_angles = [[0, 0, 0], [0, 90, 0], [90, 90, 0], [0, 0, 0], [45, 54.7, 60], [-45, 54.7, 60]]\n",
    "weight = [[1,1], [1 ,10], [1, 10],  [1., 50], [1., 550], [1., 550]] #600 T1 #faceon 28 # edgeon 1 10\n",
    "relrods = [[0.11, 0.04], [0.3, 0.02], [0.3, 0.02], [0.15, 0.02], [0.15, 0.01],  [0.15, 0.01]]\n",
    "relrod_Al = [0.15, 0.02]\n",
    "\n",
    "for i in range(len(structures)):\n",
    "    print('Simulation bulk nr ', i)\n",
    "    patterns, labels = simulate(structure=structures[i], label=structure_labels[i], DP_scale=DP_scale, weight = weight[i], \n",
    "                                num_iterations=num_iter, euler_angles=euler_angles[i], HT=200, \n",
    "                                relrods = relrods[i], relrods_Al=relrod_Al)\n",
    "    if i == 0:\n",
    "        all_patterns, all_labels = patterns.copy(), labels.copy()\n",
    "    else:\n",
    "        all_patterns = np.concatenate((all_patterns, patterns))\n",
    "        all_labels = np.concatenate((all_labels, labels))"
   ]
  },
  {
   "cell_type": "markdown",
   "id": "ba8b0821-5230-435d-9af7-cee74628d10e",
   "metadata": {},
   "source": [
    "### Split into training, validation and test set"
   ]
  },
  {
   "cell_type": "code",
   "execution_count": 17,
   "id": "4da69f80-1b20-41b2-8f9d-bbb4d1a24c72",
   "metadata": {},
   "outputs": [
    {
     "name": "stdout",
     "output_type": "stream",
     "text": [
      "Total number of patterns: 40000. Patterns in train set: 32000. Patterns in validation set: 4000. Patterns in test set: 4000\n"
     ]
    }
   ],
   "source": [
    "from sklearn.utils import shuffle\n",
    "from sklearn.model_selection import train_test_split\n",
    "\n",
    "num_patterns = len(all_patterns)\n",
    "all_labels_shuffled = []\n",
    "all_patterns_shuffled = []\n",
    "\n",
    "all_labels_shuffled, all_patterns_shuffled = shuffle(all_labels, all_patterns)\n",
    "\n",
    "train_size = 0.8\n",
    "\n",
    "train_data, rem_data, train_label, rem_label = train_test_split(all_patterns_shuffled, all_labels_shuffled,\n",
    "                                                               train_size=train_size)\n",
    "\n",
    "test_size = 0.5\n",
    "test_data, val_data, test_label, val_label = train_test_split(rem_data, rem_label, train_size=test_size)\n",
    "\n",
    "test_data, val_data, train_data, test_label, val_label, train_label = np.asarray(test_data), np.asarray(val_data), np.asarray(train_data), np.asarray(test_label), np.asarray(val_label), np.asarray(train_label)\n",
    "\n",
    "\n",
    "print('Total number of patterns: {}. Patterns in train set: {}. Patterns in validation set: {}. Patterns in test set: {}'.format(all_patterns.shape[0],train_data.shape[0], val_data.shape[0], test_data.shape[0]))"
   ]
  },
  {
   "cell_type": "markdown",
   "id": "d9638b3a-0e9d-4a6a-abd9-85f4251c49f9",
   "metadata": {},
   "source": [
    "## Train neural network"
   ]
  },
  {
   "cell_type": "code",
   "execution_count": 16,
   "id": "34b120a7-0dbf-43f5-b953-0ddeb7265d63",
   "metadata": {},
   "outputs": [],
   "source": [
    "initializer =  tf.compat.v1.initializers.glorot_uniform()\n",
    "model = tf.keras.models.Sequential([\n",
    "  tf.keras.layers.Flatten(input_shape=(128, 128)),\n",
    "  tf.keras.layers.Dense(1800, activation='tanh', kernel_initializer=initializer),\n",
    "  tf.keras.layers.Dropout(0.2),\n",
    "  tf.keras.layers.Dense(4, activation='softmax')\n",
    "])\n",
    "\n",
    "model.compile(optimizer='Adamax',\n",
    "              loss='sparse_categorical_crossentropy',\n",
    "              metrics=['accuracy'])"
   ]
  },
  {
   "cell_type": "code",
   "execution_count": 18,
   "id": "a2c4f05d-579c-43df-adbe-5feadf6d49a9",
   "metadata": {},
   "outputs": [],
   "source": [
    "earlystopping = tf.keras.callbacks.EarlyStopping(monitor =\"val_loss\", \n",
    "                                        mode =\"min\", patience = 5, \n",
    "                                        restore_best_weights = True)\n",
    "\n",
    "reduce_lr =  tf.keras.callbacks.ReduceLROnPlateau(monitor='val_loss', factor=0.2,\n",
    "                              patience=3, min_lr=0.001)"
   ]
  },
  {
   "cell_type": "code",
   "execution_count": 19,
   "id": "ba437cb4-40f4-4cd8-9253-92cc387cc96e",
   "metadata": {},
   "outputs": [
    {
     "name": "stdout",
     "output_type": "stream",
     "text": [
      "Epoch 1/30\n",
      "1000/1000 [==============================] - 174s 174ms/step - loss: 0.7743 - accuracy: 0.6554 - val_loss: 0.4708 - val_accuracy: 0.7768 - lr: 0.0010\n",
      "Epoch 2/30\n",
      "1000/1000 [==============================] - 173s 173ms/step - loss: 0.4274 - accuracy: 0.8191 - val_loss: 0.2863 - val_accuracy: 0.9385 - lr: 0.0010\n",
      "Epoch 3/30\n",
      "1000/1000 [==============================] - 174s 174ms/step - loss: 0.2911 - accuracy: 0.8859 - val_loss: 0.2139 - val_accuracy: 0.9225 - lr: 0.0010\n",
      "Epoch 4/30\n",
      "1000/1000 [==============================] - 175s 175ms/step - loss: 0.2010 - accuracy: 0.9303 - val_loss: 0.3343 - val_accuracy: 0.8692 - lr: 0.0010\n",
      "Epoch 5/30\n",
      "1000/1000 [==============================] - 174s 174ms/step - loss: 0.1560 - accuracy: 0.9491 - val_loss: 0.1987 - val_accuracy: 0.9080 - lr: 0.0010\n",
      "Epoch 6/30\n",
      "1000/1000 [==============================] - 173s 173ms/step - loss: 0.1289 - accuracy: 0.9579 - val_loss: 0.1008 - val_accuracy: 0.9800 - lr: 0.0010\n",
      "Epoch 7/30\n",
      "1000/1000 [==============================] - 174s 174ms/step - loss: 0.1010 - accuracy: 0.9673 - val_loss: 0.1906 - val_accuracy: 0.9105 - lr: 0.0010\n",
      "Epoch 8/30\n",
      "1000/1000 [==============================] - 171s 171ms/step - loss: 0.1029 - accuracy: 0.9647 - val_loss: 0.0881 - val_accuracy: 0.9750 - lr: 0.0010\n",
      "Epoch 9/30\n",
      "1000/1000 [==============================] - 172s 172ms/step - loss: 0.0826 - accuracy: 0.9728 - val_loss: 0.1289 - val_accuracy: 0.9557 - lr: 0.0010\n",
      "Epoch 10/30\n",
      "1000/1000 [==============================] - 176s 176ms/step - loss: 0.0798 - accuracy: 0.9740 - val_loss: 0.1660 - val_accuracy: 0.9265 - lr: 0.0010\n",
      "Epoch 11/30\n",
      "1000/1000 [==============================] - 172s 172ms/step - loss: 0.0762 - accuracy: 0.9749 - val_loss: 0.0749 - val_accuracy: 0.9758 - lr: 0.0010\n",
      "Epoch 12/30\n",
      "1000/1000 [==============================] - 174s 174ms/step - loss: 0.0646 - accuracy: 0.9794 - val_loss: 0.1015 - val_accuracy: 0.9600 - lr: 0.0010\n",
      "Epoch 13/30\n",
      "1000/1000 [==============================] - 172s 172ms/step - loss: 0.0478 - accuracy: 0.9862 - val_loss: 0.1889 - val_accuracy: 0.9202 - lr: 0.0010\n",
      "Epoch 14/30\n",
      "1000/1000 [==============================] - 173s 174ms/step - loss: 0.0469 - accuracy: 0.9857 - val_loss: 0.1272 - val_accuracy: 0.9503 - lr: 0.0010\n",
      "Epoch 15/30\n",
      "1000/1000 [==============================] - 173s 173ms/step - loss: 0.0512 - accuracy: 0.9829 - val_loss: 0.0620 - val_accuracy: 0.9805 - lr: 0.0010\n",
      "Epoch 16/30\n",
      "1000/1000 [==============================] - 172s 172ms/step - loss: 0.0374 - accuracy: 0.9882 - val_loss: 0.2701 - val_accuracy: 0.9275 - lr: 0.0010\n",
      "Epoch 17/30\n",
      "1000/1000 [==============================] - 174s 174ms/step - loss: 0.0311 - accuracy: 0.9912 - val_loss: 0.3045 - val_accuracy: 0.9137 - lr: 0.0010\n",
      "Epoch 18/30\n",
      "1000/1000 [==============================] - 172s 172ms/step - loss: 0.0440 - accuracy: 0.9863 - val_loss: 0.1357 - val_accuracy: 0.9550 - lr: 0.0010\n",
      "Epoch 19/30\n",
      "1000/1000 [==============================] - 173s 173ms/step - loss: 0.0318 - accuracy: 0.9907 - val_loss: 0.0405 - val_accuracy: 0.9880 - lr: 0.0010\n",
      "Epoch 20/30\n",
      "1000/1000 [==============================] - 175s 175ms/step - loss: 0.0207 - accuracy: 0.9935 - val_loss: 0.1105 - val_accuracy: 0.9565 - lr: 0.0010\n",
      "Epoch 21/30\n",
      "1000/1000 [==============================] - 171s 171ms/step - loss: 0.0160 - accuracy: 0.9957 - val_loss: 0.0522 - val_accuracy: 0.9830 - lr: 0.0010\n",
      "Epoch 22/30\n",
      "1000/1000 [==============================] - 176s 176ms/step - loss: 0.0333 - accuracy: 0.9891 - val_loss: 0.0447 - val_accuracy: 0.9868 - lr: 0.0010\n",
      "Epoch 23/30\n",
      "1000/1000 [==============================] - 213s 214ms/step - loss: 0.0268 - accuracy: 0.9928 - val_loss: 0.0502 - val_accuracy: 0.9825 - lr: 0.0010\n",
      "Epoch 24/30\n",
      "1000/1000 [==============================] - 248s 248ms/step - loss: 0.0116 - accuracy: 0.9973 - val_loss: 0.0357 - val_accuracy: 0.9893 - lr: 0.0010\n",
      "Epoch 25/30\n",
      "1000/1000 [==============================] - 228s 228ms/step - loss: 0.0227 - accuracy: 0.9941 - val_loss: 0.0517 - val_accuracy: 0.9812 - lr: 0.0010\n",
      "Epoch 26/30\n",
      "1000/1000 [==============================] - 242s 242ms/step - loss: 0.0229 - accuracy: 0.9936 - val_loss: 0.0716 - val_accuracy: 0.9755 - lr: 0.0010\n",
      "Epoch 27/30\n",
      "1000/1000 [==============================] - 244s 244ms/step - loss: 0.0191 - accuracy: 0.9945 - val_loss: 0.0525 - val_accuracy: 0.9822 - lr: 0.0010\n",
      "Epoch 28/30\n",
      "1000/1000 [==============================] - 240s 240ms/step - loss: 0.0145 - accuracy: 0.9960 - val_loss: 0.0711 - val_accuracy: 0.9770 - lr: 0.0010\n",
      "Epoch 29/30\n",
      "1000/1000 [==============================] - 242s 242ms/step - loss: 0.0189 - accuracy: 0.9942 - val_loss: 0.0637 - val_accuracy: 0.9772 - lr: 0.0010\n",
      "125/125 [==============================] - 20s 160ms/step - loss: 0.0377 - accuracy: 0.9880\n"
     ]
    },
    {
     "data": {
      "text/plain": [
       "[0.03773012012243271, 0.9879999756813049]"
      ]
     },
     "execution_count": 19,
     "metadata": {},
     "output_type": "execute_result"
    }
   ],
   "source": [
    "model.fit(train_data, train_label, epochs=30, validation_data=(val_data, val_label), callbacks=[earlystopping, reduce_lr]) #20\n",
    "model.evaluate(test_data, test_label)"
   ]
  },
  {
   "cell_type": "code",
   "execution_count": null,
   "id": "169b79c4-15c1-4425-abf0-b0eb7db8db1e",
   "metadata": {},
   "outputs": [],
   "source": [
    "directory = r'H:\\PhD\\CNN\\Emil_2xxx_data\\SPED_512x512\\models'.replace('\\\\','\\\\\\\\')\n",
    "model.save(directory + '/model_test_2023')"
   ]
  }
 ],
 "metadata": {
  "kernelspec": {
   "display_name": "Python 3 (ipykernel)",
   "language": "python",
   "name": "python3"
  },
  "language_info": {
   "codemirror_mode": {
    "name": "ipython",
    "version": 3
   },
   "file_extension": ".py",
   "mimetype": "text/x-python",
   "name": "python",
   "nbconvert_exporter": "python",
   "pygments_lexer": "ipython3",
   "version": "3.10.8"
  }
 },
 "nbformat": 4,
 "nbformat_minor": 5
}
